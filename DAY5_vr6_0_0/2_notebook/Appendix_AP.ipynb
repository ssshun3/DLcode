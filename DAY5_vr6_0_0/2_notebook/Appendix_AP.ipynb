{
 "cells": [
  {
   "cell_type": "markdown",
   "metadata": {},
   "source": [
    "## AP (Average Precision) の計算方法を確認する"
   ]
  },
  {
   "cell_type": "code",
   "execution_count": 1,
   "metadata": {},
   "outputs": [],
   "source": [
    "import pandas as pd\n",
    "import numpy as np\n",
    "import matplotlib.pyplot as plt\n",
    "from IPython.display import display\n",
    "coord_cols = [\"ymin\",\"xmin\",\"ymax\",\"xmax\"]"
   ]
  },
  {
   "cell_type": "markdown",
   "metadata": {},
   "source": [
    "### Numpy関数の動作確認"
   ]
  },
  {
   "cell_type": "code",
   "execution_count": 2,
   "metadata": {},
   "outputs": [
    {
     "name": "stdout",
     "output_type": "stream",
     "text": [
      "7.0 \n",
      "\n",
      "15 \n",
      "\n",
      "[2 5 4] \n",
      "\n",
      "[[2 5 4]\n",
      " [3 6 4]] \n",
      "\n",
      "(2, 3) (2, 1, 3) \n",
      "\n",
      "[[[2 5 3]\n",
      "  [1 5 2]\n",
      "  [1 5 7]]\n",
      "\n",
      " [[3 6 3]\n",
      "  [3 6 1]\n",
      "  [3 6 7]]] \n",
      "\n",
      "[0 3 1 2] \n",
      "\n",
      "[0 2] \n",
      "\n",
      "[0. 1. 5. 0.] \n",
      "\n"
     ]
    }
   ],
   "source": [
    "# np.prodの動作確認\n",
    "print(np.prod((2,3.5)), \"\\n\") #tuple内の数値を掛け算する\n",
    "print(np.prod((3,5)), \"\\n\")\n",
    "\n",
    "# np.maximumの動作確認\n",
    "a = np.array([2, 3, 4])\n",
    "b = np.array([1, 5, 2])\n",
    "c = np.array([[1, 5, 2],[3, 6, 0]])\n",
    "d = np.array([[2, 0, 3],[1, 5, 1],[1, 0, 7]])\n",
    "print(np.maximum(a,b), \"\\n\")\n",
    "print(np.maximum(a,c), \"\\n\")\n",
    "print(c.shape, c[:,None,:].shape, \"\\n\")\n",
    "print(np.maximum(c[:,None,:], d), \"\\n\") # 全ての組み合わせ(ここでは6パターン)のmaximumを計算できる\n",
    "\n",
    "# np.argsortの動作確認\n",
    "score = np.array([0.9, 0.4, 0.35, 0.6])\n",
    "print(np.argsort(score)[::-1], \"\\n\") # 降順のインデックスを返す\n",
    "\n",
    "# np.whereの動作確認\n",
    "selec = np.array([True, False,True])\n",
    "print(np.where(selec)[0], \"\\n\") # Trueのインデックスを返す\n",
    "\n",
    "# np.nan_to_numの動作確認\n",
    "print(np.nan_to_num([np.nan, 1, 5, np.nan]), \"\\n\") # nanを0に置き換える"
   ]
  },
  {
   "cell_type": "markdown",
   "metadata": {},
   "source": [
    "### バウンディングボックスを可視化するための関数"
   ]
  },
  {
   "cell_type": "code",
   "execution_count": 3,
   "metadata": {},
   "outputs": [],
   "source": [
    "def viz(df_bbox_a, df_bbox_b, title=None):\n",
    "    \"\"\"\n",
    "    バウンディングボックスを可視化するための関数\n",
    "    \"\"\"    \n",
    "    plt.figure(figsize=(5.3,4.9))\n",
    "    \n",
    "    for i in range(2):\n",
    "        if i==0:\n",
    "            df = df_bbox_a\n",
    "            clr = \"red\"\n",
    "        elif i==1:\n",
    "            df = df_bbox_b\n",
    "            clr = \"green\"\n",
    "            \n",
    "        for ind, rows in df.iterrows():\n",
    "            rec = plt.Rectangle(xy=[rows[\"xmin\"], rows[\"ymin\"]],\n",
    "                                              width=rows[\"xmax\"]-rows[\"xmin\"],\n",
    "                                              height=rows[\"ymax\"]-rows[\"ymin\"],\n",
    "                                              fill=False, edgecolor=clr, linestyle=\"--\") \n",
    "            plt.gca().add_patch(rec)\n",
    "\n",
    "    plt.ylim([0,5])\n",
    "    plt.xlim([0,5])\n",
    "    plt.ylabel(\"y\")\n",
    "    plt.xlabel(\"x\")\n",
    "    plt.title(title)\n",
    "    plt.show()"
   ]
  },
  {
   "cell_type": "markdown",
   "metadata": {},
   "source": [
    "### 動作確認用データの用意 その1"
   ]
  },
  {
   "cell_type": "code",
   "execution_count": 4,
   "metadata": {},
   "outputs": [
    {
     "data": {
      "text/html": [
       "<div>\n",
       "<style scoped>\n",
       "    .dataframe tbody tr th:only-of-type {\n",
       "        vertical-align: middle;\n",
       "    }\n",
       "\n",
       "    .dataframe tbody tr th {\n",
       "        vertical-align: top;\n",
       "    }\n",
       "\n",
       "    .dataframe thead th {\n",
       "        text-align: right;\n",
       "    }\n",
       "</style>\n",
       "<table border=\"1\" class=\"dataframe\">\n",
       "  <thead>\n",
       "    <tr style=\"text-align: right;\">\n",
       "      <th></th>\n",
       "      <th>ymin</th>\n",
       "      <th>xmin</th>\n",
       "      <th>ymax</th>\n",
       "      <th>xmax</th>\n",
       "      <th>score</th>\n",
       "    </tr>\n",
       "  </thead>\n",
       "  <tbody>\n",
       "    <tr>\n",
       "      <th>bbox_pred1</th>\n",
       "      <td>1.00</td>\n",
       "      <td>1.00</td>\n",
       "      <td>2.00</td>\n",
       "      <td>2.00</td>\n",
       "      <td>0.90</td>\n",
       "    </tr>\n",
       "    <tr>\n",
       "      <th>bbox_pred2</th>\n",
       "      <td>2.00</td>\n",
       "      <td>2.00</td>\n",
       "      <td>3.00</td>\n",
       "      <td>3.00</td>\n",
       "      <td>0.40</td>\n",
       "    </tr>\n",
       "    <tr>\n",
       "      <th>bbox_pred3</th>\n",
       "      <td>2.10</td>\n",
       "      <td>2.10</td>\n",
       "      <td>3.10</td>\n",
       "      <td>3.10</td>\n",
       "      <td>0.35</td>\n",
       "    </tr>\n",
       "    <tr>\n",
       "      <th>bbox_pred4</th>\n",
       "      <td>2.25</td>\n",
       "      <td>1.25</td>\n",
       "      <td>2.75</td>\n",
       "      <td>1.75</td>\n",
       "      <td>0.60</td>\n",
       "    </tr>\n",
       "    <tr>\n",
       "      <th>bbox_pred5</th>\n",
       "      <td>1.40</td>\n",
       "      <td>0.40</td>\n",
       "      <td>2.40</td>\n",
       "      <td>1.40</td>\n",
       "      <td>0.95</td>\n",
       "    </tr>\n",
       "  </tbody>\n",
       "</table>\n",
       "</div>"
      ],
      "text/plain": [
       "            ymin  xmin  ymax  xmax  score\n",
       "bbox_pred1  1.00  1.00  2.00  2.00   0.90\n",
       "bbox_pred2  2.00  2.00  3.00  3.00   0.40\n",
       "bbox_pred3  2.10  2.10  3.10  3.10   0.35\n",
       "bbox_pred4  2.25  1.25  2.75  1.75   0.60\n",
       "bbox_pred5  1.40  0.40  2.40  1.40   0.95"
      ]
     },
     "metadata": {},
     "output_type": "display_data"
    },
    {
     "data": {
      "text/html": [
       "<div>\n",
       "<style scoped>\n",
       "    .dataframe tbody tr th:only-of-type {\n",
       "        vertical-align: middle;\n",
       "    }\n",
       "\n",
       "    .dataframe tbody tr th {\n",
       "        vertical-align: top;\n",
       "    }\n",
       "\n",
       "    .dataframe thead th {\n",
       "        text-align: right;\n",
       "    }\n",
       "</style>\n",
       "<table border=\"1\" class=\"dataframe\">\n",
       "  <thead>\n",
       "    <tr style=\"text-align: right;\">\n",
       "      <th></th>\n",
       "      <th>ymin</th>\n",
       "      <th>xmin</th>\n",
       "      <th>ymax</th>\n",
       "      <th>xmax</th>\n",
       "    </tr>\n",
       "  </thead>\n",
       "  <tbody>\n",
       "    <tr>\n",
       "      <th>bbox_gt1</th>\n",
       "      <td>1.5</td>\n",
       "      <td>0.5</td>\n",
       "      <td>2.5</td>\n",
       "      <td>1.5</td>\n",
       "    </tr>\n",
       "    <tr>\n",
       "      <th>bbox_gt2</th>\n",
       "      <td>1.0</td>\n",
       "      <td>3.5</td>\n",
       "      <td>2.0</td>\n",
       "      <td>4.5</td>\n",
       "    </tr>\n",
       "  </tbody>\n",
       "</table>\n",
       "</div>"
      ],
      "text/plain": [
       "          ymin  xmin  ymax  xmax\n",
       "bbox_gt1   1.5   0.5   2.5   1.5\n",
       "bbox_gt2   1.0   3.5   2.0   4.5"
      ]
     },
     "metadata": {},
     "output_type": "display_data"
    },
    {
     "data": {
      "image/png": "[encoded data removed]",
      "text/plain": [
       "<Figure size 381.6x352.8 with 1 Axes>"
      ]
     },
     "metadata": {
      "needs_background": "light"
     },
     "output_type": "display_data"
    }
   ],
   "source": [
    "# 検出されたバウンディングボックス\n",
    "df_bbox_pred = pd.DataFrame({\"bbox_pred1\":[1,1,2,2],\n",
    "                                                        \"bbox_pred2\": [2,2,3,3],\n",
    "                                                        \"bbox_pred3\": [2.1,2.1,3.1,3.1],\n",
    "                                                        \"bbox_pred4\": [2.25,1.25,2.75,1.75],\n",
    "                                                        \"bbox_pred5\":[1.4,0.4,2.4,1.4]\n",
    "                                                      }, index=coord_cols).T\n",
    "# 信頼度の設定\n",
    "df_bbox_pred[\"score\"] =  [0.9, 0.4, 0.35, 0.6, 0.95]\n",
    "\n",
    "\n",
    "# 正解のバウンディングボックス(gtはground truthの略)\n",
    "df_bbox_gt = pd.DataFrame({\"bbox_gt1\":[1.5,0.5,2.5,1.5],\n",
    "                                                      \"bbox_gt2\": [1,3.5,2,4.5]\n",
    "                                                    }, index=coord_cols).T\n",
    "display(df_bbox_pred)\n",
    "display(df_bbox_gt)\n",
    "\n",
    "# バウンディングボックスの可視化\n",
    "viz(df_bbox_pred, df_bbox_gt, title=\"before NMS\")"
   ]
  },
  {
   "cell_type": "markdown",
   "metadata": {},
   "source": [
    "### IoU (Intersection over Union) を計算する関数"
   ]
  },
  {
   "cell_type": "code",
   "execution_count": 5,
   "metadata": {
    "scrolled": true
   },
   "outputs": [],
   "source": [
    "def bbox_iou(bbox_a, bbox_b):\n",
    "    \"\"\"\n",
    "    IoU (Intersection over Union) を計算する関数\n",
    "    bbox_a : ndarray, バウンディングボックスa, bbox_a.shape = (バウンディングボックスの数, 4)\n",
    "    bbox_b : ndarray, バウンディングボックスb, bbox_b.shape = (バウンディングボックスの数, 4)\n",
    "                                    第1次元の4は、[\"ymin\",\"xmin\",\"ymax\",\"xmax\"]の4座標 \n",
    "    \"\"\"\n",
    "\n",
    "    # 重なる部分の面積を求める\n",
    "    # [:, None, :2]のNoneでは、bbox_aとbbox_bの全組み合わせを計算するために軸を増やしている\n",
    "    bl = np.maximum(bbox_a[:, None, :2], bbox_b[:, :2]) # 重なる部分の左下の座標\n",
    "    tr = np.minimum(bbox_a[:, None, 2:], bbox_b[:, 2:]) # 重なる部分の右上の座標\n",
    "    area_i = np.prod(tr - bl, axis=2) * (bl < tr).all(axis=2) # (bl < tr).all(axis=2)は、2つのバウンディングボックスが重なっているかどうかを判定している\n",
    "    \n",
    "    # バウンディングボックスaの面積を求める\n",
    "    area_a = np.prod(bbox_a[:, 2:] - bbox_a[:, :2], axis=1)\n",
    "    \n",
    "    # バウンディングボックスbの面積を求める\n",
    "    area_b = np.prod(bbox_b[:, 2:] - bbox_b[:, :2], axis=1)\n",
    "    \n",
    "    # IoUを計算し、return\n",
    "    iou = area_i / (area_a[:, None] + area_b - area_i)+.0 # +.0は-0.0を0.0にするために付けている\n",
    "    return iou"
   ]
  },
  {
   "cell_type": "markdown",
   "metadata": {},
   "source": [
    "### IoUの算出"
   ]
  },
  {
   "cell_type": "code",
   "execution_count": 6,
   "metadata": {},
   "outputs": [
    {
     "data": {
      "text/html": [
       "<div>\n",
       "<style scoped>\n",
       "    .dataframe tbody tr th:only-of-type {\n",
       "        vertical-align: middle;\n",
       "    }\n",
       "\n",
       "    .dataframe tbody tr th {\n",
       "        vertical-align: top;\n",
       "    }\n",
       "\n",
       "    .dataframe thead th {\n",
       "        text-align: right;\n",
       "    }\n",
       "</style>\n",
       "<table border=\"1\" class=\"dataframe\">\n",
       "  <thead>\n",
       "    <tr style=\"text-align: right;\">\n",
       "      <th></th>\n",
       "      <th>bbox_gt1</th>\n",
       "      <th>bbox_gt2</th>\n",
       "    </tr>\n",
       "  </thead>\n",
       "  <tbody>\n",
       "    <tr>\n",
       "      <th>bbox_pred1</th>\n",
       "      <td>0.14</td>\n",
       "      <td>0.0</td>\n",
       "    </tr>\n",
       "    <tr>\n",
       "      <th>bbox_pred2</th>\n",
       "      <td>0.00</td>\n",
       "      <td>0.0</td>\n",
       "    </tr>\n",
       "    <tr>\n",
       "      <th>bbox_pred3</th>\n",
       "      <td>0.00</td>\n",
       "      <td>0.0</td>\n",
       "    </tr>\n",
       "    <tr>\n",
       "      <th>bbox_pred4</th>\n",
       "      <td>0.05</td>\n",
       "      <td>0.0</td>\n",
       "    </tr>\n",
       "    <tr>\n",
       "      <th>bbox_pred5</th>\n",
       "      <td>0.68</td>\n",
       "      <td>0.0</td>\n",
       "    </tr>\n",
       "  </tbody>\n",
       "</table>\n",
       "</div>"
      ],
      "text/plain": [
       "            bbox_gt1  bbox_gt2\n",
       "bbox_pred1      0.14       0.0\n",
       "bbox_pred2      0.00       0.0\n",
       "bbox_pred3      0.00       0.0\n",
       "bbox_pred4      0.05       0.0\n",
       "bbox_pred5      0.68       0.0"
      ]
     },
     "execution_count": 6,
     "metadata": {},
     "output_type": "execute_result"
    }
   ],
   "source": [
    "# IoUの算出\n",
    "IoU = bbox_iou(df_bbox_pred[coord_cols].values, df_bbox_gt.values)\n",
    "df_IoU = pd.DataFrame(IoU, index=df_bbox_pred.index, columns=df_bbox_gt.index)\n",
    "df_IoU.round(2)"
   ]
  },
  {
   "cell_type": "markdown",
   "metadata": {},
   "source": [
    "### NMS (Non-Maximum Suppresion) を計算する関数"
   ]
  },
  {
   "cell_type": "code",
   "execution_count": 7,
   "metadata": {
    "scrolled": true
   },
   "outputs": [],
   "source": [
    "def nms_index(bbox, score, iou_thresh):\n",
    "    \"\"\"\n",
    "    NMS (Non-Maximum Suppresion) を計算する関数\n",
    "    bbox : ndarray, バウンディングボックス, bbox.shape = (バウンディングボックスの数, 4)\n",
    "                第1次元の4は、[\"ymin\",\"xmin\",\"ymax\",\"xmax\"]の4座標 \n",
    "    score : ndarray, 信頼度 \n",
    "    iou_thresh : float, IoUの閾値\n",
    "    \"\"\"\n",
    "    \n",
    "    # scoreを降順に並べる時のインデックスを取得する\n",
    "    order = np.argsort(score)[::-1]\n",
    "    \n",
    "    # bboxを降順に並べる\n",
    "    bbox = bbox[order]\n",
    "\n",
    "    # 面積を算出する\n",
    "    bbox_area = np.prod(bbox[:, 2:] - bbox[:, :2], axis=1)\n",
    "    \n",
    "    # バウンディングボックスの数と同じ要素数を持ったFalse配列selecを作る\n",
    "    # このselecに各バウンディングボックスの採用、不採用を格納する\n",
    "    selec = np.zeros(bbox.shape[0], dtype=bool)\n",
    "    \n",
    "    # バウンディングボックスをループ\n",
    "    for i in range(bbox.shape[0]):        \n",
    "        \n",
    "        # 対象のバウンディングボックスbと、すでに採用が決まっているバウンディングボックスbboxとを比較し、重なる部分の面積を求める\n",
    "        b = bbox[i:i+1, :]\n",
    "        iou = bbox_iou(b, bbox[selec,:]) # <- selecで対象を絞っていることに注意!! selecが全てFalseの場合、iouは空配列になる\n",
    "        \n",
    "        if (iou >= iou_thresh).any():            \n",
    "            \"\"\"\n",
    "            対象のバウンディングボックスbとのIoUがthresh以上になるものが1つでもあれば、\n",
    "            そのバウンディングボックスbは採用しないので、selec[i]はFalseのまま\n",
    "            \"\"\"\n",
    "            pass\n",
    "        else:       \n",
    "            \"\"\"\n",
    "            対象のバウンディングボックスbとのIoUがthresh以上になるものが1つもなければ、\n",
    "            そのバウンディングボックスbを採用するので、selec[i]をTrueにする\n",
    "            (iouが空配列の場合もこちらになる)\n",
    "            \"\"\"\n",
    "            selec[i] = True\n",
    "\n",
    "\n",
    "    # 配列selecにおけるTrueのインデックスを取得する\n",
    "    selec = np.where(selec)[0]\n",
    "    \n",
    "    # 降順に並び替える前のインデックスになおす\n",
    "    selec = order[selec]\n",
    "    \n",
    "    return selec"
   ]
  },
  {
   "cell_type": "markdown",
   "metadata": {},
   "source": [
    "## 検出されたバウンディングボックスについて、NMSを実行し、重なりが大きいバウンディングボックスを排除する"
   ]
  },
  {
   "cell_type": "code",
   "execution_count": 8,
   "metadata": {},
   "outputs": [
    {
     "data": {
      "text/html": [
       "<div>\n",
       "<style scoped>\n",
       "    .dataframe tbody tr th:only-of-type {\n",
       "        vertical-align: middle;\n",
       "    }\n",
       "\n",
       "    .dataframe tbody tr th {\n",
       "        vertical-align: top;\n",
       "    }\n",
       "\n",
       "    .dataframe thead th {\n",
       "        text-align: right;\n",
       "    }\n",
       "</style>\n",
       "<table border=\"1\" class=\"dataframe\">\n",
       "  <thead>\n",
       "    <tr style=\"text-align: right;\">\n",
       "      <th></th>\n",
       "      <th>ymin</th>\n",
       "      <th>xmin</th>\n",
       "      <th>ymax</th>\n",
       "      <th>xmax</th>\n",
       "      <th>score</th>\n",
       "    </tr>\n",
       "  </thead>\n",
       "  <tbody>\n",
       "    <tr>\n",
       "      <th>bbox_pred5</th>\n",
       "      <td>1.40</td>\n",
       "      <td>0.40</td>\n",
       "      <td>2.40</td>\n",
       "      <td>1.40</td>\n",
       "      <td>0.95</td>\n",
       "    </tr>\n",
       "    <tr>\n",
       "      <th>bbox_pred1</th>\n",
       "      <td>1.00</td>\n",
       "      <td>1.00</td>\n",
       "      <td>2.00</td>\n",
       "      <td>2.00</td>\n",
       "      <td>0.90</td>\n",
       "    </tr>\n",
       "    <tr>\n",
       "      <th>bbox_pred4</th>\n",
       "      <td>2.25</td>\n",
       "      <td>1.25</td>\n",
       "      <td>2.75</td>\n",
       "      <td>1.75</td>\n",
       "      <td>0.60</td>\n",
       "    </tr>\n",
       "    <tr>\n",
       "      <th>bbox_pred2</th>\n",
       "      <td>2.00</td>\n",
       "      <td>2.00</td>\n",
       "      <td>3.00</td>\n",
       "      <td>3.00</td>\n",
       "      <td>0.40</td>\n",
       "    </tr>\n",
       "  </tbody>\n",
       "</table>\n",
       "</div>"
      ],
      "text/plain": [
       "            ymin  xmin  ymax  xmax  score\n",
       "bbox_pred5  1.40  0.40  2.40  1.40   0.95\n",
       "bbox_pred1  1.00  1.00  2.00  2.00   0.90\n",
       "bbox_pred4  2.25  1.25  2.75  1.75   0.60\n",
       "bbox_pred2  2.00  2.00  3.00  3.00   0.40"
      ]
     },
     "metadata": {},
     "output_type": "display_data"
    },
    {
     "data": {
      "image/png": "[encoded data removed]",
      "text/plain": [
       "<Figure size 381.6x352.8 with 1 Axes>"
      ]
     },
     "metadata": {
      "needs_background": "light"
     },
     "output_type": "display_data"
    }
   ],
   "source": [
    "# NMSの実行\n",
    "selected_index = nms_index(df_bbox_pred[coord_cols].values,\n",
    "                                                   score=df_bbox_pred[\"score\"].values, iou_thresh=0.5)\n",
    "df_bbox_nms = df_bbox_pred.iloc[selected_index, :]\n",
    "# score_nms = score[selected_index]\n",
    "display(df_bbox_nms)\n",
    "\n",
    "# バウンディングボックスの可視化\n",
    "viz(df_bbox_nms, df_bbox_gt, title=\"after NMS\")"
   ]
  },
  {
   "cell_type": "markdown",
   "metadata": {},
   "source": [
    "### 動作確認用データの用意 その2"
   ]
  },
  {
   "cell_type": "code",
   "execution_count": 9,
   "metadata": {
    "scrolled": false
   },
   "outputs": [
    {
     "name": "stdout",
     "output_type": "stream",
     "text": [
      "\n",
      "***************** picture1 *****************\n"
     ]
    },
    {
     "data": {
      "text/html": [
       "<div>\n",
       "<style scoped>\n",
       "    .dataframe tbody tr th:only-of-type {\n",
       "        vertical-align: middle;\n",
       "    }\n",
       "\n",
       "    .dataframe tbody tr th {\n",
       "        vertical-align: top;\n",
       "    }\n",
       "\n",
       "    .dataframe thead th {\n",
       "        text-align: right;\n",
       "    }\n",
       "</style>\n",
       "<table border=\"1\" class=\"dataframe\">\n",
       "  <thead>\n",
       "    <tr style=\"text-align: right;\">\n",
       "      <th></th>\n",
       "      <th>ymin</th>\n",
       "      <th>xmin</th>\n",
       "      <th>ymax</th>\n",
       "      <th>xmax</th>\n",
       "      <th>score</th>\n",
       "    </tr>\n",
       "  </thead>\n",
       "  <tbody>\n",
       "    <tr>\n",
       "      <th>bbox_pred1</th>\n",
       "      <td>1.00</td>\n",
       "      <td>1.00</td>\n",
       "      <td>2.00</td>\n",
       "      <td>2.00</td>\n",
       "      <td>0.90</td>\n",
       "    </tr>\n",
       "    <tr>\n",
       "      <th>bbox_pred2</th>\n",
       "      <td>2.00</td>\n",
       "      <td>2.00</td>\n",
       "      <td>3.00</td>\n",
       "      <td>3.00</td>\n",
       "      <td>0.40</td>\n",
       "    </tr>\n",
       "    <tr>\n",
       "      <th>bbox_pred3</th>\n",
       "      <td>1.10</td>\n",
       "      <td>3.50</td>\n",
       "      <td>2.10</td>\n",
       "      <td>4.60</td>\n",
       "      <td>0.95</td>\n",
       "    </tr>\n",
       "    <tr>\n",
       "      <th>bbox_pred4</th>\n",
       "      <td>2.25</td>\n",
       "      <td>1.25</td>\n",
       "      <td>2.75</td>\n",
       "      <td>1.75</td>\n",
       "      <td>0.70</td>\n",
       "    </tr>\n",
       "    <tr>\n",
       "      <th>bbox_pred5</th>\n",
       "      <td>1.40</td>\n",
       "      <td>0.40</td>\n",
       "      <td>2.40</td>\n",
       "      <td>1.40</td>\n",
       "      <td>0.95</td>\n",
       "    </tr>\n",
       "  </tbody>\n",
       "</table>\n",
       "</div>"
      ],
      "text/plain": [
       "            ymin  xmin  ymax  xmax  score\n",
       "bbox_pred1  1.00  1.00  2.00  2.00   0.90\n",
       "bbox_pred2  2.00  2.00  3.00  3.00   0.40\n",
       "bbox_pred3  1.10  3.50  2.10  4.60   0.95\n",
       "bbox_pred4  2.25  1.25  2.75  1.75   0.70\n",
       "bbox_pred5  1.40  0.40  2.40  1.40   0.95"
      ]
     },
     "metadata": {},
     "output_type": "display_data"
    },
    {
     "data": {
      "text/html": [
       "<div>\n",
       "<style scoped>\n",
       "    .dataframe tbody tr th:only-of-type {\n",
       "        vertical-align: middle;\n",
       "    }\n",
       "\n",
       "    .dataframe tbody tr th {\n",
       "        vertical-align: top;\n",
       "    }\n",
       "\n",
       "    .dataframe thead th {\n",
       "        text-align: right;\n",
       "    }\n",
       "</style>\n",
       "<table border=\"1\" class=\"dataframe\">\n",
       "  <thead>\n",
       "    <tr style=\"text-align: right;\">\n",
       "      <th></th>\n",
       "      <th>ymin</th>\n",
       "      <th>xmin</th>\n",
       "      <th>ymax</th>\n",
       "      <th>xmax</th>\n",
       "    </tr>\n",
       "  </thead>\n",
       "  <tbody>\n",
       "    <tr>\n",
       "      <th>bbox_gt1</th>\n",
       "      <td>1.5</td>\n",
       "      <td>0.5</td>\n",
       "      <td>2.5</td>\n",
       "      <td>1.5</td>\n",
       "    </tr>\n",
       "    <tr>\n",
       "      <th>bbox_gt2</th>\n",
       "      <td>1.0</td>\n",
       "      <td>3.5</td>\n",
       "      <td>2.0</td>\n",
       "      <td>4.5</td>\n",
       "    </tr>\n",
       "  </tbody>\n",
       "</table>\n",
       "</div>"
      ],
      "text/plain": [
       "          ymin  xmin  ymax  xmax\n",
       "bbox_gt1   1.5   0.5   2.5   1.5\n",
       "bbox_gt2   1.0   3.5   2.0   4.5"
      ]
     },
     "metadata": {},
     "output_type": "display_data"
    },
    {
     "name": "stdout",
     "output_type": "stream",
     "text": [
      "\n",
      "\n",
      "***************** picture2 *****************\n"
     ]
    },
    {
     "data": {
      "text/html": [
       "<div>\n",
       "<style scoped>\n",
       "    .dataframe tbody tr th:only-of-type {\n",
       "        vertical-align: middle;\n",
       "    }\n",
       "\n",
       "    .dataframe tbody tr th {\n",
       "        vertical-align: top;\n",
       "    }\n",
       "\n",
       "    .dataframe thead th {\n",
       "        text-align: right;\n",
       "    }\n",
       "</style>\n",
       "<table border=\"1\" class=\"dataframe\">\n",
       "  <thead>\n",
       "    <tr style=\"text-align: right;\">\n",
       "      <th></th>\n",
       "      <th>ymin</th>\n",
       "      <th>xmin</th>\n",
       "      <th>ymax</th>\n",
       "      <th>xmax</th>\n",
       "      <th>score</th>\n",
       "    </tr>\n",
       "  </thead>\n",
       "  <tbody>\n",
       "    <tr>\n",
       "      <th>bbox_pred1</th>\n",
       "      <td>1.00</td>\n",
       "      <td>1.00</td>\n",
       "      <td>2.00</td>\n",
       "      <td>2.00</td>\n",
       "      <td>0.90</td>\n",
       "    </tr>\n",
       "    <tr>\n",
       "      <th>bbox_pred2</th>\n",
       "      <td>2.90</td>\n",
       "      <td>3.50</td>\n",
       "      <td>3.90</td>\n",
       "      <td>4.90</td>\n",
       "      <td>0.80</td>\n",
       "    </tr>\n",
       "    <tr>\n",
       "      <th>bbox_pred3</th>\n",
       "      <td>3.60</td>\n",
       "      <td>3.10</td>\n",
       "      <td>4.60</td>\n",
       "      <td>4.10</td>\n",
       "      <td>0.85</td>\n",
       "    </tr>\n",
       "    <tr>\n",
       "      <th>bbox_pred4</th>\n",
       "      <td>2.25</td>\n",
       "      <td>1.25</td>\n",
       "      <td>2.75</td>\n",
       "      <td>1.75</td>\n",
       "      <td>0.60</td>\n",
       "    </tr>\n",
       "    <tr>\n",
       "      <th>bbox_pred5</th>\n",
       "      <td>1.40</td>\n",
       "      <td>1.40</td>\n",
       "      <td>2.40</td>\n",
       "      <td>2.40</td>\n",
       "      <td>0.95</td>\n",
       "    </tr>\n",
       "  </tbody>\n",
       "</table>\n",
       "</div>"
      ],
      "text/plain": [
       "            ymin  xmin  ymax  xmax  score\n",
       "bbox_pred1  1.00  1.00  2.00  2.00   0.90\n",
       "bbox_pred2  2.90  3.50  3.90  4.90   0.80\n",
       "bbox_pred3  3.60  3.10  4.60  4.10   0.85\n",
       "bbox_pred4  2.25  1.25  2.75  1.75   0.60\n",
       "bbox_pred5  1.40  1.40  2.40  2.40   0.95"
      ]
     },
     "metadata": {},
     "output_type": "display_data"
    },
    {
     "data": {
      "text/html": [
       "<div>\n",
       "<style scoped>\n",
       "    .dataframe tbody tr th:only-of-type {\n",
       "        vertical-align: middle;\n",
       "    }\n",
       "\n",
       "    .dataframe tbody tr th {\n",
       "        vertical-align: top;\n",
       "    }\n",
       "\n",
       "    .dataframe thead th {\n",
       "        text-align: right;\n",
       "    }\n",
       "</style>\n",
       "<table border=\"1\" class=\"dataframe\">\n",
       "  <thead>\n",
       "    <tr style=\"text-align: right;\">\n",
       "      <th></th>\n",
       "      <th>ymin</th>\n",
       "      <th>xmin</th>\n",
       "      <th>ymax</th>\n",
       "      <th>xmax</th>\n",
       "    </tr>\n",
       "  </thead>\n",
       "  <tbody>\n",
       "    <tr>\n",
       "      <th>bbox_gt1</th>\n",
       "      <td>1.5</td>\n",
       "      <td>1.5</td>\n",
       "      <td>2.5</td>\n",
       "      <td>2.5</td>\n",
       "    </tr>\n",
       "    <tr>\n",
       "      <th>bbox_gt2</th>\n",
       "      <td>3.0</td>\n",
       "      <td>3.5</td>\n",
       "      <td>4.0</td>\n",
       "      <td>4.5</td>\n",
       "    </tr>\n",
       "  </tbody>\n",
       "</table>\n",
       "</div>"
      ],
      "text/plain": [
       "          ymin  xmin  ymax  xmax\n",
       "bbox_gt1   1.5   1.5   2.5   2.5\n",
       "bbox_gt2   3.0   3.5   4.0   4.5"
      ]
     },
     "metadata": {},
     "output_type": "display_data"
    },
    {
     "name": "stdout",
     "output_type": "stream",
     "text": [
      "\n",
      "\n",
      "***************** picture3 *****************\n"
     ]
    },
    {
     "data": {
      "text/html": [
       "<div>\n",
       "<style scoped>\n",
       "    .dataframe tbody tr th:only-of-type {\n",
       "        vertical-align: middle;\n",
       "    }\n",
       "\n",
       "    .dataframe tbody tr th {\n",
       "        vertical-align: top;\n",
       "    }\n",
       "\n",
       "    .dataframe thead th {\n",
       "        text-align: right;\n",
       "    }\n",
       "</style>\n",
       "<table border=\"1\" class=\"dataframe\">\n",
       "  <thead>\n",
       "    <tr style=\"text-align: right;\">\n",
       "      <th></th>\n",
       "      <th>ymin</th>\n",
       "      <th>xmin</th>\n",
       "      <th>ymax</th>\n",
       "      <th>xmax</th>\n",
       "      <th>score</th>\n",
       "    </tr>\n",
       "  </thead>\n",
       "  <tbody>\n",
       "    <tr>\n",
       "      <th>bbox_pred1</th>\n",
       "      <td>1.00</td>\n",
       "      <td>1.00</td>\n",
       "      <td>2.00</td>\n",
       "      <td>2.00</td>\n",
       "      <td>0.70</td>\n",
       "    </tr>\n",
       "    <tr>\n",
       "      <th>bbox_pred2</th>\n",
       "      <td>2.00</td>\n",
       "      <td>2.00</td>\n",
       "      <td>3.00</td>\n",
       "      <td>3.00</td>\n",
       "      <td>0.40</td>\n",
       "    </tr>\n",
       "    <tr>\n",
       "      <th>bbox_pred3</th>\n",
       "      <td>2.10</td>\n",
       "      <td>2.10</td>\n",
       "      <td>3.10</td>\n",
       "      <td>3.10</td>\n",
       "      <td>0.35</td>\n",
       "    </tr>\n",
       "    <tr>\n",
       "      <th>bbox_pred4</th>\n",
       "      <td>2.25</td>\n",
       "      <td>4.25</td>\n",
       "      <td>2.75</td>\n",
       "      <td>4.75</td>\n",
       "      <td>0.55</td>\n",
       "    </tr>\n",
       "    <tr>\n",
       "      <th>bbox_pred5</th>\n",
       "      <td>1.40</td>\n",
       "      <td>0.40</td>\n",
       "      <td>2.40</td>\n",
       "      <td>1.40</td>\n",
       "      <td>0.80</td>\n",
       "    </tr>\n",
       "  </tbody>\n",
       "</table>\n",
       "</div>"
      ],
      "text/plain": [
       "            ymin  xmin  ymax  xmax  score\n",
       "bbox_pred1  1.00  1.00  2.00  2.00   0.70\n",
       "bbox_pred2  2.00  2.00  3.00  3.00   0.40\n",
       "bbox_pred3  2.10  2.10  3.10  3.10   0.35\n",
       "bbox_pred4  2.25  4.25  2.75  4.75   0.55\n",
       "bbox_pred5  1.40  0.40  2.40  1.40   0.80"
      ]
     },
     "metadata": {},
     "output_type": "display_data"
    },
    {
     "data": {
      "text/html": [
       "<div>\n",
       "<style scoped>\n",
       "    .dataframe tbody tr th:only-of-type {\n",
       "        vertical-align: middle;\n",
       "    }\n",
       "\n",
       "    .dataframe tbody tr th {\n",
       "        vertical-align: top;\n",
       "    }\n",
       "\n",
       "    .dataframe thead th {\n",
       "        text-align: right;\n",
       "    }\n",
       "</style>\n",
       "<table border=\"1\" class=\"dataframe\">\n",
       "  <thead>\n",
       "    <tr style=\"text-align: right;\">\n",
       "      <th></th>\n",
       "      <th>ymin</th>\n",
       "      <th>xmin</th>\n",
       "      <th>ymax</th>\n",
       "      <th>xmax</th>\n",
       "    </tr>\n",
       "  </thead>\n",
       "  <tbody>\n",
       "    <tr>\n",
       "      <th>bbox_gt1</th>\n",
       "      <td>1.5</td>\n",
       "      <td>0.5</td>\n",
       "      <td>2.5</td>\n",
       "      <td>1.5</td>\n",
       "    </tr>\n",
       "    <tr>\n",
       "      <th>bbox_gt2</th>\n",
       "      <td>1.0</td>\n",
       "      <td>3.5</td>\n",
       "      <td>2.0</td>\n",
       "      <td>4.5</td>\n",
       "    </tr>\n",
       "  </tbody>\n",
       "</table>\n",
       "</div>"
      ],
      "text/plain": [
       "          ymin  xmin  ymax  xmax\n",
       "bbox_gt1   1.5   0.5   2.5   1.5\n",
       "bbox_gt2   1.0   3.5   2.0   4.5"
      ]
     },
     "metadata": {},
     "output_type": "display_data"
    },
    {
     "name": "stdout",
     "output_type": "stream",
     "text": [
      "\n",
      "******************** NMS前 ********************\n"
     ]
    },
    {
     "data": {
      "image/png": "[encoded data removed]",
      "text/plain": [
       "<Figure size 381.6x352.8 with 1 Axes>"
      ]
     },
     "metadata": {
      "needs_background": "light"
     },
     "output_type": "display_data"
    },
    {
     "data": {
      "image/png": "[encoded data removed]",
      "text/plain": [
       "<Figure size 381.6x352.8 with 1 Axes>"
      ]
     },
     "metadata": {
      "needs_background": "light"
     },
     "output_type": "display_data"
    },
    {
     "data": {
      "image/png": "[encoded data removed]",
      "text/plain": [
       "<Figure size 381.6x352.8 with 1 Axes>"
      ]
     },
     "metadata": {
      "needs_background": "light"
     },
     "output_type": "display_data"
    },
    {
     "name": "stdout",
     "output_type": "stream",
     "text": [
      "******************** NMS後 ********************\n"
     ]
    },
    {
     "data": {
      "image/png": "[encoded data removed]",
      "text/plain": [
       "<Figure size 381.6x352.8 with 1 Axes>"
      ]
     },
     "metadata": {
      "needs_background": "light"
     },
     "output_type": "display_data"
    },
    {
     "data": {
      "image/png": "[encoded data removed]",
      "text/plain": [
       "<Figure size 381.6x352.8 with 1 Axes>"
      ]
     },
     "metadata": {
      "needs_background": "light"
     },
     "output_type": "display_data"
    },
    {
     "data": {
      "image/png": "[encoded data removed]",
      "text/plain": [
       "<Figure size 381.6x352.8 with 1 Axes>"
      ]
     },
     "metadata": {
      "needs_background": "light"
     },
     "output_type": "display_data"
    }
   ],
   "source": [
    "# 検出されたバウンディングボックス\n",
    "dic_bbox_pred = {}\n",
    "df = pd.DataFrame({\"bbox_pred1\":[1,1,2,2],\n",
    "                                  \"bbox_pred2\": [2,2,3,3],\n",
    "                                  \"bbox_pred3\":  [1.1,3.5,2.1,4.6],\n",
    "                                  \"bbox_pred4\": [2.25,1.25,2.75,1.75],\n",
    "                                 \"bbox_pred5\":[1.4,0.4,2.4,1.4]\n",
    "                                 }, index=coord_cols).T\n",
    "df[\"score\"] = [0.9, 0.4, 0.95, 0.70, 0.95]\n",
    "dic_bbox_pred[\"picture1\"] = df\n",
    "\n",
    "df = pd.DataFrame({\"bbox_pred1\":[1,1,2,2],\n",
    "                                  \"bbox_pred2\": [2.9,3.5,3.9,4.9],\n",
    "                                  \"bbox_pred3\": [3.6,3.1,4.6,4.1],\n",
    "                                  \"bbox_pred4\": [2.25,1.25,2.75,1.75],\n",
    "                                 \"bbox_pred5\":[1.4,1.4,2.4,2.4]\n",
    "                                 }, index=coord_cols).T\n",
    "df[\"score\"] = [0.9, 0.8, 0.85, 0.6, 0.95]\n",
    "dic_bbox_pred[\"picture2\"] = df\n",
    "\n",
    "df = pd.DataFrame({\"bbox_pred1\":[1,1,2,2],\n",
    "                                  \"bbox_pred2\": [2,2,3,3],\n",
    "                                  \"bbox_pred3\": [2.1,2.1,3.1,3.1],\n",
    "                                  \"bbox_pred4\": [2.25,4.25,2.75,4.75],\n",
    "                                 \"bbox_pred5\":[1.4,0.4,2.4,1.4]\n",
    "                                 }, index=coord_cols).T\n",
    "df[\"score\"] = [0.7, 0.4, 0.35, 0.55, 0.80]\n",
    "dic_bbox_pred[\"picture3\"] = df\n",
    "\n",
    "\n",
    "# 正解のバウンディングボックス\n",
    "dic_bbox_gt = {}\n",
    "df = pd.DataFrame({\"bbox_gt1\":[1.5,0.5,2.5,1.5],\n",
    "                                    \"bbox_gt2\": [1,3.5,2,4.5]\n",
    "                                    }, index=coord_cols).T\n",
    "dic_bbox_gt[\"picture1\"] = df\n",
    "\n",
    "df = pd.DataFrame({\"bbox_gt1\":[1.5,1.5,2.5,2.5],\n",
    "                                    \"bbox_gt2\": [3,3.5,4,4.5]\n",
    "                                    }, index=coord_cols).T\n",
    "dic_bbox_gt[\"picture2\"] = df\n",
    "\n",
    "df = pd.DataFrame({\"bbox_gt1\":[1.5,0.5,2.5,1.5],\n",
    "                                    \"bbox_gt2\": [1,3.5,2,4.5]\n",
    "                                    }, index=coord_cols).T\n",
    "dic_bbox_gt[\"picture3\"] = df\n",
    "\n",
    "for key in dic_bbox_pred.keys():\n",
    "    print()\n",
    "    print(\"*\"*17, key, \"*\"*17)\n",
    "    df_bbox_pred = dic_bbox_pred[key]\n",
    "    df_bbox_gt = dic_bbox_gt[key]\n",
    "    display(df_bbox_pred)\n",
    "    display(df_bbox_gt)\n",
    "    print()\n",
    "    \n",
    "    \n",
    "# バウンディングボックスの可視化\n",
    "print(\"*\"*20, \"NMS前\", \"*\"*20)\n",
    "for key in dic_bbox_pred.keys():\n",
    "    df_bbox_pred = dic_bbox_pred[key]\n",
    "    df_bbox_gt = dic_bbox_gt[key]\n",
    "    viz(df_bbox_pred, df_bbox_gt, title=\"before NMS, %s\"%key)\n",
    "\n",
    "\n",
    "# NMSの実行\n",
    "dic_bbox_nms = {}\n",
    "dic_score_nms = {}\n",
    "for key in dic_bbox_pred.keys():\n",
    "    df_bbox_pred = dic_bbox_pred[key]\n",
    "    bbox = df_bbox_pred[coord_cols].values\n",
    "    score = df_bbox_pred[\"score\"].values\n",
    "    selected_index = nms_index(bbox, score, iou_thresh=0.5)\n",
    "    df_bbox_nms = df_bbox_pred.iloc[selected_index, :]\n",
    "    score_nms = score[selected_index]\n",
    "    dic_bbox_nms[key] = df_bbox_nms\n",
    "    dic_score_nms[key] = score_nms\n",
    "    \n",
    "\n",
    "# バウンディングボックスの可視化\n",
    "print(\"*\"*20, \"NMS後\", \"*\"*20)\n",
    "for key in dic_bbox_pred.keys():\n",
    "    df_bbox_nms = dic_bbox_nms[key]\n",
    "    df_bbox_gt = dic_bbox_gt[key]\n",
    "    viz(df_bbox_nms, df_bbox_gt, title=\"after NMS, %s\"%key)"
   ]
  },
  {
   "cell_type": "markdown",
   "metadata": {},
   "source": [
    "### APを算出する関数"
   ]
  },
  {
   "cell_type": "code",
   "execution_count": 10,
   "metadata": {},
   "outputs": [],
   "source": [
    "def rec_prec(dic_bbox_pred, dic_bbox_gt, dic_score, iou_thresh):\n",
    "    \"\"\"\n",
    "    ある1つのクラスについて、RecallとPrecisionを計算する関数\n",
    "    dic_bbox_pred : dict, keyは画像名, valueは検出されたバウンディングボックス\n",
    "    dic_bbox_gt     : dict, keyは画像名, valueは正解のバウンディングボックス\n",
    "    dic_score : dict, keyは画像名, valueは信頼度を格納したndarray \n",
    "    iou_thresh : float, IoUの閾値\n",
    "    \"\"\"\n",
    "    \n",
    "    # 対応する正解バウンディングボックスの有無を格納するリスト\n",
    "    matches = []\n",
    "    \n",
    "    # スコアを格納するリスト\n",
    "    scores = []\n",
    "    \n",
    "    # 正解バウンディングボックス数を格納する変数\n",
    "    n_pos = 0\n",
    "    \n",
    "    for key in dic_bbox_pred.keys():\n",
    "        \"\"\"\n",
    "        画像のループ\n",
    "        \"\"\"\n",
    "        bbox_pred = dic_bbox_pred[key][coord_cols].values\n",
    "        bbox_gt = dic_bbox_gt[key].values\n",
    "        score = dic_score[key]\n",
    "\n",
    "        # scoreを降順に並べる時のインデックスを取得する\n",
    "        order = np.argsort(score)[::-1]\n",
    "\n",
    "        # bboxを降順に並べる\n",
    "        bbox_pred = bbox_pred[order]\n",
    "\n",
    "        # スコアを降順に並べる\n",
    "        score = score[order]    \n",
    "        \n",
    "        # スコアをリストに追加する\n",
    "        scores.extend(score)\n",
    "        \n",
    "        # 正解バウンディングボックスの数をn_posに加える\n",
    "        n_pos += bbox_gt.shape[0]\n",
    "        \n",
    "        # IoUを算出\n",
    "        iou = bbox_iou(bbox_pred, bbox_gt)\n",
    "\n",
    "        # 各検出バウンディングボックスについて、最もIoUが大きくなる正解バウンディングボックスのインデックスを取得する\n",
    "        gt_index = iou.argmax(axis=1)\n",
    "\n",
    "        # もし、IoUが閾値以上になる正解バウンディングボックスが存在しなければ、-1を割り当てる\n",
    "        gt_index[iou.max(axis=1) < iou_thresh] = -1\n",
    "\n",
    "        # 正解バウンディングボックスの数と同じ要素数を持ったFalse配列selectedを作る\n",
    "        # このselectedに各正解バウンディングボックスの対応済みor未対応を格納していく\n",
    "        selected = np.zeros(bbox_gt.shape[0], dtype=bool) # Falseは未対応を意味する\n",
    "\n",
    "        # 検出バウンディングボックスのループ\n",
    "        for idx in gt_index:\n",
    "            \"\"\"\n",
    "            検出バウンディングボックスをスコア降順でみていく\n",
    "            idxは、対象となる検出バウンディングボックスと最もIoUが大きくなる正解バウンディングボックスのindex\n",
    "            \"\"\"\n",
    "            if idx >= 0:\n",
    "                \"\"\"\n",
    "                この検出バウンディングボックスに正解バウンディングボックスのインデックスが割り当てられている場合\n",
    "                \"\"\"\n",
    "                if not selected[idx]:\n",
    "                    \"\"\"\n",
    "                    正解バウンディングボックスidxが未対応の場合\n",
    "                    \"\"\"\n",
    "                    matches.append(1) # 対応する正解バウンディングボックスあり\n",
    "                else:   \n",
    "                    matches.append(0) # 対応する正解バウンディングボックスなし\n",
    "                    \n",
    "                # 正解バウンディングボックスidxを対応済みにする\n",
    "                selected[idx] = True                    \n",
    "            else:\n",
    "                \"\"\"\n",
    "                この検出バウンディングボックスに正解バウンディングボックスのインデックスが割り当てられていない場合\n",
    "                \"\"\"                \n",
    "                matches.append(0) # 対応する正解バウンディングボックスなし\n",
    "    \n",
    "\n",
    "    # ndarray型に変換する\n",
    "    scores = np.array(scores)\n",
    "    matches = np.array(matches)\n",
    "\n",
    "    # 全画像を対象として、スコアの降順にならべかえる\n",
    "    order = scores.argsort()[::-1]\n",
    "    matches = matches[order]\n",
    "\n",
    "    # 全画像を対象として、累積値を計算する\n",
    "    tp = np.cumsum(matches == 1) # TruePositiveの累積値\n",
    "    fp = np.cumsum(matches == 0) # FalsePositiveの累積値\n",
    "    \n",
    "    # Precisionを計算する\n",
    "    prec = tp / (fp + tp)\n",
    "\n",
    "    # Recallを計算する\n",
    "    if n_pos > 0:\n",
    "        rec = tp / n_pos\n",
    "        \n",
    "    return rec, prec\n",
    "\n",
    "\n",
    "def ap_oneclass(dic_bbox_pred, dic_bbox_gt, dic_score, iou_thresh):\n",
    "    \"\"\"\n",
    "    ある1つのクラスについて、APを計算する関数\n",
    "    dic_bbox_pred : dict, keyは画像名, valueは検出されたバウンディングボックス\n",
    "    dic_bbox_gt     : dict, keyは画像名, valueは正解のバウンディングボックス\n",
    "    dic_score : dict, keyは画像名, valueは信頼度を格納したndarray \n",
    "    iou_thresh : float, IoUの閾値        \n",
    "    \"\"\"\n",
    "    \n",
    "    # RecallとPrecisionを求める\n",
    "    rec, prec = rec_prec(dic_bbox_pred, dic_bbox_gt, dic_score, iou_thresh)\n",
    "    \n",
    "    if rec is None or prec is None:\n",
    "        ap = np.nan\n",
    "        return ap\n",
    "\n",
    "    # VOC2007の計算方法でAPを算出する\n",
    "    ap = 0\n",
    "    int_prec = [] # 補間されたprecision\n",
    "    for t in np.arange(0., 1.1, 0.1):\n",
    "        if np.sum(rec >= t) == 0:\n",
    "            \"\"\"\n",
    "            t以上のRecallが存在しないとき(つまり、検出されなかった正解バウンディングボックスがある場合)\n",
    "            \"\"\"\n",
    "            p = 0\n",
    "        else:\n",
    "            p = np.max(np.nan_to_num(prec)[rec >= t]) # Recallがt以上になるPrecisionのうち、最大のものをpとする\n",
    "        ap += p / 11\n",
    "        int_prec.append(p)\n",
    "    int_prec = np.array(int_prec)\n",
    "    \n",
    "    return rec, prec, int_prec, ap"
   ]
  },
  {
   "cell_type": "markdown",
   "metadata": {},
   "source": [
    "### APの算出"
   ]
  },
  {
   "cell_type": "code",
   "execution_count": 11,
   "metadata": {},
   "outputs": [
    {
     "name": "stdout",
     "output_type": "stream",
     "text": [
      "Recall : \n",
      " [0.17 0.33 0.5  0.5  0.5  0.5  0.67 0.83 0.83 0.83 0.83 0.83 0.83 0.83] \n",
      "\n",
      "Precision : \n",
      " [1.   1.   1.   0.75 0.6  0.5  0.57 0.62 0.56 0.5  0.45 0.42 0.38 0.36] \n",
      "\n",
      "Interpolated Precision : \n",
      " [1.   1.   1.   1.   1.   1.   0.62 0.62 0.62 0.   0.  ] \n",
      "\n",
      "Average Precision :  0.716 \n",
      "\n"
     ]
    }
   ],
   "source": [
    "rec, prec, int_prec, ap = ap_oneclass(dic_bbox_nms, dic_bbox_gt, dic_score=dic_score_nms, iou_thresh=0.5)\n",
    "print(\"Recall : \\n\", rec.round(2), \"\\n\")\n",
    "print(\"Precision : \\n\", prec.round(2), \"\\n\")\n",
    "print(\"Interpolated Precision : \\n\", int_prec.round(2), \"\\n\")\n",
    "print(\"Average Precision : \", round(ap,3), \"\\n\")"
   ]
  },
  {
   "cell_type": "markdown",
   "metadata": {},
   "source": [
    "### PR曲線の描画"
   ]
  },
  {
   "cell_type": "code",
   "execution_count": 12,
   "metadata": {},
   "outputs": [
    {
     "data": {
      "image/png": "[encoded data removed]",
      "text/plain": [
       "<Figure size 432x360 with 1 Axes>"
      ]
     },
     "metadata": {
      "needs_background": "light"
     },
     "output_type": "display_data"
    }
   ],
   "source": [
    "# RecallとPrecisionを描画\n",
    "plt.figure(figsize=(6,5))\n",
    "plt.plot(rec, prec, marker=\"o\")\n",
    "plt.ylim([0,1.1])\n",
    "plt.xlim([-0.05,1.1])\n",
    "plt.ylabel(\"Precision\")\n",
    "plt.xlabel(\"Recall\")\n",
    "plt.title(\"PR curve,  AP=%0.3f\"%ap)\n",
    "plt.grid()\n",
    "plt.xticks(np.linspace(0, 1.1, 12))\n",
    "\n",
    "# 補間されたPrecisionを描画\n",
    "# APは、赤棒の長さの平均値である。\n",
    "plt.bar(np.arange(0., 1.1, 0.1), int_prec, width=0.03, alpha=0.5, color=\"r\")\n",
    "\n",
    "plt.show()"
   ]
  }
 ],
 "metadata": {
  "kernelspec": {
   "display_name": "Python 3",
   "language": "python",
   "name": "python3"
  },
  "language_info": {
   "codemirror_mode": {
    "name": "ipython",
    "version": 3
   },
   "file_extension": ".py",
   "mimetype": "text/x-python",
   "name": "python",
   "nbconvert_exporter": "python",
   "pygments_lexer": "ipython3",
   "version": "3.7.3"
  }
 },
 "nbformat": 4,
 "nbformat_minor": 4
}
