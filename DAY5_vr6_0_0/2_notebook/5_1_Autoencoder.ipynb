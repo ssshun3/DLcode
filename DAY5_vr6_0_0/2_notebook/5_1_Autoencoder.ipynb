{
 "cells": [
  {
   "cell_type": "markdown",
   "metadata": {},
   "source": [
    "## 自己符号化器（Auntoencoder）"
   ]
  },
  {
   "cell_type": "markdown",
   "metadata": {},
   "source": [
    "ここでは、Kerasを用いて、自己符号化器の学習を行う。  \n",
    "[参考]  \n",
    "https://blog.keras.io/building-autoencoders-in-keras.html"
   ]
  },
  {
   "cell_type": "code",
   "execution_count": 2,
   "metadata": {
    "scrolled": true
   },
   "outputs": [
    {
     "name": "stderr",
     "output_type": "stream",
     "text": [
      "Using TensorFlow backend.\n"
     ]
    }
   ],
   "source": [
    "from keras.layers import Input, Dense\n",
    "from keras.models import Model\n",
    "from keras.datasets import mnist\n",
    "import numpy as np\n",
    "from PIL import Image\n",
    "import matplotlib.pyplot as plt\n",
    "import pandas as pd"
   ]
  },
  {
   "cell_type": "markdown",
   "metadata": {},
   "source": [
    "### MNISTデータの読み込み"
   ]
  },
  {
   "cell_type": "code",
   "execution_count": 3,
   "metadata": {},
   "outputs": [],
   "source": [
    "# Load the MNIST dataset\n",
    "import tensorflow as tf\n",
    "mnist = tf.keras.datasets.mnist\n",
    "(X_train, y_train),(X_test, y_test) = mnist.load_data()\n",
    "\n",
    "# 28*28の画像データを784のベクトルに変換する\n",
    "X_train = X_train.reshape(-1, 784) / 255\n",
    "X_test = X_test.reshape(-1, 784) / 255"
   ]
  },
  {
   "cell_type": "markdown",
   "metadata": {},
   "source": [
    "### モデルの定義\n",
    "モデルは入力層-中間層-出力層の構成とする。  \n",
    "入力層-中間層がエンコーダ、中間層-出力層がデコーダになる。  \n",
    "なお、ここでは、ノードの集まり層と呼んでいる。  "
   ]
  },
  {
   "cell_type": "code",
   "execution_count": 4,
   "metadata": {},
   "outputs": [
    {
     "name": "stderr",
     "output_type": "stream",
     "text": [
      "WARNING: Logging before flag parsing goes to stderr.\n",
      "W0421 14:08:21.637796 4398298560 deprecation_wrapper.py:119] From /Users/ogata/.pyenv/versions/anaconda3-2019.03/lib/python3.7/site-packages/keras/backend/tensorflow_backend.py:74: The name tf.get_default_graph is deprecated. Please use tf.compat.v1.get_default_graph instead.\n",
      "\n",
      "W0421 14:08:21.697993 4398298560 deprecation_wrapper.py:119] From /Users/ogata/.pyenv/versions/anaconda3-2019.03/lib/python3.7/site-packages/keras/backend/tensorflow_backend.py:517: The name tf.placeholder is deprecated. Please use tf.compat.v1.placeholder instead.\n",
      "\n",
      "W0421 14:08:21.725054 4398298560 deprecation_wrapper.py:119] From /Users/ogata/.pyenv/versions/anaconda3-2019.03/lib/python3.7/site-packages/keras/backend/tensorflow_backend.py:4138: The name tf.random_uniform is deprecated. Please use tf.random.uniform instead.\n",
      "\n",
      "W0421 14:08:21.775340 4398298560 deprecation_wrapper.py:119] From /Users/ogata/.pyenv/versions/anaconda3-2019.03/lib/python3.7/site-packages/keras/optimizers.py:790: The name tf.train.Optimizer is deprecated. Please use tf.compat.v1.train.Optimizer instead.\n",
      "\n",
      "W0421 14:08:21.804751 4398298560 deprecation_wrapper.py:119] From /Users/ogata/.pyenv/versions/anaconda3-2019.03/lib/python3.7/site-packages/keras/backend/tensorflow_backend.py:3376: The name tf.log is deprecated. Please use tf.math.log instead.\n",
      "\n",
      "W0421 14:08:21.810873 4398298560 deprecation.py:323] From /Users/ogata/.pyenv/versions/anaconda3-2019.03/lib/python3.7/site-packages/tensorflow/python/ops/nn_impl.py:180: add_dispatch_support.<locals>.wrapper (from tensorflow.python.ops.array_ops) is deprecated and will be removed in a future version.\n",
      "Instructions for updating:\n",
      "Use tf.where in 2.0, which has the same broadcast rule as np.where\n"
     ]
    }
   ],
   "source": [
    "# 中間層のノード数\n",
    "encoding_dim = 36\n",
    "\n",
    "# 入力層の定義\n",
    "input_img = Input(shape=(784,)) \n",
    "\n",
    "# 入力層〜中間層を定義\n",
    "encoded = Dense(encoding_dim, activation='relu')(input_img)\n",
    "\n",
    "# 中間層〜出力層を定義\n",
    "decoded = Dense(784, activation='sigmoid')(encoded)\n",
    "# decoded = Dense(784, activation='linear')(encoded)\n",
    " \n",
    "# 入力層〜中間層までをつなげて、ネットワークを完成させる\n",
    "autoencoder = Model(inputs=input_img, outputs=decoded)\n",
    "\n",
    "# 損失関数と最適化手法の定義\n",
    "autoencoder.compile(optimizer='adam', loss='binary_crossentropy')\n",
    "# autoencoder.compile(optimizer='adam', loss=\"mean_squared_error\") \n",
    "\n",
    "\n",
    "# 計算結果を利用しやすくするために、以下のモデルを定義\n",
    "\n",
    "# エンコーダ部分だけのモデルを定義\n",
    "encoder = Model(inputs=input_img, outputs=encoded)\n",
    "\n",
    "# デコーダ部分だけのモデルを定義\n",
    "encoded_input = Input(shape=(encoding_dim,))\n",
    "decoder_layer = autoencoder.layers[-1] # 中間層〜出力層\n",
    "decoder = Model(inputs=encoded_input, outputs=decoder_layer(encoded_input))"
   ]
  },
  {
   "cell_type": "markdown",
   "metadata": {},
   "source": [
    "### 自己符号化器の訓練\n",
    "自己符号化器を訓練する。入力データと正解データに同じデータを用いる。"
   ]
  },
  {
   "cell_type": "code",
   "execution_count": 5,
   "metadata": {},
   "outputs": [
    {
     "name": "stderr",
     "output_type": "stream",
     "text": [
      "W0421 14:08:22.175860 4398298560 deprecation_wrapper.py:119] From /Users/ogata/.pyenv/versions/anaconda3-2019.03/lib/python3.7/site-packages/keras/backend/tensorflow_backend.py:986: The name tf.assign_add is deprecated. Please use tf.compat.v1.assign_add instead.\n",
      "\n"
     ]
    },
    {
     "name": "stdout",
     "output_type": "stream",
     "text": [
      "Train on 60000 samples, validate on 10000 samples\n",
      "Epoch 1/20\n",
      "60000/60000 [==============================] - 5s 79us/step - loss: 0.2704 - val_loss: 0.1828\n",
      "Epoch 2/20\n",
      "60000/60000 [==============================] - 5s 83us/step - loss: 0.1653 - val_loss: 0.1492\n",
      "Epoch 3/20\n",
      "60000/60000 [==============================] - 6s 105us/step - loss: 0.1405 - val_loss: 0.1300\n",
      "Epoch 4/20\n",
      "60000/60000 [==============================] - 6s 106us/step - loss: 0.1249 - val_loss: 0.1178\n",
      "Epoch 5/20\n",
      "60000/60000 [==============================] - 7s 110us/step - loss: 0.1145 - val_loss: 0.1084\n",
      "Epoch 6/20\n",
      "60000/60000 [==============================] - 8s 136us/step - loss: 0.1063 - val_loss: 0.1020\n",
      "Epoch 7/20\n",
      "60000/60000 [==============================] - 8s 137us/step - loss: 0.1010 - val_loss: 0.0976\n",
      "Epoch 8/20\n",
      "60000/60000 [==============================] - 8s 139us/step - loss: 0.0972 - val_loss: 0.0945\n",
      "Epoch 9/20\n",
      "60000/60000 [==============================] - 8s 140us/step - loss: 0.0946 - val_loss: 0.0923\n",
      "Epoch 10/20\n",
      "60000/60000 [==============================] - 8s 137us/step - loss: 0.0929 - val_loss: 0.0911\n",
      "Epoch 11/20\n",
      "60000/60000 [==============================] - 8s 140us/step - loss: 0.0917 - val_loss: 0.0901\n",
      "Epoch 12/20\n",
      "60000/60000 [==============================] - 8s 137us/step - loss: 0.0910 - val_loss: 0.0895\n",
      "Epoch 13/20\n",
      "60000/60000 [==============================] - 8s 138us/step - loss: 0.0905 - val_loss: 0.0891\n",
      "Epoch 14/20\n",
      "60000/60000 [==============================] - 8s 140us/step - loss: 0.0901 - val_loss: 0.0888\n",
      "Epoch 15/20\n",
      "60000/60000 [==============================] - 8s 137us/step - loss: 0.0899 - val_loss: 0.0886\n",
      "Epoch 16/20\n",
      "60000/60000 [==============================] - 8s 140us/step - loss: 0.0896 - val_loss: 0.0884\n",
      "Epoch 17/20\n",
      "60000/60000 [==============================] - 14s 226us/step - loss: 0.0895 - val_loss: 0.0882\n",
      "Epoch 18/20\n",
      "60000/60000 [==============================] - 12s 203us/step - loss: 0.0893 - val_loss: 0.0881\n",
      "Epoch 19/20\n",
      "60000/60000 [==============================] - 9s 148us/step - loss: 0.0892 - val_loss: 0.0880\n",
      "Epoch 20/20\n",
      "60000/60000 [==============================] - 9s 147us/step - loss: 0.0891 - val_loss: 0.0880\n"
     ]
    },
    {
     "data": {
      "image/png": "[encoded data removed]",
      "text/plain": [
       "<Figure size 432x288 with 1 Axes>"
      ]
     },
     "metadata": {
      "needs_background": "light"
     },
     "output_type": "display_data"
    }
   ],
   "source": [
    "history = autoencoder.fit(X_train, X_train,\n",
    "                epochs=20,\n",
    "                batch_size=256,\n",
    "                shuffle=True,\n",
    "                validation_data=(X_test, X_test))\n",
    "\n",
    "# 計算過程の描画\n",
    "df_log = pd.DataFrame(history.history)\n",
    "df_log.rename(columns={\"loss\":\"train_loss\"}, inplace=True)\n",
    "df_log.plot(style=['r--', 'r-'])\n",
    "plt.ylabel(\"Loss\")\n",
    "plt.xlabel(\"epochs\")\n",
    "plt.show()"
   ]
  },
  {
   "cell_type": "markdown",
   "metadata": {},
   "source": [
    "### テストデータを入力し、中間層と出力層の値を得る\n",
    "encoderとdecoderはautoencoderと連動しているので、中間層と出力層の値を個別に得ることができる。"
   ]
  },
  {
   "cell_type": "code",
   "execution_count": 6,
   "metadata": {},
   "outputs": [],
   "source": [
    "encoded_imgs = encoder.predict(X_test)\n",
    "decoded_imgs = decoder.predict(encoded_imgs)\n",
    "# decoded_imgs = autoencoder.predict(X_test) #としても同じ"
   ]
  },
  {
   "cell_type": "markdown",
   "metadata": {},
   "source": [
    "### 結果の可視化\n",
    "matplotlibを使って結果を可視化する。"
   ]
  },
  {
   "cell_type": "code",
   "execution_count": 7,
   "metadata": {},
   "outputs": [
    {
     "data": {
      "image/png": "[encoded data removed]",
      "text/plain": [
       "<Figure size 1440x288 with 30 Axes>"
      ]
     },
     "metadata": {
      "needs_background": "light"
     },
     "output_type": "display_data"
    }
   ],
   "source": [
    "# 表示させる画像の枚数\n",
    "n = 10  \n",
    "\n",
    "plt.figure(figsize=(20, 4))\n",
    "for i in range(n):\n",
    "    # 元画像\n",
    "    ax = plt.subplot(3, n, i + 1)\n",
    "    plt.imshow(X_test[i].reshape(28, 28))\n",
    "    plt.gray()\n",
    "    ax.get_xaxis().set_visible(False)\n",
    "    ax.get_yaxis().set_visible(False)\n",
    "\n",
    "    # 中間層の出力値\n",
    "    ax = plt.subplot(3, n, i + 1 + n)\n",
    "    plt.imshow(encoded_imgs[i].reshape(6,6)) #画像サイズは、encoding_dimに合わせて変更する\n",
    "    plt.gray()\n",
    "    ax.get_xaxis().set_visible(False)\n",
    "    ax.get_yaxis().set_visible(False)\n",
    "    \n",
    "    # 出力層の出力値(復元画像)\n",
    "    ax = plt.subplot(3, n, i + 1 + 2*n)\n",
    "    plt.imshow(decoded_imgs[i].reshape(28, 28))\n",
    "    plt.gray()\n",
    "    ax.get_xaxis().set_visible(False)\n",
    "    ax.get_yaxis().set_visible(False)\n",
    "plt.show()"
   ]
  },
  {
   "cell_type": "markdown",
   "metadata": {
    "collapsed": true
   },
   "source": [
    "### [演習]\n",
    "* Epoch数を減らすと再構成画像がどうなるか確認してみましょう。\n",
    "* 中間層のノード数を減らすと再構成画像がどうなるか確認してみましょう。\n",
    "* 通し課題における自己符号化器の活用方法を考えてみましょう。"
   ]
  },
  {
   "cell_type": "code",
   "execution_count": null,
   "metadata": {},
   "outputs": [],
   "source": []
  }
 ],
 "metadata": {
  "kernelspec": {
   "display_name": "Python 3",
   "language": "python",
   "name": "python3"
  },
  "language_info": {
   "codemirror_mode": {
    "name": "ipython",
    "version": 3
   },
   "file_extension": ".py",
   "mimetype": "text/x-python",
   "name": "python",
   "nbconvert_exporter": "python",
   "pygments_lexer": "ipython3",
   "version": "3.7.3"
  }
 },
 "nbformat": 4,
 "nbformat_minor": 2
}
