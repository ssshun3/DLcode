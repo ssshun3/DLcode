{
 "cells": [
  {
   "cell_type": "markdown",
   "metadata": {},
   "source": [
    "# 方策反復法(policy iteration)の考え方を迷路問題を用いて確認する"
   ]
  },
  {
   "cell_type": "code",
   "execution_count": 1,
   "metadata": {},
   "outputs": [],
   "source": [
    "import numpy as np\n",
    "import seaborn as sns\n",
    "import matplotlib.pyplot as plt\n",
    "from common.meiro import Environment"
   ]
  },
  {
   "cell_type": "markdown",
   "metadata": {},
   "source": [
    "### [参考]"
   ]
  },
  {
   "cell_type": "code",
   "execution_count": 2,
   "metadata": {},
   "outputs": [
    {
     "name": "stdout",
     "output_type": "stream",
     "text": [
      "2\n",
      "c\n"
     ]
    }
   ],
   "source": [
    "# <valueが最大になるkeyを取得する方法>\n",
    "\n",
    "# dictの定義\n",
    "action_value_dict = {\"a\":1, \"b\":2, \"c\":3}\n",
    "\n",
    "# dictのgetメソッドは、引数に指定したkeyに対応するvalueを返してくれる\n",
    "print(action_value_dict.get(\"b\"))\n",
    "\n",
    "# dictのgetメソッドをmaxのkey引数に指定することで、valueが最大となるkeyを取得することができる\n",
    "max_ = max(action_value_dict, key=action_value_dict.get)\n",
    "print(max_)"
   ]
  },
  {
   "cell_type": "code",
   "execution_count": 3,
   "metadata": {},
   "outputs": [],
   "source": [
    "class Planner():\n",
    "\n",
    "    def __init__(self, env):\n",
    "        self.env = env\n",
    "        self.log = []\n",
    "\n",
    "    def initialize(self):\n",
    "        \"\"\"\n",
    "        初期化メソッド\n",
    "        \"\"\"\n",
    "        # 環境の初期化\n",
    "        self.env.reset()\n",
    "\n",
    "    def plan(self, gamma=0.9, threshold=0.0001):\n",
    "        \"\"\"\n",
    "        planメソッドの実態は、このクラスを継承するクラスに記述する\n",
    "        \"\"\"\n",
    "        raise Exception(\"Planner have to implements plan method.\")\n",
    "\n",
    "    def transitions_at(self, state, action):\n",
    "        \"\"\"\n",
    "        行動確率, 次の状態, 報酬を順番に返すメソッド\n",
    "        \"\"\"\n",
    "        dic_transition_probs = self.env.calc_transit_prob(state, action)\n",
    "        for next_state, prob in dic_transition_probs.items():\n",
    "            reward, _ = self.env.reward_func(next_state)\n",
    "            yield prob, next_state, reward # 順番にreturnする(イテレータ)\n",
    "\n",
    "    def dict_to_array(self, state_reward_dict):\n",
    "        \"\"\"\n",
    "        dict形式を2次元配列形式に変換するメソッド\n",
    "        \"\"\"\n",
    "        grid = np.zeros((self.env.row_length, self.env.col_length))\n",
    "        for s in state_reward_dict:\n",
    "            grid[s.row, s.col] = state_reward_dict[s]\n",
    "\n",
    "        return grid\n",
    "    \n",
    "\n",
    "class PolicyIterationPlanner(Planner):\n",
    "    \"\"\"\n",
    "    方策反復法を用いて、価値と方策を更新していくためのクラス\n",
    "    \"\"\"\n",
    "    def __init__(self, env):\n",
    "        \n",
    "        # Plannerクラスの__init__メソッドを実行する\n",
    "        super().__init__(env)\n",
    "        \n",
    "        self.policy = {}\n",
    "\n",
    "    def initialize(self):\n",
    "        \"\"\"\n",
    "        初期化メソッド\n",
    "        \"\"\"\n",
    "        # Plannerクラスのinitializeメソッドを実行する\n",
    "        super().initialize()\n",
    "        \n",
    "        self.policy = {}\n",
    "        actions = self.env.actions\n",
    "        states = self.env.states\n",
    "        \n",
    "        # 方策の初期化\n",
    "        for s in states:\n",
    "            self.policy[s] = {}\n",
    "            for a in actions:\n",
    "                self.policy[s][a] = 1 / len(actions) # すべての行動を等確率にする\n",
    "\n",
    "    def estimate_by_policy(self, gamma, threshold, V):\n",
    "        \"\"\"\n",
    "        方策を評価する(=価値を更新する）メソッド\n",
    "        \"\"\"\n",
    "\n",
    "        while True:\n",
    "            delta = 0\n",
    "            \n",
    "            for s in V.keys():\n",
    "                \"\"\"\n",
    "                全ての状態をループ\n",
    "                \"\"\"\n",
    "                expected_return = []\n",
    "                \n",
    "                for a in self.policy[s]:\n",
    "                    \"\"\"\n",
    "                    ある状態においてとりうる行動をループ\n",
    "                    \"\"\"\n",
    "                    action_prob = self.policy[s][a] # ある状態sにおいて行動aをとる確率\n",
    "                    \n",
    "                    if action_prob==0:\n",
    "                        \"\"\"\n",
    "                        その行動aをとる確率が0であれば計算する意味がないのでスキップ\n",
    "                        \"\"\"\n",
    "                        continue\n",
    "                        \n",
    "                    r = 0\n",
    "                    for prob, next_state, reward in self.transitions_at(s, a):\n",
    "                        \"\"\"\n",
    "                        ある状態sにおいてある行動aをとった場合のとりうるnext_stateのループ\n",
    "                        \"\"\"\n",
    "                        # ある行動aをとる確率 * ある状態sにおいて行動aをとった場合に次の状態next_stateになる確率 * 期待収益\n",
    "                        r += action_prob * prob * (reward + gamma * V[next_state])\n",
    "                        \n",
    "                    expected_return.append(r)\n",
    "                    \n",
    "                # 　expected_returnを合計することで、すべてのとりうる行動aに対する期待値になる\n",
    "                value = sum(expected_return) \n",
    "                delta = max(delta, abs(value - V[s])) # 変化量\n",
    "                V[s] = value # 価値の更新\n",
    "                \n",
    "            # 終了判定\n",
    "            if delta < threshold:\n",
    "                break\n",
    "\n",
    "        return V\n",
    "\n",
    "    def plan(self, gamma=0.9, threshold=0.00001):\n",
    "        \"\"\"\n",
    "        各セルの価値を求めるメソッド\n",
    "        \"\"\"       \n",
    "        # 初期化\n",
    "        self.initialize()\n",
    "        states = self.env.states\n",
    "        actions = self.env.actions\n",
    "\n",
    "        # 価値Vの初期化\n",
    "        V = {}\n",
    "        for s in self.env.states:\n",
    "            V[s] = 0\n",
    "            \n",
    "            \n",
    "        def take_max_action(action_value_dict):\n",
    "            \"\"\"\n",
    "            valueが最大になるkeyを返す関数\n",
    "            \"\"\"\n",
    "            return max(action_value_dict, key=action_value_dict.get)\n",
    "\n",
    "        \n",
    "        # 価値を更新するループ\n",
    "        while True:\n",
    "\n",
    "            # 終了判定フラグの初期化\n",
    "            update_stable = True\n",
    "            \n",
    "            # 方策を評価する(=価値を更新する）\n",
    "            V = self.estimate_by_policy(gamma, threshold, V)\n",
    "\n",
    "            for s in states:\n",
    "                \"\"\"\n",
    "                すべての状態をループ\n",
    "                \"\"\"\n",
    "                # ある状態sにおいて確率が最大になる行動を求める\n",
    "                policy_action = take_max_action(self.policy[s]) # 方策基準で選ばれた行動\n",
    "\n",
    "                # ある状態sにおいて期待収益を最大にする行動を求める\n",
    "                action_returns = {}\n",
    "                for a in actions:\n",
    "                    \"\"\"\n",
    "                    すべての行動をループ\n",
    "                    \"\"\"\n",
    "                    r = 0\n",
    "                    \n",
    "                    for prob, next_state, reward in self.transitions_at(s, a):\n",
    "                        \"\"\"\n",
    "                        ある状態sにおいてある行動aをとった場合のとりうるnext_stateのループ\n",
    "                        \"\"\"\n",
    "                        # そのnext_stateをとる確率 * 収益\n",
    "                        r += prob * (reward + gamma * V[next_state])\n",
    "                        \n",
    "                    action_returns[a] = r\n",
    "                best_action = take_max_action(action_returns) # 行動価値基準で選ばれた行動\n",
    "                \n",
    "                # 終了判定\n",
    "                if policy_action != best_action:\n",
    "                    # 方策によって決めた行動policy_actionと期待収益を最大にする行動が異なっている場合は継続する\n",
    "                    update_stable = False\n",
    "\n",
    "                # 方策を改善(更新)する\n",
    "                for a in self.policy[s]:\n",
    "                    \"\"\"\n",
    "                    ある状態sにおいてとりうる行動aのループ\n",
    "                    \"\"\"\n",
    "                    # best_actionをとる確率を1にし、残りの確率を0にする\n",
    "                    prob = 1 if a == best_action else 0\n",
    "                    self.policy[s][a] = prob\n",
    "\n",
    "            # 終了判定\n",
    "            if update_stable:\n",
    "                break\n",
    "\n",
    "        # dict形式のVを2次元配列に変換する\n",
    "        V_grid = self.dict_to_array(V)\n",
    "        \n",
    "        return V_grid"
   ]
  },
  {
   "cell_type": "markdown",
   "metadata": {},
   "source": [
    "## 実行"
   ]
  },
  {
   "cell_type": "code",
   "execution_count": 4,
   "metadata": {},
   "outputs": [
    {
     "name": "stdout",
     "output_type": "stream",
     "text": [
      "elapsed_time:0.037[sec]\n"
     ]
    }
   ],
   "source": [
    "import time\n",
    "start = time.time()\n",
    "\n",
    "# 迷路の条件を設定する\n",
    "grid = np.array([[0,0,0,1],[0,9,0,-1],[0,0,0,0]])\n",
    "\n",
    "# 環境をつくる\n",
    "env = Environment(grid, move_prob=0.95)\n",
    "\n",
    "# 方策反復法のオブジェクトをつくる( 方策反復法において、エージェントは不要 )\n",
    "planner = PolicyIterationPlanner(env)\n",
    "\n",
    "# 方策反復法を実行する\n",
    "V_result = planner.plan()\n",
    "\n",
    "# 実行時間\n",
    "elapsed_time = time.time() - start\n",
    "print (\"elapsed_time:{:.3f}\".format(elapsed_time) + \"[sec]\")"
   ]
  },
  {
   "cell_type": "markdown",
   "metadata": {},
   "source": [
    "## 結果の可視化"
   ]
  },
  {
   "cell_type": "code",
   "execution_count": 5,
   "metadata": {},
   "outputs": [
    {
     "data": {
      "image/png": "[encoded data removed]",
      "text/plain": [
       "<Figure size 432x288 with 2 Axes>"
      ]
     },
     "metadata": {
      "needs_background": "light"
     },
     "output_type": "display_data"
    }
   ],
   "source": [
    "import seaborn as sns\n",
    "sns.heatmap(V_result, annot=True, linewidths=2, vmin=0, vmax=1, cmap=sns.color_palette(\"Reds\", 24))\n",
    "plt.title(\"Calculated Value\")\n",
    "plt.show()"
   ]
  },
  {
   "cell_type": "code",
   "execution_count": null,
   "metadata": {},
   "outputs": [],
   "source": [
    "        "
   ]
  }
 ],
 "metadata": {
  "kernelspec": {
   "display_name": "Python 3 (ipykernel)",
   "language": "python",
   "name": "python3"
  },
  "language_info": {
   "codemirror_mode": {
    "name": "ipython",
    "version": 3
   },
   "file_extension": ".py",
   "mimetype": "text/x-python",
   "name": "python",
   "nbconvert_exporter": "python",
   "pygments_lexer": "ipython3",
   "version": "3.7.12"
  }
 },
 "nbformat": 4,
 "nbformat_minor": 2
}
