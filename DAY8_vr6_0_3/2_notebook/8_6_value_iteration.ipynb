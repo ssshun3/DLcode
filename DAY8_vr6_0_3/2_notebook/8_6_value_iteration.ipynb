{
 "cells": [
  {
   "cell_type": "markdown",
   "metadata": {},
   "source": [
    "# 価値反復法(value iteration)の考え方を迷路問題を用いて確認する"
   ]
  },
  {
   "cell_type": "code",
   "execution_count": 1,
   "metadata": {},
   "outputs": [],
   "source": [
    "import numpy as np\n",
    "import seaborn as sns\n",
    "import matplotlib.pyplot as plt\n",
    "from common.meiro import Environment, State\n",
    "from common.planner import Planner"
   ]
  },
  {
   "cell_type": "code",
   "execution_count": 2,
   "metadata": {},
   "outputs": [],
   "source": [
    "class ValueIterationPlanner(Planner):\n",
    "    \"\"\"\n",
    "    価値反復法を用いて、価値を更新していくためのクラス\n",
    "    \"\"\"\n",
    "    def __init__(self, env):\n",
    "        # Plannerクラスの__init__関数を実行する\n",
    "        super().__init__(env) \n",
    "\n",
    "    def plan(self, gamma=0.9, threshold=0.0001):\n",
    "        \"\"\"\n",
    "        各セルの価値を求めるメソッド\n",
    "        \"\"\"\n",
    "        self.gamma = gamma\n",
    "        \n",
    "        # 初期化\n",
    "        self.initialize()\n",
    "        actions = self.env.actions\n",
    "        \n",
    "        # 価値Vの初期化\n",
    "        V = {}\n",
    "        for s in self.env.states:\n",
    "            V[s] = 0\n",
    "            \n",
    "        # 価値を更新するループ\n",
    "        while True:\n",
    "            delta = 0\n",
    "\n",
    "            states = V.keys()\n",
    "            for s in states:\n",
    "                \"\"\"\n",
    "                全状態のループ\n",
    "                \"\"\"\n",
    "                \n",
    "                if not self.env.can_action_at(s):\n",
    "                    \"\"\"\n",
    "                    通常セル以外はスキップする\n",
    "                    \"\"\"\n",
    "                    continue\n",
    "\n",
    "\n",
    "                expected_return = []\n",
    "                for a in actions:\n",
    "                    \"\"\"\n",
    "                    全行動のループ\n",
    "                    \"\"\"\n",
    "                    \n",
    "                    r = 0\n",
    "                    for prob, next_state, reward in self.transitions_at(s, a):                      \n",
    "                        \"\"\"\n",
    "                        ある状態sにおいてある行動aをとった場合のとりうるnext_stateのループ\n",
    "                        \"\"\"\n",
    "                        # そのnext_stateをとる確率 * 収益\n",
    "                        r += prob * (reward + gamma * V[next_state])\n",
    "                        \n",
    "                    # 期待収益\n",
    "                    expected_return.append(r)\n",
    "                    \n",
    "                # 期待収益の最大値をその状態の価値にする\n",
    "                max_reward = max(expected_return)\n",
    "                delta = max(delta, abs(max_reward - V[s]))# 価値の変化量\n",
    "                V[s] = max_reward\n",
    "                \n",
    "            # 価値の変化量deltaが閾値未満になったら終了\n",
    "            if delta < threshold:\n",
    "                break\n",
    "\n",
    "        # dict形式のVを2次元配列に変換する\n",
    "        V_grid = self.dict_to_array(V)\n",
    "        \n",
    "        # policyメソッドで利用するために記憶しておく\n",
    "        self.V = V\n",
    "        \n",
    "        return V_grid\n",
    "\n",
    "\n",
    "    def policy(self, s):\n",
    "        \"\"\"\n",
    "        学習後に、ある状態に対する最適な行動を出力するためのメソッド\n",
    "        s : 状態\n",
    "        \"\"\"\n",
    "        if not hasattr(self, 'V'):\n",
    "            print(\"価値Vの計算結果が存在しません. planを実行してください\")\n",
    "            return None\n",
    "        \n",
    "        actions = self.env.actions\n",
    "        V = self.V\n",
    "        gamma = self.gamma\n",
    "        \n",
    "        # 引数で与えられた状態sに関する行動価値を初期化\n",
    "        Q_s = [0] * len(actions)\n",
    "                    \n",
    "        # 学習された状態価値を使って各行動に関する行動価値を計算\n",
    "        for a in actions:\n",
    "            for prob, next_state, reward in self.transitions_at(s, a):\n",
    "                Q_s[a] = prob * (reward + gamma * V[next_state])\n",
    "                \n",
    "        # 最適な行動を出力\n",
    "        return np.argmax(Q_s)\n"
   ]
  },
  {
   "cell_type": "markdown",
   "metadata": {},
   "source": [
    "## 実行"
   ]
  },
  {
   "cell_type": "code",
   "execution_count": 3,
   "metadata": {},
   "outputs": [
    {
     "name": "stdout",
     "output_type": "stream",
     "text": [
      "elapsed_time:0.007[sec]\n"
     ]
    },
    {
     "data": {
      "text/plain": [
       "3"
      ]
     },
     "execution_count": 3,
     "metadata": {},
     "output_type": "execute_result"
    }
   ],
   "source": [
    "import time\n",
    "start = time.time()\n",
    "\n",
    "# 迷路の条件を設定する\n",
    "grid = np.array([[0,0,0,1],[0,9,0,-1],[0,0,0,0]])\n",
    "\n",
    "# 環境をつくる\n",
    "env = Environment(grid, move_prob=0.95)\n",
    "\n",
    "# 価値反復法のオブジェクトをつくる( 価値反復法において、エージェントは不要 )\n",
    "planner = ValueIterationPlanner(env)\n",
    "\n",
    "# 価値反復法を実行する\n",
    "result = planner.plan()\n",
    "\n",
    "# 実行時間\n",
    "elapsed_time = time.time() - start\n",
    "print (\"elapsed_time:{:.3f}\".format(elapsed_time) + \"[sec]\")\n",
    "\n",
    "# 学習した結果を用いて、ある状態に関する最適な行動を出力させる\n",
    "planner.policy(State(0,0))"
   ]
  },
  {
   "cell_type": "markdown",
   "metadata": {},
   "source": [
    "## 結果の可視化"
   ]
  },
  {
   "cell_type": "code",
   "execution_count": 4,
   "metadata": {},
   "outputs": [
    {
     "data": {
      "image/png": "[encoded data removed]",
      "text/plain": [
       "<Figure size 432x288 with 2 Axes>"
      ]
     },
     "metadata": {
      "needs_background": "light"
     },
     "output_type": "display_data"
    }
   ],
   "source": [
    "import seaborn as sns\n",
    "sns.heatmap(result, annot=True, linewidths=2, vmin=0, vmax=1, cmap=sns.color_palette(\"Reds\", 24))\n",
    "plt.title(\"Calculated Value\")\n",
    "plt.show()"
   ]
  },
  {
   "cell_type": "markdown",
   "metadata": {},
   "source": [
    "* 計算結果は方策反復法と同じになるが、計算ステップが少なく済む分、計算時間が短くなる"
   ]
  }
 ],
 "metadata": {
  "kernelspec": {
   "display_name": "Python 3",
   "language": "python",
   "name": "python3"
  },
  "language_info": {
   "codemirror_mode": {
    "name": "ipython",
    "version": 3
   },
   "file_extension": ".py",
   "mimetype": "text/x-python",
   "name": "python",
   "nbconvert_exporter": "python",
   "pygments_lexer": "ipython3",
   "version": "3.7.3"
  }
 },
 "nbformat": 4,
 "nbformat_minor": 2
}
