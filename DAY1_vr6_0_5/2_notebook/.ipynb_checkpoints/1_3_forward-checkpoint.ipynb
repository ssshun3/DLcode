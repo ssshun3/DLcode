{
 "cells": [
  {
   "cell_type": "markdown",
   "metadata": {},
   "source": [
    "# 順伝播計算"
   ]
  },
  {
   "cell_type": "code",
   "execution_count": 1,
   "metadata": {
    "ExecuteTime": {
     "end_time": "2018-03-28T14:43:02.757207Z",
     "start_time": "2018-03-28T14:43:02.752318Z"
    }
   },
   "outputs": [],
   "source": [
    "import numpy as np"
   ]
  },
  {
   "cell_type": "markdown",
   "metadata": {
    "ExecuteTime": {
     "end_time": "2018-03-28T14:35:09.791226Z",
     "start_time": "2018-03-28T14:35:09.787244Z"
    }
   },
   "source": [
    "## シグモイド関数"
   ]
  },
  {
   "cell_type": "code",
   "execution_count": 2,
   "metadata": {
    "ExecuteTime": {
     "end_time": "2018-03-28T14:43:02.765796Z",
     "start_time": "2018-03-28T14:43:02.761089Z"
    }
   },
   "outputs": [],
   "source": [
    "def sigmoid(x):\n",
    "    return 1 / (1+ np.exp(-x))"
   ]
  },
  {
   "cell_type": "markdown",
   "metadata": {},
   "source": [
    "## 恒等写像関数"
   ]
  },
  {
   "cell_type": "code",
   "execution_count": 3,
   "metadata": {
    "ExecuteTime": {
     "end_time": "2018-03-28T14:43:02.773757Z",
     "start_time": "2018-03-28T14:43:02.769727Z"
    }
   },
   "outputs": [],
   "source": [
    "def linear(x):\n",
    "    return x"
   ]
  },
  {
   "cell_type": "markdown",
   "metadata": {},
   "source": [
    "## 1層のニューラルネットワークの順伝播計算"
   ]
  },
  {
   "cell_type": "code",
   "execution_count": 4,
   "metadata": {
    "ExecuteTime": {
     "end_time": "2018-03-28T14:43:02.792239Z",
     "start_time": "2018-03-28T14:43:02.777453Z"
    }
   },
   "outputs": [
    {
     "name": "stdout",
     "output_type": "stream",
     "text": [
      "(2,)\n",
      "(2, 3)\n"
     ]
    },
    {
     "data": {
      "text/plain": [
       "array([ 9, 12, 15])"
      ]
     },
     "execution_count": 4,
     "metadata": {},
     "output_type": "execute_result"
    }
   ],
   "source": [
    "x = np.array([1,2])\n",
    "print(x.shape)\n",
    "W = np.array([[1,2,3],[4,5,6]])\n",
    "print(W.shape)\n",
    "np.dot(x, W)"
   ]
  },
  {
   "cell_type": "markdown",
   "metadata": {},
   "source": [
    "## 3層のニューラルネットワークの順伝播計算"
   ]
  },
  {
   "cell_type": "code",
   "execution_count": 5,
   "metadata": {
    "ExecuteTime": {
     "end_time": "2018-03-28T14:43:02.814316Z",
     "start_time": "2018-03-28T14:43:02.795520Z"
    }
   },
   "outputs": [
    {
     "name": "stdout",
     "output_type": "stream",
     "text": [
      "[0.3 0.7 1.1]\n",
      "[0.57444252 0.66818777 0.75026011]\n"
     ]
    }
   ],
   "source": [
    "# 1層目\n",
    "x = np.array([1.0, 0.5])\n",
    "W1 = np.array([[0.1, 0.3, 0.5],[0.2, 0.4, 0.6]])\n",
    "b1 = np.array([0.1, 0.2, 0.3])\n",
    "a1 = np.dot(x, W1) + b1 \n",
    "print(a1)\n",
    "# 中間層の活性化関数にはシグモイド関数を用いる\n",
    "z1 = sigmoid(a1)\n",
    "print(z1)"
   ]
  },
  {
   "cell_type": "code",
   "execution_count": 6,
   "metadata": {
    "ExecuteTime": {
     "end_time": "2018-03-28T14:43:02.831965Z",
     "start_time": "2018-03-28T14:43:02.819140Z"
    }
   },
   "outputs": [
    {
     "name": "stdout",
     "output_type": "stream",
     "text": [
      "[0.51615984 1.21402696]\n",
      "[0.62624937 0.7710107 ]\n"
     ]
    }
   ],
   "source": [
    "# 2層目\n",
    "W2 = np.array([[0.1, 0.4],[0.2, 0.5], [0.3, 0.6]])\n",
    "b2 = np.array([0.1, 0.2])\n",
    "a2 = np.dot(z1, W2) + b2\n",
    "print(a2)\n",
    "# 中間層の活性化関数にはシグモイド関数を用いる\n",
    "z2 = sigmoid(a2)\n",
    "print(z2)"
   ]
  },
  {
   "cell_type": "code",
   "execution_count": 7,
   "metadata": {
    "ExecuteTime": {
     "end_time": "2018-03-28T14:43:02.852968Z",
     "start_time": "2018-03-28T14:43:02.835586Z"
    }
   },
   "outputs": [
    {
     "name": "stdout",
     "output_type": "stream",
     "text": [
      "[0.31682708 0.69627909]\n",
      "[0.31682708 0.69627909]\n"
     ]
    }
   ],
   "source": [
    "# 3層目\n",
    "W3 = np.array([[0.1, 0.3],[0.2, 0.4]])\n",
    "b3 = np.array([0.1, 0.2])\n",
    "a3 = np.dot(z2, W3) + b3\n",
    "print(a3)\n",
    "# ここでは、最終層の活性化関数には、恒等写像関数を用いている\n",
    "# 分類問題を解く場合には、ソフトマックス関数が使われることが多い\n",
    "y = linear(a3)\n",
    "print(y)"
   ]
  },
  {
   "cell_type": "markdown",
   "metadata": {
    "ExecuteTime": {
     "end_time": "2018-03-28T14:42:52.336396Z",
     "start_time": "2018-03-28T14:42:52.327458Z"
    }
   },
   "source": [
    "### [演習]\n",
    "* 入力xの値を変えてみましょう\n",
    "* 重みWを変えてみましょう\n",
    "* バイアスbを変えてみましょう\n",
    "* 中間層の活性化関数を変えてみましょう"
   ]
  }
 ],
 "metadata": {
  "kernelspec": {
   "display_name": "Python 3 (ipykernel)",
   "language": "python",
   "name": "python3"
  },
  "language_info": {
   "codemirror_mode": {
    "name": "ipython",
    "version": 3
   },
   "file_extension": ".py",
   "mimetype": "text/x-python",
   "name": "python",
   "nbconvert_exporter": "python",
   "pygments_lexer": "ipython3",
   "version": "3.7.12"
  }
 },
 "nbformat": 4,
 "nbformat_minor": 2
}
