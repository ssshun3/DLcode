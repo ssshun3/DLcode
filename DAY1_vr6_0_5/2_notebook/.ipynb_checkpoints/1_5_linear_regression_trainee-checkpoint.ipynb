{
 "cells": [
  {
   "cell_type": "markdown",
   "metadata": {},
   "source": [
    "# 線形回帰モデルとニューラルネットワークの比較"
   ]
  },
  {
   "cell_type": "code",
   "execution_count": null,
   "metadata": {
    "ExecuteTime": {
     "end_time": "2018-03-30T03:10:36.734191Z",
     "start_time": "2018-03-30T03:10:35.518059Z"
    },
    "scrolled": true
   },
   "outputs": [],
   "source": [
    "import pandas as pd\n",
    "import numpy as np\n",
    "from IPython.display import display\n",
    "import matplotlib.pyplot as plt\n",
    "import seaborn as sns\n",
    "from sklearn.model_selection import train_test_split\n",
    "from sklearn.linear_model import LinearRegression\n",
    "from sklearn.preprocessing import StandardScaler\n",
    "from sklearn.metrics import mean_squared_error\n",
    "from sklearn.datasets import load_boston\n",
    "boston = load_boston()"
   ]
  },
  {
   "cell_type": "code",
   "execution_count": null,
   "metadata": {
    "ExecuteTime": {
     "end_time": "2018-03-30T03:10:36.743573Z",
     "start_time": "2018-03-30T03:10:36.737133Z"
    }
   },
   "outputs": [],
   "source": [
    "print(boston.DESCR)"
   ]
  },
  {
   "cell_type": "code",
   "execution_count": null,
   "metadata": {
    "ExecuteTime": {
     "end_time": "2018-03-30T03:10:36.822072Z",
     "start_time": "2018-03-30T03:10:36.748290Z"
    }
   },
   "outputs": [],
   "source": [
    "print(\"説明変数\")\n",
    "df_data = pd.DataFrame(boston.data, columns=boston.feature_names)\n",
    "print(df_data.shape)\n",
    "display(df_data.head())\n",
    "\n",
    "print(\"目的変数\")\n",
    "display(boston.target[:10])"
   ]
  },
  {
   "cell_type": "code",
   "execution_count": null,
   "metadata": {
    "ExecuteTime": {
     "end_time": "2018-03-30T03:10:50.258384Z",
     "start_time": "2018-03-30T03:10:36.827101Z"
    },
    "scrolled": false
   },
   "outputs": [],
   "source": [
    "df = pd.concat([df_data, pd.DataFrame(boston.target, columns=[\"MEDV\"])], axis=1)\n",
    "display(df.corr().round(2))\n",
    "pd.plotting.scatter_matrix(df, figsize=(12,12))\n",
    "plt.show()"
   ]
  },
  {
   "cell_type": "markdown",
   "metadata": {
    "ExecuteTime": {
     "end_time": "2018-03-30T00:56:16.444483Z",
     "start_time": "2018-03-30T00:56:16.422594Z"
    }
   },
   "source": [
    "### データセット"
   ]
  },
  {
   "cell_type": "code",
   "execution_count": null,
   "metadata": {
    "ExecuteTime": {
     "end_time": "2018-03-30T03:10:50.275160Z",
     "start_time": "2018-03-30T03:10:50.260706Z"
    },
    "scrolled": true
   },
   "outputs": [],
   "source": [
    "X = df_data[[\"LSTAT\"]].as_matrix()\n",
    "y = boston.target\n",
    "X_train, X_test, y_train, y_test = train_test_split(X, y, shuffle=True,test_size=0.3,  random_state=1234)\n",
    "\n",
    "# 標準化\n",
    "std = StandardScaler()\n",
    "X_train = std.fit_transform(X_train)\n",
    "X_test = std.transform(X_test)\n",
    "std = StandardScaler()\n",
    "y_train = std.fit_transform(y_train.reshape(-1, 1)).reshape(1, -1)[0]\n",
    "y_test = std.transform(y_test.reshape(-1, 1)).reshape(1, -1)[0]"
   ]
  },
  {
   "cell_type": "markdown",
   "metadata": {},
   "source": [
    "### 線形回帰でモデリングする"
   ]
  },
  {
   "cell_type": "code",
   "execution_count": null,
   "metadata": {
    "ExecuteTime": {
     "end_time": "2018-03-30T03:10:50.953580Z",
     "start_time": "2018-03-30T03:10:50.278188Z"
    }
   },
   "outputs": [],
   "source": [
    "# 学習\n",
    "reg = LinearRegression()\n",
    "reg.fit(X_train, y_train)"
   ]
  },
  {
   "cell_type": "code",
   "execution_count": null,
   "metadata": {
    "ExecuteTime": {
     "end_time": "2018-03-30T03:10:50.954899Z",
     "start_time": "2018-03-30T03:10:32.668Z"
    },
    "scrolled": false
   },
   "outputs": [],
   "source": [
    "# 予測\n",
    "y_pred =reg.predict(X_test)\n",
    "df_result = pd.DataFrame(y_pred, columns=[\"linearRegression\"])\n",
    "print(\"MSE=\",mean_squared_error(y_test, y_pred))\n",
    "print(\"切片=\", reg.intercept_, \"回帰係数=\", reg.coef_)\n",
    "\n",
    "# 予測結果の描画\n",
    "df1 = pd.DataFrame(X_test, index=range(len(X_test)), columns=[\"LSTAT_std\"])\n",
    "df1[\"y\"] = y_test\n",
    "df1[\"label\"] = \"y_test\"\n",
    "df2 = pd.DataFrame(X_test, index=range(len(X_test)), columns=[\"LSTAT_std\"])\n",
    "df2[\"y\"] = y_pred\n",
    "df2[\"label\"] = \"y_pred\"\n",
    "df = pd.concat([df1, df2], axis=0)\n",
    "\n",
    "sns.lmplot(x=\"LSTAT_std\", y=\"y\", hue=\"label\", data=df, fit_reg=False)\n",
    "plt.show()"
   ]
  },
  {
   "cell_type": "markdown",
   "metadata": {
    "ExecuteTime": {
     "end_time": "2018-03-30T01:12:44.867389Z",
     "start_time": "2018-03-30T01:12:44.863871Z"
    }
   },
   "source": [
    "### ニューラルネットワークでモデリングする"
   ]
  },
  {
   "cell_type": "code",
   "execution_count": null,
   "metadata": {
    "ExecuteTime": {
     "end_time": "2018-03-30T03:10:50.956544Z",
     "start_time": "2018-03-30T03:10:32.670Z"
    }
   },
   "outputs": [],
   "source": [
    "from keras.datasets import mnist\n",
    "from keras.models import Sequential\n",
    "from keras.layers import Dense, Dropout\n",
    "from keras.optimizers import SGD"
   ]
  },
  {
   "cell_type": "code",
   "execution_count": null,
   "metadata": {
    "ExecuteTime": {
     "end_time": "2018-03-30T03:10:50.958202Z",
     "start_time": "2018-03-30T03:10:32.671Z"
    },
    "scrolled": true
   },
   "outputs": [],
   "source": [
    "batch_size = 32\n",
    "epochs = 200\n",
    "\n",
    "# ネットワークの設定\n",
    "model = Sequential()\n",
    "model.add(Dense(10, activation='linear', input_shape=(1,)))\n",
    "# model.add(Dense(5, activation='linear'))\n",
    "model.add(Dense(1, activation='linear')) #この活性化関数は変更してはならない\n",
    "model.summary()\n",
    "model.compile(loss='mean_squared_error',\n",
    "              optimizer=SGD(),\n",
    "              metrics=['mse'])\n",
    "\n",
    "# 計算\n",
    "history = model.fit(X_train, y_train, \n",
    "                    batch_size=batch_size,\n",
    "                    epochs=epochs,     # エポック数\n",
    "                    verbose=1,         # ログ出力\n",
    "                    validation_data=(X_test, y_test))\n",
    "\n",
    "# 計算過程の描画\n",
    "pd.DataFrame(history.history).plot()\n",
    "plt.show()\n"
   ]
  },
  {
   "cell_type": "code",
   "execution_count": null,
   "metadata": {
    "ExecuteTime": {
     "end_time": "2018-03-30T03:10:50.959962Z",
     "start_time": "2018-03-30T03:10:32.676Z"
    },
    "scrolled": false
   },
   "outputs": [],
   "source": [
    "# 予測\n",
    "y_pred = model.predict(X_test)\n",
    "df_result[\"NN\"] = y_pred\n",
    "\n",
    "# 予測結果の描画\n",
    "df1 = pd.DataFrame(X_test, index=range(len(X_test)), columns=[\"LSTAT_std\"])\n",
    "df1[\"y\"] = y_test\n",
    "df1[\"label\"] = \"y_test\"\n",
    "df2 = pd.DataFrame(X_test, index=range(len(X_test)), columns=[\"LSTAT_std\"])\n",
    "df2[\"y\"] = y_pred\n",
    "df2[\"label\"] = \"y_pred\"\n",
    "df = pd.concat([df1, df2], axis=0)\n",
    "\n",
    "sns.lmplot(x=\"LSTAT_std\", y=\"y\", hue=\"label\", data=df, fit_reg=False)\n",
    "plt.show()\n"
   ]
  },
  {
   "cell_type": "markdown",
   "metadata": {
    "ExecuteTime": {
     "end_time": "2018-03-30T01:56:10.654672Z",
     "start_time": "2018-03-30T01:56:10.647009Z"
    }
   },
   "source": [
    "### [演習]\n",
    "* 中間層の数を3層(ノード数は10と5)に変更してみましょう\n",
    "* 中間層の活性化関数をsigmoidに変更してみましょう"
   ]
  },
  {
   "cell_type": "code",
   "execution_count": null,
   "metadata": {},
   "outputs": [],
   "source": []
  }
 ],
 "metadata": {
  "kernelspec": {
   "display_name": "Python 3 (ipykernel)",
   "language": "python",
   "name": "python3"
  },
  "language_info": {
   "codemirror_mode": {
    "name": "ipython",
    "version": 3
   },
   "file_extension": ".py",
   "mimetype": "text/x-python",
   "name": "python",
   "nbconvert_exporter": "python",
   "pygments_lexer": "ipython3",
   "version": "3.7.12"
  }
 },
 "nbformat": 4,
 "nbformat_minor": 2
}
