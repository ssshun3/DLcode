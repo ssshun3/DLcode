{
 "cells": [
  {
   "cell_type": "markdown",
   "metadata": {},
   "source": [
    "#  活性化関数"
   ]
  },
  {
   "cell_type": "code",
   "execution_count": 2,
   "metadata": {
    "ExecuteTime": {
     "end_time": "2018-03-28T12:59:46.752736Z",
     "start_time": "2018-03-28T12:59:46.127678Z"
    }
   },
   "outputs": [],
   "source": [
    "import numpy as np\n",
    "import matplotlib.pyplot as plt"
   ]
  },
  {
   "cell_type": "markdown",
   "metadata": {},
   "source": [
    "## 恒等写像関数\n",
    "$h(x)=x$"
   ]
  },
  {
   "cell_type": "code",
   "execution_count": 8,
   "metadata": {},
   "outputs": [
    {
     "data": {
      "image/png": "[encoded data removed]",
      "text/plain": [
       "<Figure size 350x300 with 1 Axes>"
      ]
     },
     "metadata": {},
     "output_type": "display_data"
    }
   ],
   "source": [
    "def linear(x):\n",
    "    return x\n",
    "    \n",
    "x = np.arange(-5,5,0.1)\n",
    "y = linear(x) \n",
    "plt.figure(figsize=(3.5,3))\n",
    "plt.plot(x,y)\n",
    "plt.xlabel(\"x\")\n",
    "plt.ylabel(\"y\")\n",
    "plt.ylim([-5,5])\n",
    "plt.show()"
   ]
  },
  {
   "cell_type": "markdown",
   "metadata": {},
   "source": [
    "### [演習]\n",
    "- 以下のステップ関数、シグモイド関数、tanh関数、ReLU関数、LeakyReLU関数、Softplus関数、Hardtanh関数を完成させましょう。"
   ]
  },
  {
   "cell_type": "markdown",
   "metadata": {},
   "source": [
    "## ステップ関数"
   ]
  },
  {
   "cell_type": "code",
   "execution_count": 9,
   "metadata": {
    "ExecuteTime": {
     "end_time": "2018-03-28T13:00:32.815670Z",
     "start_time": "2018-03-28T13:00:32.802701Z"
    }
   },
   "outputs": [
    {
     "name": "stdout",
     "output_type": "stream",
     "text": [
      "[False False  True]\n"
     ]
    },
    {
     "data": {
      "text/plain": [
       "array([1, 0])"
      ]
     },
     "execution_count": 9,
     "metadata": {},
     "output_type": "execute_result"
    }
   ],
   "source": [
    "# ヒント\n",
    "a = np.array([-1,0,1])\n",
    "print(a > 0)\n",
    "np.array([True, False]).astype(np.int)"
   ]
  },
  {
   "cell_type": "code",
   "execution_count": null,
   "metadata": {
    "scrolled": true
   },
   "outputs": [],
   "source": [
    "def step(x):\n",
    "    return\n",
    "    \n",
    "x = np.arange(-5,5,0.1)\n",
    "y = step(x) \n",
    "plt.plot(x,y)\n",
    "plt.xlabel(\"x\")\n",
    "plt.ylabel(\"y\")\n",
    "plt.ylim([-0.1,1.1])\n",
    "plt.show()"
   ]
  },
  {
   "cell_type": "markdown",
   "metadata": {},
   "source": [
    "## シグモイド関数"
   ]
  },
  {
   "cell_type": "markdown",
   "metadata": {},
   "source": [
    "$\\displaystyle{h(x)=\\frac{1}{(1+\\exp(-x))}}$"
   ]
  },
  {
   "cell_type": "code",
   "execution_count": null,
   "metadata": {
    "ExecuteTime": {
     "end_time": "2018-03-28T13:03:50.030118Z",
     "start_time": "2018-03-28T13:03:50.019805Z"
    }
   },
   "outputs": [],
   "source": [
    "# ヒント\n",
    "np.exp(1)"
   ]
  },
  {
   "cell_type": "code",
   "execution_count": null,
   "metadata": {
    "ExecuteTime": {
     "end_time": "2018-03-28T13:04:01.108635Z",
     "start_time": "2018-03-28T13:04:00.947452Z"
    }
   },
   "outputs": [],
   "source": [
    "def sigmoid(x):\n",
    "    return\n",
    "\n",
    "x = np.arange(-5,5,0.1)\n",
    "y = sigmoid(x) \n",
    "plt.plot(x,y)\n",
    "plt.xlabel(\"x\")\n",
    "plt.ylabel(\"y\")\n",
    "plt.ylim([-0.1,1.1])\n",
    "plt.show()"
   ]
  },
  {
   "cell_type": "markdown",
   "metadata": {},
   "source": [
    "## tanh関数"
   ]
  },
  {
   "cell_type": "markdown",
   "metadata": {},
   "source": [
    "$\\displaystyle h(x) = \\tanh(x) = \\frac{\\sinh(x)}{\\cosh(x)}=\\frac{e^x-e^{-x}}{e^x+e^{-x}}$  "
   ]
  },
  {
   "cell_type": "code",
   "execution_count": null,
   "metadata": {
    "ExecuteTime": {
     "end_time": "2018-03-28T13:04:25.355909Z",
     "start_time": "2018-03-28T13:04:25.347021Z"
    }
   },
   "outputs": [],
   "source": [
    "# ヒント\n",
    "np.sinh(1),np.cosh(1),np.tanh(1)"
   ]
  },
  {
   "cell_type": "code",
   "execution_count": null,
   "metadata": {
    "ExecuteTime": {
     "end_time": "2018-03-28T13:04:39.218290Z",
     "start_time": "2018-03-28T13:04:39.161032Z"
    }
   },
   "outputs": [],
   "source": [
    "def tanh(x):\n",
    "    return\n",
    "\n",
    "x = np.arange(-5,5,0.1)\n",
    "y = tanh(x) \n",
    "plt.plot(x,y)\n",
    "plt.xlabel(\"x\")\n",
    "plt.ylabel(\"y\")\n",
    "plt.ylim([-2,2])\n",
    "plt.show()"
   ]
  },
  {
   "cell_type": "markdown",
   "metadata": {},
   "source": [
    "## ReLU関数"
   ]
  },
  {
   "cell_type": "markdown",
   "metadata": {},
   "source": [
    "$h(x) = x (x>=0)$  \n",
    "$h(x) = 0 (x<0)$"
   ]
  },
  {
   "cell_type": "code",
   "execution_count": null,
   "metadata": {
    "ExecuteTime": {
     "end_time": "2018-03-28T13:06:27.369713Z",
     "start_time": "2018-03-28T13:06:27.362608Z"
    }
   },
   "outputs": [],
   "source": [
    "# ヒント\n",
    "np.maximum(1, np.array([-1, 0, 1, 2]))"
   ]
  },
  {
   "cell_type": "code",
   "execution_count": null,
   "metadata": {
    "ExecuteTime": {
     "end_time": "2018-03-28T13:06:40.711954Z",
     "start_time": "2018-03-28T13:06:40.684645Z"
    },
    "scrolled": true
   },
   "outputs": [],
   "source": [
    "def relu(x):\n",
    "    return\n",
    "\n",
    "x = np.arange(-5,5,0.1)\n",
    "y = relu(x) \n",
    "plt.plot(x,y)\n",
    "plt.xlabel(\"x\")\n",
    "plt.ylabel(\"y\")\n",
    "plt.ylim([-5.0,5])\n",
    "plt.show()"
   ]
  },
  {
   "cell_type": "markdown",
   "metadata": {
    "collapsed": true
   },
   "source": [
    "## LeakyReLU\n",
    "$h(x) = x (x>=0)$  \n",
    "$h(x) = ax (x<0)$"
   ]
  },
  {
   "cell_type": "code",
   "execution_count": null,
   "metadata": {
    "scrolled": true
   },
   "outputs": [],
   "source": [
    "def leakyrelu(x):\n",
    "    return\n",
    "\n",
    "x = np.arange(-5,5,0.1)\n",
    "y = leakyrelu(x) \n",
    "plt.plot(x,y)\n",
    "plt.xlabel(\"x\")\n",
    "plt.ylabel(\"y\")\n",
    "plt.ylim([-5.0,5])\n",
    "plt.show()"
   ]
  },
  {
   "cell_type": "markdown",
   "metadata": {},
   "source": [
    "## Softplus\n",
    "$h(x)=\\log(1+\\exp(x))$"
   ]
  },
  {
   "cell_type": "code",
   "execution_count": null,
   "metadata": {
    "scrolled": true
   },
   "outputs": [],
   "source": [
    "def softplus(x):\n",
    "    return\n",
    "\n",
    "x = np.arange(-5,5,0.1)\n",
    "y = softplus(x) \n",
    "plt.figure(figsize=(3.5,3))\n",
    "plt.plot(x,y)\n",
    "plt.xlabel(\"x\")\n",
    "plt.ylabel(\"y\")\n",
    "plt.ylim([-5.0,5])\n",
    "plt.show()"
   ]
  },
  {
   "cell_type": "markdown",
   "metadata": {
    "ExecuteTime": {
     "end_time": "2018-03-30T03:55:23.535938Z",
     "start_time": "2018-03-30T03:55:23.525436Z"
    }
   },
   "source": [
    "## Hardtanh\n",
    "$h(x) = x (-1<=x, x<=1)$  \n",
    "$h(x) = 1 (x>1)$  \n",
    "$h(x) = -1 (x<-1)$"
   ]
  },
  {
   "cell_type": "code",
   "execution_count": null,
   "metadata": {},
   "outputs": [],
   "source": [
    "def hardtanh(x):\n",
    "    return\n",
    "\n",
    "x = np.arange(-5,5,0.1)\n",
    "y = hardtanh(x) \n",
    "plt.figure(figsize=(3.5,3))\n",
    "plt.plot(x,y)\n",
    "plt.xlabel(\"x\")\n",
    "plt.ylabel(\"y\")\n",
    "plt.ylim([-5.0,5])\n",
    "plt.show()"
   ]
  }
 ],
 "metadata": {
  "anaconda-cloud": {},
  "kernelspec": {
   "display_name": "Python 3 (ipykernel)",
   "language": "python",
   "name": "python3"
  },
  "language_info": {
   "codemirror_mode": {
    "name": "ipython",
    "version": 3
   },
   "file_extension": ".py",
   "mimetype": "text/x-python",
   "name": "python",
   "nbconvert_exporter": "python",
   "pygments_lexer": "ipython3",
   "version": "3.7.12"
  }
 },
 "nbformat": 4,
 "nbformat_minor": 1
}
