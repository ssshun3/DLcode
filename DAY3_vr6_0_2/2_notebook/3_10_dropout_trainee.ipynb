{
 "cells": [
  {
   "cell_type": "markdown",
   "metadata": {},
   "source": [
    "# ドロップアウト(dropout)"
   ]
  },
  {
   "cell_type": "code",
   "execution_count": null,
   "metadata": {},
   "outputs": [],
   "source": [
    "import numpy as np"
   ]
  },
  {
   "cell_type": "markdown",
   "metadata": {},
   "source": [
    "### [演習]\n",
    "* 以下のドロップアウトレイヤを完成させましょう"
   ]
  },
  {
   "cell_type": "code",
   "execution_count": null,
   "metadata": {
    "scrolled": true
   },
   "outputs": [],
   "source": [
    "# ヒント\n",
    "x = np.array([[1,2,3], [4,5,6]])\n",
    "print(\"x=\", x)\n",
    "print()\n",
    "print(\"x.shape=\", x.shape)\n",
    "print()\n",
    "print(\"変数の前に*をつけると、tupleの要素を取り出せる\")\n",
    "print(*x.shape )\n",
    "print()\n",
    "print(np.random.rand(*x.shape))\n",
    "print()\n",
    "dropout_ratio = 0.3\n",
    "mask = np.random.rand(*x.shape) > dropout_ratio\n",
    "print(mask)\n",
    "print()\n",
    "print(x*mask)"
   ]
  },
  {
   "cell_type": "code",
   "execution_count": null,
   "metadata": {},
   "outputs": [],
   "source": [
    "class Dropout:\n",
    "    def __init__(self, dropout_ratio=0.5):\n",
    "        \"\"\"\n",
    "        dropout_ratio : ドロップアウトする割合\n",
    "        \"\"\"\n",
    "        self.dropout_ratio = dropout_ratio\n",
    "        self.mask = None\n",
    "\n",
    "    def forward(self, x, train_flg=True):\n",
    "        \"\"\"\n",
    "        順伝播計算の関数\n",
    "        \"\"\"\n",
    "        if train_flg:\n",
    "            \"\"\"\n",
    "            学習時\n",
    "            \"\"\"\n",
    "            self.mask =                                                                   # <- 穴埋め\n",
    "            return                                                                        # <- 穴埋め\n",
    "        else:\n",
    "            \"\"\"\n",
    "            予測時は、ドロップアウトしなかった（残した)割合をかける\n",
    "            すべてのノードを採用すると、学習時に比べ結合後の値が大きくなるので、\n",
    "            残した割合を掛けることにより、値を調整している。\n",
    "            \"\"\"\n",
    "            return                                                                        # <- 穴埋め\n",
    "\n",
    "    def backward(self, dout):\n",
    "        \"\"\"\n",
    "        逆伝播計算の関数\n",
    "        順伝播計算時に使用したノードだけ、誤差を伝播させる\n",
    "        \"\"\"\n",
    "        return                                                                            # <- 穴埋め"
   ]
  },
  {
   "cell_type": "code",
   "execution_count": null,
   "metadata": {},
   "outputs": [],
   "source": [
    "x = np.array([[1,2,3], [4,5,6],[7,8,9]])\n",
    "print(\"x=\")\n",
    "print(x)\n",
    "print()\n",
    "\n",
    "do = Dropout(dropout_ratio=0.8)\n",
    "print(\"順伝播時、ドロップアウト層通過後=\")\n",
    "print(do.forward(x))\n",
    "print()\n",
    "print(\"逆伝播時、ドロップアウト層通過後=\")\n",
    "print(do.backward(dout=1.234))"
   ]
  }
 ],
 "metadata": {
  "kernelspec": {
   "display_name": "Python 3",
   "language": "python",
   "name": "python3"
  },
  "language_info": {
   "codemirror_mode": {
    "name": "ipython",
    "version": 3
   },
   "file_extension": ".py",
   "mimetype": "text/x-python",
   "name": "python",
   "nbconvert_exporter": "python",
   "pygments_lexer": "ipython3",
   "version": "3.7.3"
  }
 },
 "nbformat": 4,
 "nbformat_minor": 2
}
