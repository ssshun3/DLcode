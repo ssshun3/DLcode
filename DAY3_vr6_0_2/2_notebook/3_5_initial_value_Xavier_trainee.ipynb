{
 "cells": [
  {
   "cell_type": "markdown",
   "metadata": {},
   "source": [
    "# 初期値の影響(Xavierの初期値)\n",
    "    \n",
    "   \n",
    "* 初期値を適度にバラつかせる方法として、Xavier Glorotらが提案する方法がある。\n",
    "* Xavieの方法では、$\\displaystyle \\sqrt \\frac{2}{n1+n2}$を標準偏差とする。ここで、n1は前の層のノード数、n2は後ろの層のノード数である。\n",
    "* 以下のシミュレーションでは、sigmoid関数を使っていることに注意!!!!"
   ]
  },
  {
   "cell_type": "code",
   "execution_count": null,
   "metadata": {},
   "outputs": [],
   "source": [
    "import numpy as np\n",
    "import matplotlib.pyplot as plt\n",
    "from common.activations import sigmoid, tanh, relu\n",
    "np.random.seed(1234)"
   ]
  },
  {
   "cell_type": "markdown",
   "metadata": {},
   "source": [
    "### [演習]\n",
    "* Xavierの初期値を利用するための以下の関数を完成させましょう。\n",
    "* def xavierのreturnに1行で書けます。"
   ]
  },
  {
   "cell_type": "code",
   "execution_count": 1,
   "metadata": {},
   "outputs": [],
   "source": [
    "def xavier(n1, n2):\n",
    "    \"\"\"\n",
    "    Xavierの初期値を利用するための関数\n",
    "    返り値は、見かけの標準偏差\n",
    "    n1 : 前の層のノード数\n",
    "    n2 : 後ろの層のノード数\n",
    "    \"\"\"\n",
    "    return                                       # <- 穴埋め"
   ]
  },
  {
   "cell_type": "code",
   "execution_count": null,
   "metadata": {
    "scrolled": true
   },
   "outputs": [],
   "source": [
    "def simulation(fsigma, num_in=100, num_x=1000, hidden_layer_size=5, num_node=100):\n",
    "    \"\"\"\n",
    "    fsigma : 標準偏差を決めるための関数\n",
    "    num_in : 入力層のノードの数\n",
    "    num_x : 入力するデータの数\n",
    "    hidden_layer_size : 中間層の層数\n",
    "    num_node : 中間層のノード数\n",
    "    sigma : 乱数を抽出する際に用いる正規分布の標準偏差\n",
    "    \"\"\"\n",
    "    # num_in次元のデータをnum_x個つくる\n",
    "    X = np.random.randn(num_x, num_in) # 標準正規分布からのサンプリング\n",
    "\n",
    "    # 中間層ノードの値を格納するdict\n",
    "    h = {}\n",
    "\n",
    "    # 順伝播の計算\n",
    "    for i in range(hidden_layer_size):\n",
    "        if i==0:\n",
    "            X_ = X\n",
    "            n1 = num_in\n",
    "        else:\n",
    "            X_ = h[i-1]\n",
    "            n1 = num_node\n",
    "        \n",
    "        n2 = num_node\n",
    "        sigma = fsigma(n1, n2)\n",
    "        \n",
    "        # 重みの初期化\n",
    "        W = np.random.randn(num_node, num_node) * sigma\n",
    "\n",
    "        # 行列の積\n",
    "        z = np.dot(X_, W)\n",
    "\n",
    "        # 活性化関数に入れる\n",
    "        a = sigmoid(z)\n",
    "\n",
    "        # dictに格納\n",
    "        h[i] = a\n",
    "\n",
    "    return h\n",
    "\n",
    "def histgram(h, ymax = 100000):\n",
    "    plt.figure(figsize=(14,4))\n",
    "    fig_num = len(h)\n",
    "    for key,value in h.items():\n",
    "        plt.subplot(1,fig_num, key+1)\n",
    "        plt.title(\"hiddlen_layer=%s\"%(key+1))\n",
    "        plt.hist(value.flatten(), bins=20)\n",
    "        plt.ylim([0, ymax])\n",
    "        plt.xlim([-1, 3.0])\n",
    "        if key!=0:\n",
    "            plt.yticks([], [])\n",
    "    plt.show()"
   ]
  },
  {
   "cell_type": "markdown",
   "metadata": {},
   "source": [
    "## Xavierの初期値でサンプリングした場合"
   ]
  },
  {
   "cell_type": "code",
   "execution_count": null,
   "metadata": {},
   "outputs": [],
   "source": [
    "# 実験\n",
    "n = 100\n",
    "h = simulation(fsigma=xavier, num_in=n, num_node=n)\n",
    "\n",
    "# アクティベーションのヒストグラムを中間層ごとに描く\n",
    "histgram(h, ymax=20000)"
   ]
  },
  {
   "cell_type": "markdown",
   "metadata": {},
   "source": [
    "## n数が大きくなった場合の確認"
   ]
  },
  {
   "cell_type": "code",
   "execution_count": null,
   "metadata": {
    "scrolled": false
   },
   "outputs": [],
   "source": [
    "for n in [200, 500, 1000, 10000]:\n",
    "    print(\"n=%s\"%n)\n",
    "    \n",
    "    # 実験\n",
    "    h = simulation(fsigma=xavier, num_in=n, num_node=n)\n",
    "\n",
    "    # アクティベーションのヒストグラムを中間層ごとに描く\n",
    "    histgram(h, ymax=200*n)"
   ]
  },
  {
   "cell_type": "markdown",
   "metadata": {},
   "source": [
    "### [演習]\n",
    "* 活性化関数をtanhに変更し、得られた初期値について考察してみましょう\n",
    "* 活性化関数をreluに変更し、得られた初期値について考察してみましょう"
   ]
  }
 ],
 "metadata": {
  "kernelspec": {
   "display_name": "Python 3",
   "language": "python",
   "name": "python3"
  },
  "language_info": {
   "codemirror_mode": {
    "name": "ipython",
    "version": 3
   },
   "file_extension": ".py",
   "mimetype": "text/x-python",
   "name": "python",
   "nbconvert_exporter": "python",
   "pygments_lexer": "ipython3",
   "version": "3.7.3"
  }
 },
 "nbformat": 4,
 "nbformat_minor": 2
}
