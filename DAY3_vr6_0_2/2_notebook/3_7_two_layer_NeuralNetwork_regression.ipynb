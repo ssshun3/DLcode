{
 "cells": [
  {
   "cell_type": "markdown",
   "metadata": {},
   "source": [
    "# パラメータの初期値を変えながら、2層ニューラルネットワークで単純な回帰問題を解く"
   ]
  },
  {
   "cell_type": "code",
   "execution_count": 1,
   "metadata": {},
   "outputs": [],
   "source": [
    "import numpy as np\n",
    "import pandas as pd\n",
    "import matplotlib.pyplot as plt\n",
    "from common.loss import mean_squared_error\n",
    "from collections import OrderedDict\n",
    "from common.layers import Affine, ReLU,MeanSquaredLoss, LeakyReLU\n",
    "from common.optimizer import RMSProp, SGD"
   ]
  },
  {
   "cell_type": "markdown",
   "metadata": {},
   "source": [
    "## 2層ニューラルネットワーククラス"
   ]
  },
  {
   "cell_type": "code",
   "execution_count": 2,
   "metadata": {},
   "outputs": [],
   "source": [
    "class TwoLayerNet:\n",
    "\n",
    "    def __init__(self, input_size, hidden_size, output_size, weight_init_std = 0.01):\n",
    "        # 重みの初期化\n",
    "        self.params = {}\n",
    "        \n",
    "        \n",
    "#         # (1)パラメータの初期値を全て0にした場合\n",
    "#         self.params[\"W1\"] = np.zeros((input_size, hidden_size))\n",
    "#         self.params[\"b1\"] = np.zeros(hidden_size) \n",
    "#         self.params[\"W2\"] = np.zeros((hidden_size, output_size))\n",
    "#         self.params[\"b2\"] = np.zeros(output_size) \n",
    "\n",
    "#         # (2)Wの初期値を0にし、bの初期値を1にした場合\n",
    "#         self.params[\"W1\"] = np.zeros((input_size, hidden_size))\n",
    "#         self.params[\"b1\"] = np.ones(hidden_size) \n",
    "#         self.params[\"W2\"] = np.zeros((hidden_size, output_size))\n",
    "#         self.params[\"b2\"] = np.ones(output_size) \n",
    "\n",
    "#         # (3)パラメータの初期値を全て1にした場合\n",
    "#         self.params[\"W1\"] = np.ones((input_size, hidden_size))\n",
    "#         self.params[\"b1\"] = np.ones(hidden_size) \n",
    "#         self.params[\"W2\"] = np.ones((hidden_size, output_size))\n",
    "#         self.params[\"b2\"] = np.ones(output_size) \n",
    "        \n",
    "#         # (4)パラメータの初期値を全て1にし、1つだけ1以外にした場合\n",
    "#         self.params[\"W1\"] = np.ones((input_size, hidden_size))\n",
    "#         self.params[\"b1\"] = np.ones(hidden_size) \n",
    "#         self.params[\"W2\"] = np.ones((hidden_size, output_size))\n",
    "#         self.params[\"b2\"] = np.ones(output_size)         \n",
    "#         self.params[\"W1\"][0,2] = 2.0 # 1箇所だけ2にする\n",
    "        \n",
    "#         # (5)パラメータの初期値を正規分布にしたがってランダムにサンプリングした場合\n",
    "#         np.random.seed(1111)\n",
    "#         self.params[\"W1\"] = weight_init_std * np.random.randn(input_size, hidden_size)\n",
    "#         np.random.seed(1112)\n",
    "#         self.params[\"b1\"] = weight_init_std * np.random.randn(hidden_size)\n",
    "#         np.random.seed(1113)\n",
    "#         self.params[\"W2\"] = weight_init_std * np.random.randn(hidden_size, output_size)\n",
    "#         np.random.seed(1114)\n",
    "#         self.params[\"b2\"] = weight_init_std * np.random.randn(output_size)\n",
    "        \n",
    "        # (6)Wの初期値を正規分布にしたがってランダムにサンプリングし、bの初期値を0にした場合\n",
    "        np.random.seed(2222)        \n",
    "        self.params['W1'] = weight_init_std * np.random.randn(input_size, hidden_size)\n",
    "        self.params['b1'] = np.zeros(hidden_size)\n",
    "        np.random.seed(2223)        \n",
    "        self.params['W2'] = weight_init_std * np.random.randn(hidden_size,output_size) \n",
    "        self.params['b2'] = np.zeros(output_size)\n",
    "        \n",
    "        \n",
    "        # レイヤの生成\n",
    "        self.layers = OrderedDict() # 順番付きdict形式.\n",
    "        self.layers['Affine1'] = Affine(self.params['W1'], self.params['b1'])\n",
    "        self.layers['Relu1'] =  ReLU()\n",
    "        self.layers['Affine2'] = Affine(self.params['W2'], self.params['b2'])\n",
    "        self.lastLayer = MeanSquaredLoss() # 出力層\n",
    "        \n",
    "    def predict(self, x):\n",
    "        \"\"\"\n",
    "        予測関数\n",
    "        x : 入力\n",
    "        \"\"\"\n",
    "        for layer in self.layers.values():\n",
    "            # 入力されたxを更新していく = 順伝播計算\n",
    "            x = layer.forward(x)\n",
    "        \n",
    "        return x\n",
    "        \n",
    "    def loss(self, x, t):\n",
    "        \"\"\"\n",
    "        損失関数\n",
    "        x:入力データ, t:教師データ\n",
    "        \"\"\"\n",
    "        y = self.predict(x)\n",
    "        return self.lastLayer.forward(y, t)\n",
    "    \n",
    "    def accuracy(self, x, t):\n",
    "        \"\"\"\n",
    "        精度\n",
    "        \"\"\"\n",
    "        y = self.predict(x)\n",
    "        return mean_squared_error(y, t)\n",
    "\n",
    "        \n",
    "    def gradient(self, x, t):\n",
    "        \"\"\"\n",
    "        全パラメータの勾配を計算\n",
    "        \"\"\"\n",
    "        \n",
    "        # 順伝播\n",
    "        self.loss(x, t)\n",
    "\n",
    "        # 逆伝播\n",
    "        dout = self.lastLayer.backward(dout=1) # 出力層\n",
    "        \n",
    "        ## doutを逆向きに伝える \n",
    "        layers = list(self.layers.values())\n",
    "        layers.reverse()\n",
    "        for layer in layers:\n",
    "            dout = layer.backward(dout)\n",
    "\n",
    "        # dW, dbをgradsにまとめる\n",
    "        grads = {}\n",
    "        grads['W1'], grads['b1'] = self.layers['Affine1'].dW, self.layers['Affine1'].db\n",
    "        grads['W2'], grads['b2'] = self.layers['Affine2'].dW, self.layers['Affine2'].db    \n",
    "\n",
    "        return grads\n",
    "    "
   ]
  },
  {
   "cell_type": "markdown",
   "metadata": {},
   "source": [
    "## データの生成"
   ]
  },
  {
   "cell_type": "code",
   "execution_count": 3,
   "metadata": {
    "scrolled": true
   },
   "outputs": [
    {
     "data": {
      "image/png": "[encoded data removed]",
      "text/plain": [
       "<Figure size 432x288 with 1 Axes>"
      ]
     },
     "metadata": {
      "needs_background": "light"
     },
     "output_type": "display_data"
    }
   ],
   "source": [
    "a = 3\n",
    "b = 0.5\n",
    "c = -0.1\n",
    "x = np.arange(-0.5, 0.5, 0.01)\n",
    "error = np.random.rand(x.size) * 0.1\n",
    "y = a * x**3 + b * x**2 + c + error\n",
    "plt.scatter(x, y)\n",
    "plt.xlabel(\"x\")\n",
    "plt.ylabel(\"y\")\n",
    "plt.show()"
   ]
  },
  {
   "cell_type": "markdown",
   "metadata": {},
   "source": [
    "## ミニバッチ学習"
   ]
  },
  {
   "cell_type": "code",
   "execution_count": 4,
   "metadata": {
    "scrolled": true
   },
   "outputs": [
    {
     "name": "stdout",
     "output_type": "stream",
     "text": [
      "初期パラメータ\n",
      "[[-0.0094  0.0101  0.0046  0.0072  0.0055 -0.0123 -0.0011 -0.0044  0.0114\n",
      "   0.0061]]\n",
      "[0. 0. 0. 0. 0. 0. 0. 0. 0. 0.]\n",
      "[[ 0.0144]\n",
      " [ 0.0135]\n",
      " [-0.003 ]\n",
      " [-0.0099]\n",
      " [ 0.0159]\n",
      " [ 0.0065]\n",
      " [ 0.0008]\n",
      " [ 0.0045]\n",
      " [ 0.0104]\n",
      " [-0.0104]]\n",
      "[0.]\n"
     ]
    }
   ],
   "source": [
    "x = x.reshape(-1, 1)\n",
    "t = y.reshape(-1, 1)\n",
    "\n",
    "ecpochs = 5000\n",
    "batch_size = 25\n",
    "lr = 0.01\n",
    "\n",
    "# 繰り返し回数\n",
    "xsize = x.shape[0]\n",
    "iter_num = np.ceil(xsize / batch_size).astype(np.int)\n",
    "\n",
    "# 2層NNのオブジェクト生成\n",
    "tnet = TwoLayerNet(input_size=1, hidden_size=10, output_size=1, weight_init_std=0.01)\n",
    "\n",
    "# 最適化手法\n",
    "optimizer = RMSProp(lr=lr, rho=0.9)\n",
    "    \n",
    "# 初期パラメータの確認\n",
    "print(\"初期パラメータ\")\n",
    "print(tnet.params[\"W1\"].round(4))\n",
    "print(tnet.params[\"b1\"].round(4))\n",
    "print(tnet.params[\"W2\"].round(4))\n",
    "print(tnet.params[\"b2\"].round(4))\n",
    "\n",
    "\n",
    "li_loss = []\n",
    "for epoch in range(ecpochs):\n",
    "    \n",
    "    # シャッフル\n",
    "    idx = np.arange(xsize)\n",
    "    np.random.shuffle(idx)\n",
    "\n",
    "    for it in range(iter_num):\n",
    "        \"\"\"\n",
    "        ランダムなミニバッチを順番に取り出す\n",
    "        \"\"\"\n",
    "        mask = idx[batch_size*it : batch_size*(it+1)]\n",
    "    \n",
    "        # ミニバッチの生成\n",
    "        x_train = x[mask]\n",
    "        t_train = t[mask]\n",
    "        \n",
    "        # 勾配の計算 (誤差逆伝播法を用いる) \n",
    "        grads = tnet.gradient(x_train, t_train)\n",
    "\n",
    "        # パラメータの更新\n",
    "        optimizer.update(tnet.params, grads)\n",
    "\n",
    "    # 学習経過の記録\n",
    "    loss = tnet.loss(x, t)\n",
    "    li_loss.append(loss)"
   ]
  },
  {
   "cell_type": "markdown",
   "metadata": {},
   "source": [
    "### 学習結果の確認"
   ]
  },
  {
   "cell_type": "code",
   "execution_count": 5,
   "metadata": {},
   "outputs": [
    {
     "data": {
      "image/png": "[encoded data removed]",
      "text/plain": [
       "<Figure size 432x288 with 1 Axes>"
      ]
     },
     "metadata": {
      "needs_background": "light"
     },
     "output_type": "display_data"
    }
   ],
   "source": [
    "# lossのグラフ化\n",
    "pd.DataFrame(li_loss).plot(legend=False)\n",
    "plt.ylabel(\"loss\")\n",
    "plt.xlabel(\"epochs\")\n",
    "plt.show()"
   ]
  },
  {
   "cell_type": "code",
   "execution_count": 6,
   "metadata": {
    "scrolled": false
   },
   "outputs": [
    {
     "name": "stdout",
     "output_type": "stream",
     "text": [
      "mse= 0.00058831291596295\n"
     ]
    },
    {
     "data": {
      "image/png": "[encoded data removed]",
      "text/plain": [
       "<Figure size 309.6x288 with 1 Axes>"
      ]
     },
     "metadata": {
      "needs_background": "light"
     },
     "output_type": "display_data"
    },
    {
     "data": {
      "image/png": "[encoded data removed]",
      "text/plain": [
       "<Figure size 432x288 with 1 Axes>"
      ]
     },
     "metadata": {
      "needs_background": "light"
     },
     "output_type": "display_data"
    }
   ],
   "source": [
    "# 訓練精度の確認\n",
    "y_pred = tnet.predict(x)\n",
    "print(\"mse=\",mean_squared_error(y_pred, t))\n",
    "\n",
    "# 学習データと予測データの比較1\n",
    "plt.figure(figsize=(4.3,4))\n",
    "plt.scatter(y, y_pred)\n",
    "plt.xlabel(\"y\")\n",
    "plt.ylabel(\"y_pred\")\n",
    "plt.xlim([-0.4,0.5])\n",
    "plt.ylim([-0.4,0.5])\n",
    "plt.show()\n",
    "\n",
    "# 学習データと予測データの比較2\n",
    "plt.scatter(x, y)\n",
    "plt.xlabel(\"x\")\n",
    "plt.ylabel(\"y\")\n",
    "plt.scatter(x, y_pred, c=\"r\")\n",
    "plt.xlabel(\"x\")\n",
    "plt.ylabel(\"y_pred\")\n",
    "plt.legend([\"y\",\"y_pred\"])\n",
    "plt.ylim([-0.4,0.5])\n",
    "plt.show()"
   ]
  },
  {
   "cell_type": "markdown",
   "metadata": {},
   "source": [
    "### パラメータの分布の確認"
   ]
  },
  {
   "cell_type": "code",
   "execution_count": 7,
   "metadata": {},
   "outputs": [
    {
     "name": "stdout",
     "output_type": "stream",
     "text": [
      "[[-7.6000e-03  9.7020e-01  3.7000e-03  5.0000e-03  1.6169e+00 -1.0100e-02\n",
      "  -8.0000e-04 -3.6000e-03  7.2760e-01  3.8000e-03]]\n",
      "[-0.0053  0.4761 -0.002  -0.0045 -0.4604 -0.006  -0.0007 -0.0021  0.1883\n",
      " -0.0047]\n",
      "[[ 1.320e-02]\n",
      " [ 5.761e-01]\n",
      " [-2.000e-03]\n",
      " [-8.300e-03]\n",
      " [ 1.015e+00]\n",
      " [ 3.700e-03]\n",
      " [ 7.000e-04]\n",
      " [ 4.000e-03]\n",
      " [-4.927e-01]\n",
      " [-9.100e-03]]\n",
      "[-0.2299]\n"
     ]
    }
   ],
   "source": [
    "# 最終パラメータの確認\n",
    "print(tnet.params[\"W1\"].round(4))\n",
    "print(tnet.params[\"b1\"].round(4))\n",
    "print(tnet.params[\"W2\"].round(4))\n",
    "print(tnet.params[\"b2\"].round(4))"
   ]
  },
  {
   "cell_type": "code",
   "execution_count": 8,
   "metadata": {
    "scrolled": true
   },
   "outputs": [
    {
     "data": {
      "image/png": "[encoded data removed]",
      "text/plain": [
       "<Figure size 432x288 with 1 Axes>"
      ]
     },
     "metadata": {
      "needs_background": "light"
     },
     "output_type": "display_data"
    },
    {
     "data": {
      "image/png": "[encoded data removed]",
      "text/plain": [
       "<Figure size 432x288 with 1 Axes>"
      ]
     },
     "metadata": {
      "needs_background": "light"
     },
     "output_type": "display_data"
    },
    {
     "data": {
      "image/png": "[encoded data removed]",
      "text/plain": [
       "<Figure size 432x288 with 1 Axes>"
      ]
     },
     "metadata": {
      "needs_background": "light"
     },
     "output_type": "display_data"
    },
    {
     "data": {
      "image/png": "[encoded data removed]",
      "text/plain": [
       "<Figure size 432x288 with 1 Axes>"
      ]
     },
     "metadata": {
      "needs_background": "light"
     },
     "output_type": "display_data"
    }
   ],
   "source": [
    "# パラメータ分布\n",
    "for key, value in tnet.params.items():\n",
    "    plt.hist(value.flatten(), bins=10)\n",
    "    plt.title(key)\n",
    "    plt.xlim([-3, 3])\n",
    "    plt.ylabel(\"Frequency\")\n",
    "    plt.xlabel(\"Value of parameter\")\n",
    "    plt.show()"
   ]
  },
  {
   "cell_type": "markdown",
   "metadata": {},
   "source": [
    "### [演習]\n",
    "* パラメータの初期値を以下のように設定し、結果を比較してみましょう\n",
    "#### (1)パラメータの初期値を全て0にした場合\n",
    "#### (2)Wの初期値を0にし、bの初期値を1にした場合\n",
    "#### (3)パラメータの初期値を全て1にした場合\n",
    "#### (4)パラメータの初期値を全て1にし、1つだけ1以外にした場合\n",
    "#### (5)パラメータの初期値を正規分布にしたがってランダムにサンプリングした場合\n",
    "#### (6)Wの初期値を正規分布にしたがってランダムにサンプリングし、bの初期値を0にした場合\n"
   ]
  },
  {
   "cell_type": "markdown",
   "metadata": {},
   "source": [
    "### [計算結果]\n",
    "\n",
    "#### (1)パラメータの初期値を全て0にした場合\n",
    "* 学習結果のパラメータをみると、同じ層内でばらついていないことがわかる\n",
    "\n",
    "#### (2)Wの初期値を0にし、bの初期値を1にした場合\n",
    "* 学習結果のパラメータをみると、同じ層内でばらついていないことがわかる\n",
    "\n",
    "#### (3)パラメータの初期値を全て1にした場合\n",
    "* 学習結果のパラメータをみると、同じ層内でばらついていないことがわかる\n",
    "\n",
    "#### (4)パラメータの初期値を全て1にし、1つだけ1以外にした場合\n",
    "* パラメータの初期値を全て同じ値にする時に比べ、学習結果のパラメータにばらつきが生じているが、そのばらつきは極めて小さい\n",
    "\n",
    "#### (5)パラメータの初期値を正規分布にしたがってランダムにサンプリングした場合\n",
    "* パラメータの初期値を全て同じ値にする時に比べ、学習結果のパラメータにばらつきが生じている\n",
    "* 学習結果におけるバイアスの値は、0付近である\n",
    "\n",
    "#### (6)Wの初期値を正規分布にしたがってランダムにサンプリングし、bの初期値を0にした場合\n",
    "* パラメータの初期値を全て同じ値にする時に比べ、学習結果のパラメータにばらつきが生じている\n",
    "* 学習結果におけるバイアスの値は、0付近である"
   ]
  },
  {
   "cell_type": "code",
   "execution_count": null,
   "metadata": {},
   "outputs": [],
   "source": []
  }
 ],
 "metadata": {
  "kernelspec": {
   "display_name": "Python 3",
   "language": "python",
   "name": "python3"
  },
  "language_info": {
   "codemirror_mode": {
    "name": "ipython",
    "version": 3
   },
   "file_extension": ".py",
   "mimetype": "text/x-python",
   "name": "python",
   "nbconvert_exporter": "python",
   "pygments_lexer": "ipython3",
   "version": "3.7.3"
  }
 },
 "nbformat": 4,
 "nbformat_minor": 2
}
