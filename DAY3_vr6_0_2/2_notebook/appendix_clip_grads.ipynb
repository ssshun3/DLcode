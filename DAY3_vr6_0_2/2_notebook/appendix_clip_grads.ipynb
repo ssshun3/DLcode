{
 "cells": [
  {
   "cell_type": "markdown",
   "metadata": {},
   "source": [
    "# 勾配クリッピングの実装例"
   ]
  },
  {
   "cell_type": "code",
   "execution_count": 1,
   "metadata": {},
   "outputs": [],
   "source": [
    "import numpy as np\n",
    "from common.layers import TwoLayerNet"
   ]
  },
  {
   "cell_type": "code",
   "execution_count": 2,
   "metadata": {},
   "outputs": [],
   "source": [
    "def clip_grads(grads, max_norm):\n",
    "    \"\"\"\n",
    "    grads : 勾配をまとめたdict\n",
    "    max_norm : 閾値\n",
    "    \"\"\"\n",
    "    \n",
    "    # 勾配の2ノルムを求める\n",
    "    total_norm = 0\n",
    "    for key, grad in grads.items():\n",
    "        total_norm += np.sum(grad ** 2, axis=None)\n",
    "    total_norm = np.sqrt(total_norm)\n",
    "\n",
    "    # 勾配をクリッピング\n",
    "    rate = max_norm / (total_norm + 1e-6)\n",
    "    if rate < 1:\n",
    "        \"\"\"\n",
    "        勾配の2ノルムが閾値を超えた場合\n",
    "        \"\"\"\n",
    "        for key, grad in grads.items():\n",
    "            grads[key] *= rate\n",
    "            "
   ]
  },
  {
   "cell_type": "markdown",
   "metadata": {},
   "source": [
    "### 実行例"
   ]
  },
  {
   "cell_type": "code",
   "execution_count": 3,
   "metadata": {},
   "outputs": [
    {
     "name": "stdout",
     "output_type": "stream",
     "text": [
      "クリッピング前\n",
      "grads=\n",
      "[[9.91 7.49 4.71 3.08 9.2 ]\n",
      " [6.65 0.75 9.93 0.61 1.48]]\n",
      "[[0.43 2.04 3.38 0.49]\n",
      " [3.65 0.34 0.81 4.78]\n",
      " [2.7  0.39 2.7  0.71]]\n",
      "max of grads= 9.932045233468367\n",
      "\n",
      "クリッピング後\n",
      "grads=\n",
      "[[2.25 1.7  1.07 0.7  2.09]\n",
      " [1.51 0.17 2.26 0.14 0.34]]\n",
      "[[0.1  0.46 0.77 0.11]\n",
      " [0.83 0.08 0.18 1.09]\n",
      " [0.61 0.09 0.61 0.16]]\n",
      "max of grads= 2.2551488241293045\n",
      "\n"
     ]
    }
   ],
   "source": [
    "np.random.seed(1324)\n",
    "g1 = np.random.rand(2,5) * 10\n",
    "g2 = np.random.rand(3,4) * 5\n",
    "grads = {}\n",
    "grads[\"W1\"] = g1\n",
    "grads[\"W2\"] = g2\n",
    "\n",
    "print(\"クリッピング前\")\n",
    "print(\"grads=\")\n",
    "print(grads[\"W1\"].round(2))\n",
    "print(grads[\"W2\"].round(2))\n",
    "print(\"max of grads=\", max(g1.max(),g2.max()))\n",
    "print()\n",
    "\n",
    "# クリッピング\n",
    "clip_grads(grads, max_norm=5)\n",
    "\n",
    "print(\"クリッピング後\")\n",
    "print(\"grads=\")\n",
    "print(grads[\"W1\"].round(2))\n",
    "print(grads[\"W2\"].round(2))\n",
    "print(\"max of grads=\", max(g1.max(),g2.max()))\n",
    "print()"
   ]
  },
  {
   "cell_type": "markdown",
   "metadata": {},
   "source": [
    "### TwoLayerNetを用いた実行例"
   ]
  },
  {
   "cell_type": "code",
   "execution_count": 4,
   "metadata": {},
   "outputs": [
    {
     "name": "stdout",
     "output_type": "stream",
     "text": [
      "クリッピング前\n",
      "W1 =\n",
      "[[-0.00414807  0.         -0.00257031  0.        ]\n",
      " [-0.00829613  0.         -0.00514062  0.        ]\n",
      " [-0.0124442   0.         -0.00771094  0.        ]\n",
      " [-0.01659226  0.         -0.01028125  0.        ]\n",
      " [-0.02074033  0.         -0.01285156  0.        ]]\n",
      "\n",
      "b1 =\n",
      "[-0.00414807  0.         -0.00257031  0.        ]\n",
      "\n",
      "W2 =\n",
      "[[ 0.01641493  0.01636278 -0.03277771]\n",
      " [ 0.          0.         -0.        ]\n",
      " [ 0.03962442  0.03949854 -0.07912296]\n",
      " [ 0.          0.         -0.        ]]\n",
      "\n",
      "b2 =\n",
      "[ 0.3337785   0.33271811 -0.66649661]\n",
      "\n",
      "クリッピング後\n",
      "W1 =\n",
      "[[-0.00251761  0.         -0.00156001  0.        ]\n",
      " [-0.00503522  0.         -0.00312003  0.        ]\n",
      " [-0.00755282  0.         -0.00468004  0.        ]\n",
      " [-0.01007043  0.         -0.00624005  0.        ]\n",
      " [-0.01258804  0.         -0.00780007  0.        ]]\n",
      "\n",
      "b1 =\n",
      "[-0.00251761  0.         -0.00156001  0.        ]\n",
      "\n",
      "W2 =\n",
      "[[ 0.0099628   0.00993115 -0.01989395]\n",
      " [ 0.          0.         -0.        ]\n",
      " [ 0.02404946  0.02397306 -0.04802252]\n",
      " [ 0.          0.         -0.        ]]\n",
      "\n",
      "b2 =\n",
      "[ 0.20258196  0.20193837 -0.40452034]\n",
      "\n"
     ]
    }
   ],
   "source": [
    "tnet = TwoLayerNet(input_size=5, hidden_size=4, output_size=3)\n",
    "\n",
    "x = np.array([[1,2,3,4,5]])\n",
    "t = np.array([[0, 0, 1]])\n",
    "\n",
    "# 勾配を計算する\n",
    "grads = tnet.gradient(x, t)\n",
    "print(\"クリッピング前\")\n",
    "for key, value in grads.items():\n",
    "    print(key,\"=\")\n",
    "    print(value)\n",
    "    print()\n",
    "\n",
    "# クリッピング\n",
    "clip_grads(grads, max_norm=0.5)\n",
    "\n",
    "print(\"クリッピング後\")\n",
    "for key, value in grads.items():\n",
    "    print(key,\"=\")\n",
    "    print(value)\n",
    "    print()"
   ]
  },
  {
   "cell_type": "code",
   "execution_count": null,
   "metadata": {},
   "outputs": [],
   "source": []
  }
 ],
 "metadata": {
  "kernelspec": {
   "display_name": "Python 3",
   "language": "python",
   "name": "python3"
  },
  "language_info": {
   "codemirror_mode": {
    "name": "ipython",
    "version": 3
   },
   "file_extension": ".py",
   "mimetype": "text/x-python",
   "name": "python",
   "nbconvert_exporter": "python",
   "pygments_lexer": "ipython3",
   "version": "3.7.3"
  }
 },
 "nbformat": 4,
 "nbformat_minor": 2
}
