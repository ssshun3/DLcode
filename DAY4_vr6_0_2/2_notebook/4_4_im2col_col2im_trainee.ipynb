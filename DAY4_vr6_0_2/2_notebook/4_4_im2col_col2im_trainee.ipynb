{
 "cells": [
  {
   "cell_type": "markdown",
   "metadata": {},
   "source": [
    "# im2colとcol2imの実装"
   ]
  },
  {
   "cell_type": "code",
   "execution_count": null,
   "metadata": {},
   "outputs": [],
   "source": [
    "import numpy as np"
   ]
  },
  {
   "cell_type": "markdown",
   "metadata": {},
   "source": [
    "## im2colの実装"
   ]
  },
  {
   "cell_type": "markdown",
   "metadata": {},
   "source": [
    "### [演習]\n",
    "* 以下のim2col関数を完成させましょう"
   ]
  },
  {
   "cell_type": "code",
   "execution_count": null,
   "metadata": {},
   "outputs": [],
   "source": [
    "# ヒント\n",
    "print(\"5//2 = \", 5//2)\n",
    "print()\n",
    "\n",
    "input_data = np.random.randn(1,2,2,2).round(2)\n",
    "print(\"input_data=\\n\",input_data)\n",
    "pad = 2\n",
    "print()\n",
    "print(\"パディング=\")\n",
    "print(np.pad(input_data, [(0,0), (0,0), (pad, pad), (pad, pad)], 'constant'))\n",
    "print()\n",
    "print(\"軸の入れ替え\")\n",
    "input_data.transpose(0, 1,3,2)"
   ]
  },
  {
   "cell_type": "code",
   "execution_count": null,
   "metadata": {},
   "outputs": [],
   "source": [
    "def im2col(input_data, filter_h, filter_w, stride=1, pad=0, constant_values=0):\n",
    "    \"\"\"\n",
    "    input_data : (データ数, チャンネル数, 高さ, 幅)の4次元配列からなる入力データ. 画像データの形式を想定している\n",
    "    filter_h : フィルターの高さ\n",
    "    filter_w : フィルターの幅\n",
    "    stride : ストライド数\n",
    "    pad : パディングサイズ\n",
    "    constant_values : パディング処理で埋める際の値\n",
    "    return : 2次元配列\n",
    "    \"\"\"\n",
    "    \n",
    "    # 入力画像(元画像)のデータ数, チャンネル数, 高さ, 幅を取得する\n",
    "    N, C, H, W = input_data.shape \n",
    "    \n",
    "    # 出力(畳み込みまたはプーリングの演算後)の形状を計算する\n",
    "    out_h =        # 出力画像の高さ(端数は切り捨てる)                                                                                                              # <- 穴埋め\n",
    "    out_w =       # 出力画像の幅(端数は切り捨てる)                                                                                                                  # <- 穴埋め\n",
    "\n",
    "    # パディング処理\n",
    "    img = np.pad(input_data, [                                ],                                                # <- 穴埋め\n",
    "                  'constant', constant_values=constant_values) # pad=1以上の場合、周囲を0で埋める\n",
    "    \n",
    "    # 配列の初期化\n",
    "    col = np.zeros((N, C,     ,     , out_h, out_w))                                                            # <- 穴埋め\n",
    "\n",
    "    # 配列を並び替える(フィルター内のある1要素に対応する画像中の画素を取り出してcolに代入する)\n",
    "    for y in range(   ):                                                                                         # <- 穴埋め\n",
    "        \"\"\"\n",
    "        フィルターの高さ方向のループ\n",
    "        \"\"\"\n",
    "        y_max = y + stride*out_h\n",
    "        \n",
    "        for x in range(   ):                                                                                    # <- 穴埋め\n",
    "            \"\"\"\n",
    "            フィルターの幅方向のループ\n",
    "            \"\"\"\n",
    "            x_max = x + stride*out_w\n",
    "            \n",
    "            # imgから値を取り出し、colに入れる\n",
    "            col[:, :, y, x, :, :] = img[                                        ]                              # <- 穴埋め\n",
    "            # y:y_max:strideの意味  :  yからy_maxまでの場所をstride刻みで指定している\n",
    "            # x:x_max:stride の意味  :  xからx_maxまでの場所をstride刻みで指定している\n",
    "\n",
    "    col = col.transpose(0, 4, 5, 1, 2, 3).reshape(N*out_h*out_w, -1) # 軸を入れ替えて、2次元配列(行列)に変形する\n",
    "    return col"
   ]
  },
  {
   "cell_type": "code",
   "execution_count": null,
   "metadata": {},
   "outputs": [],
   "source": [
    "# データ数が1の場合の確認\n",
    "np.random.seed(1234)\n",
    "x1 = np.random.randn(1,3,3,3)\n",
    "print(\"x1=\",x1.round(2))\n",
    "print()\n",
    "print(\"パディングなし\")\n",
    "col1 = im2col(x1, 2, 2, stride=1, pad=0)\n",
    "print(\"col1=\",col1.round(2))\n",
    "print()\n",
    "print(\"パディングあり\")\n",
    "col1_p = im2col(x1, 2, 2, stride=1, pad=1)\n",
    "print(\"col1_p=\",col1_p.round(2))"
   ]
  },
  {
   "cell_type": "code",
   "execution_count": null,
   "metadata": {
    "scrolled": true
   },
   "outputs": [],
   "source": [
    "# データ数が5の場合の確認\n",
    "np.random.seed(1234)\n",
    "x5 = np.random.randn(5,3,3,3)\n",
    "print(\"x5=\",x5.round(2))\n",
    "print()\n",
    "print(\"パディングなし\")\n",
    "col5 = im2col(x5, 2, 2, stride=1, pad=0)\n",
    "print(\"col5=\",col5.round(2))\n",
    "print()\n",
    "print(\"パディングあり\")\n",
    "col5_p = im2col(x5, 2, 2, stride=1, pad=1)\n",
    "print(\"col5_p=\",col5_p.round(2))"
   ]
  },
  {
   "cell_type": "markdown",
   "metadata": {},
   "source": [
    "## col2imの実装"
   ]
  },
  {
   "cell_type": "markdown",
   "metadata": {},
   "source": [
    "### [演習]\n",
    "* 以下のcol2im関数を完成させましょう"
   ]
  },
  {
   "cell_type": "code",
   "execution_count": null,
   "metadata": {},
   "outputs": [],
   "source": [
    "def col2im(col, input_shape, filter_h, filter_w, stride=1, pad=0, is_backward=False):\n",
    "    \"\"\"\n",
    "    Parameters\n",
    "    ----------\n",
    "    col : 2次元配列\n",
    "    input_shape : 入力データの形状（例：(10, 1, 28, 28)）\n",
    "    filter_h : フィルターの高さ\n",
    "    filter_w : フィルターの幅\n",
    "    stride : ストライド数\n",
    "    pad : パディングサイズ\n",
    "    return : (データ数, チャンネル数, 高さ, 幅)の配列\n",
    "    -------\n",
    "    \"\"\"\n",
    "    \n",
    "    # 入力画像(元画像)のデータ数, チャンネル数, 高さ, 幅を取得する\n",
    "    N, C, H, W = input_shape\n",
    "    \n",
    "    # 出力(畳み込みまたはプーリングの演算後)の形状を計算する\n",
    "    out_h =            # 出力画像の高さ(端数は切り捨てる)                                                                                                                  # <- 穴埋め\n",
    "    out_w =          # 出力画像の幅(端数は切り捨てる)                                                                                                                         # <- 穴埋め\n",
    "    \n",
    "    # 配列の形を変えて、軸を入れ替える\n",
    "    col = col.reshape(N, out_h, out_w, C, filter_h, filter_w).transpose(0, 3, 4, 5, 1, 2)\n",
    "\n",
    "    # 配列の初期化\n",
    "    img = np.zeros((   ,    , H + 2*pad + stride - 1, W + 2*pad + stride - 1))                                       # <- 穴埋め\n",
    "    # 2*padは、pad分を大きくとっている。\n",
    "    # (stride - 1)は、im2colで画像が切り捨てられる場合のサイズ調整分。\n",
    "    # im2colで、strideを2以上に設定した場合、あるひとつの方向に最大で(stride - 1)個の画素が切り捨てられる。\n",
    "    # このような切り捨てが発生する場合、col2imのimg[:, :, y:y_max:stride, x:x_max:stride] でスライスを使って\n",
    "    # stride刻みで値を代入する際にエラーを出して止まってしまう。そのため、縦横ともに(stride - 1)個分だけ余分に配列を確保しておき、\n",
    "    # 最後に余分なところを切り捨てることでサイズを調整している。\n",
    "    \n",
    "    # 配列を並び替える\n",
    "    for y in range(   ):                                                                                              # <- 穴埋め\n",
    "        \"\"\"\n",
    "        フィルターの高さ方向のループ\n",
    "        \"\"\"        \n",
    "        y_max = y + stride*out_h\n",
    "        \n",
    "        for x in range(    ):                                                                                          # <- 穴埋め\n",
    "            \"\"\"\n",
    "            フィルターの幅方向のループ\n",
    "            \"\"\"            \n",
    "            x_max = x + stride*out_w\n",
    "            \n",
    "            if is_backward:\n",
    "                \"\"\"\n",
    "                逆伝播計算の場合\n",
    "                \"\"\"\n",
    "                img[:, :, y:y_max:stride, x:x_max:stride] += col[             ] # 伝わってきた勾配を足していく                  # <- 穴埋め\n",
    "            else:\n",
    "                \"\"\"\n",
    "                元のimに戻ることを確認したい場合\n",
    "                \"\"\"\n",
    "                img[:, :, y:y_max:stride, x:x_max:stride] = col[               ]                                      # <- 穴埋め\n",
    "\n",
    "    return img[:, :,       :H +    ,     :W +    ] # pad分は除いておく(pad分を除いて真ん中だけを取り出す)                            # <- 穴埋め"
   ]
  },
  {
   "cell_type": "code",
   "execution_count": null,
   "metadata": {
    "scrolled": false
   },
   "outputs": [],
   "source": [
    "# データ数が1の場合の確認\n",
    "im1= col2im(col1, input_shape=(1, 3, 3, 3), filter_h=2, filter_w=2, stride=1, pad=0)\n",
    "print(\"im1=\", im1.round(2))\n",
    "print()\n",
    "print(\"元の形に戻っていることを確認(値が0であればok)\")\n",
    "print((x1 - im1 ).sum())\n",
    "print()\n",
    "im1_p= col2im(col1_p, input_shape=(1, 3, 3, 3), filter_h=2, filter_w=2, stride=1, pad=1)\n",
    "print(\"im1_p=\", im1_p.round(2))\n",
    "print()\n",
    "print(\"元の形に戻っていることを確認(値が0であればok)\")\n",
    "print((x1 - im1_p ).sum())"
   ]
  },
  {
   "cell_type": "code",
   "execution_count": null,
   "metadata": {
    "scrolled": true
   },
   "outputs": [],
   "source": [
    "# データ数が5の場合の確認\n",
    "im5 = col2im(col5, input_shape=(5, 3, 3, 3), filter_h=2, filter_w=2, stride=1, pad=0)\n",
    "print(\"im5=\", im5.round(2))\n",
    "print()\n",
    "print(\"元の形に戻っていることを確認(値が0であればok)\")\n",
    "print((x5 - im5 ).sum())\n",
    "print()\n",
    "\n",
    "im5_p = col2im(col5_p, input_shape=(5, 3, 3, 3), filter_h=2, filter_w=2, stride=1, pad=1)\n",
    "print(\"im5_p=\", im5_p.round(2))\n",
    "print()\n",
    "print(\"元の形に戻っていることを確認(値が0であればok)\")\n",
    "print((x5 - im5_p ).sum())\n",
    "print()"
   ]
  }
 ],
 "metadata": {
  "kernelspec": {
   "display_name": "Python 3",
   "language": "python",
   "name": "python3"
  },
  "language_info": {
   "codemirror_mode": {
    "name": "ipython",
    "version": 3
   },
   "file_extension": ".py",
   "mimetype": "text/x-python",
   "name": "python",
   "nbconvert_exporter": "python",
   "pygments_lexer": "ipython3",
   "version": "3.7.3"
  }
 },
 "nbformat": 4,
 "nbformat_minor": 2
}
