{
 "cells": [
  {
   "cell_type": "markdown",
   "metadata": {},
   "source": [
    "# エンコーダのLSTMが双方向になったアテンション付きseq2seqモデルを実装する"
   ]
  },
  {
   "cell_type": "code",
   "execution_count": 1,
   "metadata": {},
   "outputs": [],
   "source": [
    "import numpy as np\n",
    "from common.time_layers import TimeEmbedding,TimeSoftmaxWithLoss\n",
    "from common.base_model import BaseModel\n",
    "from common.time_layers import TimeBiLSTM\n",
    "from common.seq2seq import Seq2seq\n",
    "from common.attention_layer import TimeAttention\n",
    "from common.attention_seq2seq import AttentionDecoder"
   ]
  },
  {
   "cell_type": "markdown",
   "metadata": {},
   "source": [
    "### [演習]\n",
    "* 以下のAttentionBiEncoder,AttentionBiSeq2seqクラスを完成させましょう"
   ]
  },
  {
   "cell_type": "code",
   "execution_count": 2,
   "metadata": {},
   "outputs": [],
   "source": [
    "class AttentionBiEncoder:\n",
    "    \"\"\"\n",
    "    アテンション付きエンコーダ\n",
    "    LSTMは双方向\n",
    "    \"\"\"\n",
    "    def __init__(self, vocab_size, wordvec_size, hidden_size):\n",
    "        V, D, H = vocab_size, wordvec_size, hidden_size\n",
    "        rn = np.random.randn\n",
    "\n",
    "        # 初期値の設定\n",
    "        embed_W = rn(V, D) / 100 # 小さな値で初期化\n",
    "        \n",
    "        # 順方向LSTMの初期パラメータ\n",
    "        lstm_Wx_f = rn(D, 4 * H) * np.sqrt(2/(D+H)) # Xavierの初期値\n",
    "        lstm_Wh_f = rn(H, 4 * H) * np.sqrt(2/(H+H)) # Xavierの初期値\n",
    "        lstm_b_f = np.zeros(4 * H)\n",
    "        # 逆方向LSTMの初期パラメータ\n",
    "        lstm_Wx_b = rn(D, 4 * H) * np.sqrt(2/(D+H)) # Xavierの初期値\n",
    "        lstm_Wh_b = rn(H, 4 * H) * np.sqrt(2/(H+H)) # Xavierの初期値\n",
    "        lstm_b_b = np.zeros(4 * H)  \n",
    "        \n",
    "        # レイヤの定義\n",
    "        self.embed = TimeEmbedding(embed_W)\n",
    "        # 双方向LSTMを定義\n",
    "        self.lstm = TimeBiLSTM(lstm_Wx_f, lstm_Wh_f, lstm_b_f, lstm_Wx_b, lstm_Wh_b, lstm_b_b, stateful=False)\n",
    "    \n",
    "        # パラメータ、勾配をそれぞれまとめる\n",
    "        self.params = self.embed.params + self.lstm.params\n",
    "        self.grads = self.embed.grads + self.lstm.grads\n",
    "        self.hs = None\n",
    "        \n",
    "    def forward(self, xs):\n",
    "        \"\"\"\n",
    "        順伝播\n",
    "        xs : 入力データ\n",
    "        \"\"\"\n",
    "        # 単語埋め込みレイヤ\n",
    "        xs = self.embed.forward(xs)\n",
    "        \n",
    "        # LSTMレイヤ\n",
    "        hs = self.lstm.forward(xs) # 全ての中間層の情報を返す\n",
    "        \n",
    "        return hs\n",
    "\n",
    "    def backward(self, dhs):\n",
    "        \"\"\"\n",
    "        逆伝播\n",
    "        dhs : 勾配\n",
    "        \"\"\"\n",
    "        # LSTMレイヤ\n",
    "        dout = self.lstm.backward(dhs) #  Decoderから伝わってきた勾配を全て伝える\n",
    "        \n",
    "        # 単語埋め込みレイヤ\n",
    "        dout = self.embed.backward(dout)\n",
    "        \n",
    "        return dout\n",
    "    \n",
    "\n",
    "class AttentionBiSeq2seq(Seq2seq):\n",
    "    \"\"\"\n",
    "    エンコーダが双方向LSTMになったアテンション付きseq2seqモデル\n",
    "    \"\"\"\n",
    "    def __init__(self, vocab_size, wordvec_size, hidden_size):\n",
    "        V, D, H = vocab_size, wordvec_size, hidden_size\n",
    "        \n",
    "        # アテンション付きエンコーダ(双方向LSTM)\n",
    "        self.encoder = AttentionBiEncoder(V, D, H)\n",
    "        # アンテション付きデコーダ\n",
    "        self.decoder = AttentionDecoder(V, D, H*2)# 双方向の中間層を引数に取るため、Hを2倍しておく\n",
    "        # ソフトマックス+損失\n",
    "        self.softmax = TimeSoftmaxWithLoss()\n",
    "        # パラメータ、勾配をそれぞれまとめる\n",
    "        self.params = self.encoder.params + self.decoder.params\n",
    "        self.grads = self.encoder.grads + self.decoder.grads\n"
   ]
  },
  {
   "cell_type": "code",
   "execution_count": 3,
   "metadata": {},
   "outputs": [
    {
     "name": "stdout",
     "output_type": "stream",
     "text": [
      "xs= [[1 0 2 1 2]\n",
      " [2 2 0 1 0]\n",
      " [2 1 0 1 2]]\n",
      "\n",
      "ts= [[2 1 0 1 0]\n",
      " [1 2 2 1 1]\n",
      " [0 1 2 1 0]]\n",
      "\n",
      "loss= 1.0994469136912182\n",
      "\n",
      "dout= None\n",
      "dout=Noneになればok\n",
      "\n"
     ]
    }
   ],
   "source": [
    "# 語彙数\n",
    "V = 3\n",
    "# 埋め込み後次元数\n",
    "D = 3\n",
    "# 中間層ノード数\n",
    "H = 4\n",
    "# データ数\n",
    "N = 3\n",
    "# 単語数\n",
    "T = 5\n",
    "\n",
    "# モデル構築\n",
    "model = AttentionBiSeq2seq(V, D, H)\n",
    "\n",
    "xs = np.random.randint(0, V, N*T).reshape(N, T)\n",
    "ts =  np.random.randint(0, V, N*T).reshape(N, T)\n",
    "print(\"xs=\", xs)\n",
    "print()\n",
    "print(\"ts=\", ts)\n",
    "print()\n",
    "\n",
    "# 順伝播計算\n",
    "loss = model.forward(xs, ts)\n",
    "print(\"loss=\", loss)\n",
    "print()\n",
    "\n",
    "# 逆伝播計算\n",
    "dout = model.backward(dout=1)\n",
    "print(\"dout=\", dout)\n",
    "print(\"dout=Noneになればok\")\n",
    "print()"
   ]
  }
 ],
 "metadata": {
  "kernelspec": {
   "display_name": "Python 3",
   "language": "python",
   "name": "python3"
  },
  "language_info": {
   "codemirror_mode": {
    "name": "ipython",
    "version": 3
   },
   "file_extension": ".py",
   "mimetype": "text/x-python",
   "name": "python",
   "nbconvert_exporter": "python",
   "pygments_lexer": "ipython3",
   "version": "3.7.3"
  }
 },
 "nbformat": 4,
 "nbformat_minor": 2
}
