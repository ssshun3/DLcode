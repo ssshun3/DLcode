{
 "cells": [
  {
   "cell_type": "markdown",
   "metadata": {},
   "source": [
    "# 形態素解析"
   ]
  },
  {
   "cell_type": "markdown",
   "metadata": {},
   "source": [
    "## [MeCabの環境構築]\n",
    "\n",
    "### Windowsの場合\n",
    "* 1.Mecabのインストール    \n",
    "    * http://oita.oika.me/2018/05/03/python3-mecab-on-windows/\n",
    "* 2.mecab-python-windowsのインストール    \n",
    "```\n",
    "pip install mecab-python-windows\n",
    "```\n",
    "        \n",
    "        \n",
    "\n",
    "### Mac, Linuxの場合\n",
    "#### 1.swigのインストール\n",
    "* Macの場合\n",
    "    * brew install swig\n",
    "* Ubuntuの場合\n",
    "    * sudo apt-get install swig\n",
    "    \n",
    "\n",
    "#### 2. MeCabのインストール\n",
    "* MeCabの公式サイト  \n",
    "    http://taku910.github.io/mecab/#install  \n",
    "* インストール方法  \n",
    "    mecab-0.996.tar.gzをダウンロードし、端末にて以下を実行する。\n",
    "    \n",
    "    ```    \n",
    "    tar zxfv mecab-0.996.tar.gz\n",
    "    cd mecab-0.996\n",
    "    ./configure \n",
    "    make\n",
    "    make check\n",
    "    sudo make install\n",
    "    ```\n",
    "\n",
    "    次に、辞書のインストール。mecab-ipadic-2.7.0-20070801.tar.gzをダウンロードし、端末にて以下を実行する。\n",
    "    \n",
    "    ```\n",
    "    tar zxfv mecab-ipadic-2.7.0-20070801.tar.gz\n",
    "    cd mecab-ipadic-2.7.0-20070801\n",
    "    ./configure --with-charset=utf8\n",
    "    make\n",
    "    sudo make install\n",
    "    ```\n",
    "\n",
    "#### 3. mecab-python3のインストール\n",
    "```\n",
    "pip install -U mecab-python3==0.996.2\n",
    "```\n"
   ]
  },
  {
   "cell_type": "code",
   "execution_count": 1,
   "metadata": {},
   "outputs": [],
   "source": [
    "import MeCab\n",
    "# ここでエラーが出るようであれば、MeCab環境が正しく構築できていない"
   ]
  },
  {
   "cell_type": "markdown",
   "metadata": {},
   "source": [
    "## 形態素解析\n",
    "日本語の文章を形態素解析する"
   ]
  },
  {
   "cell_type": "code",
   "execution_count": 2,
   "metadata": {},
   "outputs": [
    {
     "name": "stdout",
     "output_type": "stream",
     "text": [
      "表層形\t品詞,品詞細分類1,品詞細分類2,品詞細分類3,活用型,活用形,原形,読み,発音\n",
      "すもも\t名詞,一般,*,*,*,*,すもも,スモモ,スモモ\n",
      "も\t助詞,係助詞,*,*,*,*,も,モ,モ\n",
      "もも\t名詞,一般,*,*,*,*,もも,モモ,モモ\n",
      "も\t助詞,係助詞,*,*,*,*,も,モ,モ\n",
      "もも\t名詞,一般,*,*,*,*,もも,モモ,モモ\n",
      "の\t助詞,連体化,*,*,*,*,の,ノ,ノ\n",
      "うち\t名詞,非自立,副詞可能,*,*,*,うち,ウチ,ウチ\n",
      "は\t助詞,係助詞,*,*,*,*,は,ハ,ワ\n",
      "誰\t名詞,代名詞,一般,*,*,*,誰,ダレ,ダレ\n",
      "が\t助詞,格助詞,一般,*,*,*,が,ガ,ガ\n",
      "考え\t動詞,自立,*,*,一段,連用形,考える,カンガエ,カンガエ\n",
      "た\t助動詞,*,*,*,特殊・タ,基本形,た,タ,タ\n",
      "ん\t名詞,非自立,一般,*,*,*,ん,ン,ン\n",
      "だろ\t助動詞,*,*,*,特殊・ダ,未然形,だ,ダロ,ダロ\n",
      "う\t助動詞,*,*,*,不変化型,基本形,う,ウ,ウ\n",
      "か\t助詞,副助詞／並立助詞／終助詞,*,*,*,*,か,カ,カ\n",
      "EOS\n",
      "\n"
     ]
    }
   ],
   "source": [
    "mec = MeCab.Tagger ()\n",
    "print(\"表層形\\t品詞,品詞細分類1,品詞細分類2,品詞細分類3,活用型,活用形,原形,読み,発音\")\n",
    "print(mec.parse(\"すもももももももものうちは誰が考えたんだろうか\"))\n"
   ]
  },
  {
   "cell_type": "code",
   "execution_count": 3,
   "metadata": {},
   "outputs": [
    {
     "name": "stdout",
     "output_type": "stream",
     "text": [
      "表層形\t読み\t原型\t品詞(-品詞細分類1)(-品詞細分類2)(-品詞細分類3) \t活用形\t活用型\n",
      "すもも\tスモモ\tすもも\t名詞-一般\t\t\n",
      "も\tモ\tも\t助詞-係助詞\t\t\n",
      "もも\tモモ\tもも\t名詞-一般\t\t\n",
      "も\tモ\tも\t助詞-係助詞\t\t\n",
      "もも\tモモ\tもも\t名詞-一般\t\t\n",
      "の\tノ\tの\t助詞-連体化\t\t\n",
      "うち\tウチ\tうち\t名詞-非自立-副詞可能\t\t\n",
      "は\tハ\tは\t助詞-係助詞\t\t\n",
      "誰\tダレ\t誰\t名詞-代名詞-一般\t\t\n",
      "が\tガ\tが\t助詞-格助詞-一般\t\t\n",
      "考え\tカンガエ\t考える\t動詞-自立\t一段\t連用形\n",
      "た\tタ\tた\t助動詞\t特殊・タ\t基本形\n",
      "ん\tン\tん\t名詞-非自立-一般\t\t\n",
      "だろ\tダロ\tだ\t助動詞\t特殊・ダ\t未然形\n",
      "う\tウ\tう\t助動詞\t不変化型\t基本形\n",
      "か\tカ\tか\t助詞-副助詞／並立助詞／終助詞\t\t\n",
      "EOS\n",
      "\n"
     ]
    }
   ],
   "source": [
    "mec = MeCab.Tagger (\"-Ochasen\")\n",
    "print(\"表層形\\t読み\\t原型\\t品詞(-品詞細分類1)(-品詞細分類2)(-品詞細分類3) \\t活用形\\t活用型\")\n",
    "print(mec.parse(\"すもももももももものうちは誰が考えたんだろうか\"))\n"
   ]
  },
  {
   "cell_type": "markdown",
   "metadata": {},
   "source": [
    "## 分かち書き\n",
    "日本語を分かち書きし、リストに格納することも可能"
   ]
  },
  {
   "cell_type": "code",
   "execution_count": 4,
   "metadata": {},
   "outputs": [
    {
     "name": "stdout",
     "output_type": "stream",
     "text": [
      "すいか も もも も まるい くだもの 。 \n",
      "\n",
      "['すいか', 'も', 'もも', 'も', 'まるい', 'くだもの', '。']\n"
     ]
    }
   ],
   "source": [
    "text = 'すいかももももまるいくだもの。'\n",
    "mec = MeCab.Tagger (\"-Owakati\")        \n",
    "result = mec.parse(text)\n",
    "print(result)\n",
    "print(result.split())"
   ]
  },
  {
   "cell_type": "markdown",
   "metadata": {},
   "source": [
    "### [演習]\n",
    "* 好きな文章を形態素解析してみよう\n",
    "* 好きな文章を分かち書きしてリストに格納してみよう"
   ]
  }
 ],
 "metadata": {
  "kernelspec": {
   "display_name": "Python 3",
   "language": "python",
   "name": "python3"
  },
  "language_info": {
   "codemirror_mode": {
    "name": "ipython",
    "version": 3
   },
   "file_extension": ".py",
   "mimetype": "text/x-python",
   "name": "python",
   "nbconvert_exporter": "python",
   "pygments_lexer": "ipython3",
   "version": "3.7.3"
  }
 },
 "nbformat": 4,
 "nbformat_minor": 2
}
