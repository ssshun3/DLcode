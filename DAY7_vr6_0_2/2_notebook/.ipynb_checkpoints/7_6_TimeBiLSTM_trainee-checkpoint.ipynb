{
 "cells": [
  {
   "cell_type": "markdown",
   "metadata": {},
   "source": [
    "# 双方向LSTMを計算するためのTimeBiLSTMクラスを実装する"
   ]
  },
  {
   "cell_type": "code",
   "execution_count": null,
   "metadata": {},
   "outputs": [],
   "source": [
    "import numpy as np\n",
    "from common.time_layers import TimeLSTM"
   ]
  },
  {
   "cell_type": "markdown",
   "metadata": {},
   "source": [
    "### [演習]\n",
    "* 以下のTimeBiLSTMクラスを完成させましょう"
   ]
  },
  {
   "cell_type": "code",
   "execution_count": null,
   "metadata": {},
   "outputs": [],
   "source": [
    "class TimeBiLSTM:\n",
    "    \"\"\"\n",
    "    双方向LSTM\n",
    "    \"\"\"\n",
    "    def __init__(self, Wx1, Wh1, b1, Wx2, Wh2, b2, stateful=False):\n",
    "        \n",
    "        # レイヤの定義\n",
    "        self.forward_lstm = TimeLSTM(Wx1, Wh1, b1, stateful)\n",
    "        self.backward_lstm = TimeLSTM(Wx2, Wh2, b2, stateful)\n",
    "        \n",
    "        # パラメータ、勾配をそれぞれまとめる\n",
    "        self.params = self.forward_lstm.params + self.backward_lstm.params\n",
    "        self.grads = self.forward_lstm.grads + self.backward_lstm.grads\n",
    "\n",
    "    def forward(self, xs):\n",
    "        \"\"\"\n",
    "        順伝播\n",
    "        xs : 入力データ\n",
    "        \"\"\"\n",
    "        # 順方向のLSTM\n",
    "        o1 = self.forward_lstm.forward(xs)\n",
    "        \n",
    "        # 逆方向のLSTM\n",
    "        o2 = self.backward_lstm.forward(xs[:,       ]) # xsを逆順にして入力する                                                                                    # <- 穴埋め\n",
    "        o2 = o2[:,      ] # 結果を逆順にする                                                                                                                                                  # <- 穴埋め\n",
    "        \n",
    "        # 順方向LSTMの結果と逆方向LSTMの結果を結合する\n",
    "        out = np.concatenate((     ,     ), axis=     )                                                                                                                                   # <- 穴埋め\n",
    "        return out\n",
    "\n",
    "    def backward(self, dhs):\n",
    "        \"\"\"\n",
    "        逆伝播\n",
    "        dhs : 勾配\n",
    "        \"\"\"\n",
    "        H = dhs.shape[     ] // 2                                                                                           # <- 穴埋め\n",
    "        do1 = dhs[:, :,      ]                                                                                                   # <- 穴埋め\n",
    "        do2 = dhs[:, :,      ]                                                                                                   # <- 穴埋め\n",
    "\n",
    "        dxs1 = self.forward_lstm.backward(do1)\n",
    "        do2 = do2[:, ::-1]\n",
    "        dxs2 = self.backward_lstm.backward(do2)\n",
    "        dxs2 = dxs2[:, ::-1]\n",
    "        dxs = dxs1 + dxs2\n",
    "        return dxs"
   ]
  },
  {
   "cell_type": "code",
   "execution_count": null,
   "metadata": {},
   "outputs": [],
   "source": [
    "# 語彙数\n",
    "V = 3\n",
    "# 埋め込み後次元数\n",
    "D = 3\n",
    "# 中間層ノード数\n",
    "H = 4\n",
    "# データ数\n",
    "N = 3\n",
    "# 単語数\n",
    "T = 5\n",
    "\n",
    "rn = np.random.randn\n",
    "Wx1 = rn(D, 4 * H) / np.sqrt(D)\n",
    "Wh1 = rn(H, 4 * H) / np.sqrt(H)\n",
    "b1 = np.zeros(4 * H)\n",
    "Wx2 = rn(D, 4 * H) / np.sqrt(D)\n",
    "Wh2 = rn(H, 4 * H) / np.sqrt(H)\n",
    "b2 = np.zeros(4 * H)\n",
    "\n",
    "# モデル構築\n",
    "Wx1, Wh1, b1, Wx2, Wh2, b2\n",
    "tb = TimeBiLSTM(Wx1, Wh1, b1, Wx2, Wh2, b2)\n",
    "\n",
    "\n",
    "xs = np.random.randint(0, V, N*T*D).reshape(N, T, D)\n",
    "print(\"xs=\", xs)\n",
    "print()\n",
    "\n",
    "# 順伝播計算\n",
    "out = tb.forward(xs)\n",
    "print(\"out=\", out)\n",
    "print()\n",
    "\n",
    "# 逆伝播計算\n",
    "dhs = np.random.randn(N*T*H*2).reshape(N, T, H*2)\n",
    "dxs = tb.backward(dhs)\n",
    "print(\"dxs=\", dxs)\n",
    "print()"
   ]
  },
  {
   "cell_type": "code",
   "execution_count": null,
   "metadata": {},
   "outputs": [],
   "source": []
  }
 ],
 "metadata": {
  "kernelspec": {
   "display_name": "Python 3",
   "language": "python",
   "name": "python3"
  },
  "language_info": {
   "codemirror_mode": {
    "name": "ipython",
    "version": 3
   },
   "file_extension": ".py",
   "mimetype": "text/x-python",
   "name": "python",
   "nbconvert_exporter": "python",
   "pygments_lexer": "ipython3",
   "version": "3.7.3"
  }
 },
 "nbformat": 4,
 "nbformat_minor": 2
}
