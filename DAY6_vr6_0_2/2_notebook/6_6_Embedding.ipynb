{
 "cells": [
  {
   "cell_type": "markdown",
   "metadata": {},
   "source": [
    "# Embeddingレイヤを確認する\n",
    "Embeddingレイヤは、単語IDを埋め込みベクトルに変換するためのレイヤである"
   ]
  },
  {
   "cell_type": "code",
   "execution_count": 1,
   "metadata": {},
   "outputs": [],
   "source": [
    "import numpy as np"
   ]
  },
  {
   "cell_type": "code",
   "execution_count": 2,
   "metadata": {},
   "outputs": [
    {
     "name": "stdout",
     "output_type": "stream",
     "text": [
      "a= [[1. 1. 1.]\n",
      " [1. 1. 1.]\n",
      " [1. 1. 1.]\n",
      " [1. 1. 1.]\n",
      " [1. 1. 1.]] \n",
      "\n",
      "b= [[1. 1. 1.]\n",
      " [1. 1. 1.]\n",
      " [1. 1. 1.]\n",
      " [1. 1. 1.]\n",
      " [1. 1. 1.]] \n",
      "\n",
      "a= [[3. 3. 3.]\n",
      " [3. 3. 3.]\n",
      " [3. 3. 3.]\n",
      " [3. 3. 3.]\n",
      " [3. 3. 3.]] \n",
      "\n",
      "b= 3 \n",
      "\n",
      "\n",
      "[[0.82732974 0.32393073 0.12397038]\n",
      " [0.79192243 0.51291291 0.74195848]]\n",
      "\n",
      "[[0.82732974 0.32393073 0.12397038]\n",
      " [1.79192243 2.51291291 3.74195848]]\n"
     ]
    }
   ],
   "source": [
    "# 確認\n",
    "a = b = np.ones((5,3))\n",
    "print(\"a=\",a, \"\\n\")\n",
    "print(\"b=\",b, \"\\n\")\n",
    "a.fill(3)  #　numpyの配列の各要素に同じ値を代入する\n",
    "b = 3 # 変数に値を代入する\n",
    "print(\"a=\",a, \"\\n\")\n",
    "print(\"b=\",b, \"\\n\")\n",
    "print()\n",
    "\n",
    "dW = np.random.rand(2,3)\n",
    "print(dW)\n",
    "print()\n",
    "idx = 1\n",
    "dout = np.array([1,2,3])\n",
    "np.add.at(dW, idx, dout) #  dWのidx行目にベクトルdoutを加える処理\n",
    "print(dW)"
   ]
  },
  {
   "cell_type": "code",
   "execution_count": 3,
   "metadata": {},
   "outputs": [],
   "source": [
    "class Embedding:\n",
    "    def __init__(self, W):\n",
    "        \"\"\"\n",
    "        W : 重み行列, word2vecの埋め込み行列に相当する。配列形状は、(語彙数、埋め込みベクトルの要素数)\n",
    "        \"\"\"\n",
    "        self.params = [W] # 要素は1つだけであるが、他のレイヤと仕様を揃えるため、あえてリストで定義\n",
    "        self.grads = [np.zeros_like(W)] # 要素は1つだけであるが、他のレイヤと仕様を揃えるため、あえてリストで定義\n",
    "        self.idx = None\n",
    "\n",
    "    def forward(self, idx):\n",
    "        \"\"\"\n",
    "        順伝播計算\n",
    "        \"\"\"\n",
    "        W = self.params[0]\n",
    "        self.idx = idx\n",
    "        \n",
    "        # 埋め込み行列から埋め込みベクトルを取り出す\n",
    "        out = W[idx]\n",
    "        \n",
    "        return out\n",
    "\n",
    "    def backward(self, dout):\n",
    "        \"\"\"\n",
    "        逆伝播計算\n",
    "        \"\"\"\n",
    "        # gradsというリストの1要素目を参照する\n",
    "        dW = self.grads[0]\n",
    "        \n",
    "        # 配列の全ての要素に0を代入する\n",
    "        dW.fill(0)\n",
    "        \n",
    "        # dWのidxの場所にdoutを加える\n",
    "        np.add.at(dW, self.idx, dout)\n",
    "        return None"
   ]
  },
  {
   "cell_type": "code",
   "execution_count": 4,
   "metadata": {},
   "outputs": [
    {
     "name": "stdout",
     "output_type": "stream",
     "text": [
      "embed_W= [[-0.38085231 -0.50923448 -0.60461922]\n",
      " [-0.08405764  0.18403951 -0.54518601]\n",
      " [-0.05312275  1.32609237 -0.82539237]\n",
      " [-0.61889971 -1.24201737  0.24590783]\n",
      " [-1.0215016  -0.16541799 -0.81127647]\n",
      " [ 0.17635847  0.03600686  0.84432257]\n",
      " [ 1.60290218  1.09709585  0.06469014]\n",
      " [ 0.13623434  1.12033241  0.82404996]\n",
      " [-0.69778427 -0.11076736  0.14223766]\n",
      " [-0.35395715  1.07079204 -1.43577054]]\n",
      "\n",
      "dout= [0 1 2]\n",
      "\n",
      "dW= [[0. 0. 0.]\n",
      " [0. 0. 0.]\n",
      " [0. 1. 2.]\n",
      " [0. 0. 0.]\n",
      " [0. 0. 0.]\n",
      " [0. 0. 0.]\n",
      " [0. 0. 0.]\n",
      " [0. 0. 0.]\n",
      " [0. 0. 0.]\n",
      " [0. 0. 0.]]\n",
      "\n"
     ]
    }
   ],
   "source": [
    "V = 10 # 語彙数\n",
    "D = 3 # 埋め込みベクトルの要素数\n",
    "\n",
    "# パラメータの初期化\n",
    "embed_W = np.random.randn(V, D) \n",
    "print(\"embed_W=\", embed_W)\n",
    "print()\n",
    "\n",
    "# オブジェクトの生成\n",
    "emb = Embedding(embed_W)\n",
    "\n",
    "# 単語ID\n",
    "idx = 2\n",
    "\n",
    "# 順伝播計算\n",
    "emb.forward(idx)\n",
    "\n",
    "# 逆伝播計算\n",
    "dout = np.arange(D)\n",
    "print(\"dout=\", dout)\n",
    "print()\n",
    "emb.backward(dout)\n",
    "print(\"dW=\", emb.grads[0])\n",
    "print()"
   ]
  }
 ],
 "metadata": {
  "kernelspec": {
   "display_name": "Python 3",
   "language": "python",
   "name": "python3"
  },
  "language_info": {
   "codemirror_mode": {
    "name": "ipython",
    "version": 3
   },
   "file_extension": ".py",
   "mimetype": "text/x-python",
   "name": "python",
   "nbconvert_exporter": "python",
   "pygments_lexer": "ipython3",
   "version": "3.7.3"
  }
 },
 "nbformat": 4,
 "nbformat_minor": 2
}
