{
 "cells": [
  {
   "cell_type": "markdown",
   "metadata": {},
   "source": [
    "# LSTMレイヤの実装"
   ]
  },
  {
   "cell_type": "code",
   "execution_count": null,
   "metadata": {},
   "outputs": [],
   "source": [
    "import numpy as np\n",
    "from common.functions import sigmoid"
   ]
  },
  {
   "cell_type": "markdown",
   "metadata": {},
   "source": [
    "### [演習]\n",
    "* 以下のLSTMレイヤのクラスを完成させましょう"
   ]
  },
  {
   "cell_type": "code",
   "execution_count": null,
   "metadata": {},
   "outputs": [],
   "source": [
    "class LSTM:\n",
    "    def __init__(self, Wx, Wh, b):\n",
    "        '''\n",
    "        Parameters\n",
    "        ----------\n",
    "        Wx: 入力x用の重みパラーメタ（4つ分の重みをまとめたもの)\n",
    "        Wh: 隠れ状態h用の重みパラメータ（4つ分の重みをまとめたもの）\n",
    "        b: バイアス（4つ分のバイアスをまとめたもの）\n",
    "        '''\n",
    "        self.params = [Wx, Wh, b]\n",
    "        self.grads = [np.zeros_like(Wx), np.zeros_like(Wh), np.zeros_like(b)]\n",
    "        self.cache = None\n",
    "\n",
    "    def forward(self, x, h_prev, c_prev):\n",
    "        \"\"\"\n",
    "        順伝播計算\n",
    "        \"\"\"        \n",
    "        Wx, Wh, b = self.params\n",
    "        N, H = h_prev.shape\n",
    "\n",
    "        A = np.dot(      ,       ) + np.dot(      ,       ) +                                                                           # <- 穴埋め\n",
    "\n",
    "        f = A[      :      ,       :      ]                                                                                                          # <- 穴埋め\n",
    "        g = A[      :      ,       :      ]                                                                                                         # <- 穴埋め\n",
    "        i = A[      :      ,       :      ]                                                                                                          # <- 穴埋め\n",
    "        o = A[      :      ,       :      ]                                                                                                        # <- 穴埋め\n",
    "\n",
    "        f = sigmoid(f)\n",
    "        g = np.tanh(g)\n",
    "        i = sigmoid(i)\n",
    "        o = sigmoid(o)\n",
    "    \n",
    "        c_next =        *        +        *                                                                                                            # <- 穴埋め\n",
    "        tanh_c_next = np.tanh(c_next)\n",
    "        h_next =        * tanh_c_next                                                                                                        # <- 穴埋め\n",
    "\n",
    "        self.cache = (x, h_prev, c_prev, i, f, g, o, tanh_c_next)\n",
    "        return h_next, c_next\n",
    "\n",
    "    def backward(self, dh_next, dc_next):\n",
    "        \"\"\"\n",
    "        逆伝播計算\n",
    "        \"\"\"        \n",
    "        Wx, Wh, b = self.params\n",
    "        x, h_prev, c_prev, i, f, g, o, tanh_c_next = self.cache\n",
    "\n",
    "        A2 = (dh_next *       ) * (      )                                                                                                        # <- 穴埋め\n",
    "        ds =        + A2                                                                                                                                 # <- 穴埋め\n",
    "\n",
    "        dc_prev = ds *                                                                                                                               # <- 穴埋め\n",
    "\n",
    "        di = ds *                                                                                                                                          # <- 穴埋め\n",
    "        df = ds *                                                                                                                                         # <- 穴埋め\n",
    "        do = dh_next * tanh_c_next\n",
    "        dg = ds *                                                                                                                                       # <- 穴埋め\n",
    "\n",
    "        di *= i * (      )                                                                                                                               # <- 穴埋め\n",
    "        df *= f * (      )                                                                                                                             # <- 穴埋め\n",
    "        do *= o * (      )                                                                                                                           # <- 穴埋め\n",
    "        dg *= (      )                                                                                                                                 # <- 穴埋め\n",
    "\n",
    "        dA = np.hstack((df, dg, di, do))\n",
    "\n",
    "        dWh = np.dot(      , dA)                                                                                                            # <- 穴埋め\n",
    "        dWx = np.dot(      , dA)                                                                                                           # <- 穴埋め\n",
    "        db = dA.sum(axis=0)\n",
    "\n",
    "        self.grads[0][:] = dWx # 同じメモリ位置に代入\n",
    "        self.grads[1][:] = dWh # 同じメモリ位置に代入\n",
    "        self.grads[2][:] = db # 同じメモリ位置に代入\n",
    "\n",
    "        dx = np.dot(dA,       )                                                                                                                  # <- 穴埋め\n",
    "        dh_prev = np.dot(dA,       )                                                                                                        # <- 穴埋め\n",
    "\n",
    "        return dx, dh_prev, dc_prev"
   ]
  },
  {
   "cell_type": "code",
   "execution_count": null,
   "metadata": {},
   "outputs": [],
   "source": [
    "D = 10 # 入力データの次元\n",
    "H = 5 # 中間層のノード数\n",
    "\n",
    "Wx = (np.random.randn(D, 4 * H) / np.sqrt(D))\n",
    "Wh = (np.random.randn(H, 4 * H) / np.sqrt(H))\n",
    "b = np.zeros(4 * H)\n",
    "\n",
    "# オブジェクトの生成\n",
    "lstm = LSTM(Wx, Wh, b)\n",
    "\n",
    "# 順伝播計算\n",
    "N = 4 # バッチサイズ\n",
    "x = np.random.randn(N, D)\n",
    "h_prev = np.random.randn(N, H)\n",
    "c_prev = np.zeros((N, H))\n",
    "h_next = lstm.forward(x, h_prev, c_prev)\n",
    "print(\"h_next=\", h_next)\n",
    "print()\n",
    "\n",
    "# 逆伝播計算\n",
    "dh_next = np.random.randn(N, H)\n",
    "dc_next = np.random.randn(N, H)\n",
    "dx, dh_prev, dc_prev = lstm.backward(dh_next, dc_next)\n",
    "print(\"dx=\", dx)\n",
    "print()\n",
    "print(\"dh_prev=\", dh_prev)\n",
    "print()\n"
   ]
  }
 ],
 "metadata": {
  "kernelspec": {
   "display_name": "Python 3",
   "language": "python",
   "name": "python3"
  },
  "language_info": {
   "codemirror_mode": {
    "name": "ipython",
    "version": 3
   },
   "file_extension": ".py",
   "mimetype": "text/x-python",
   "name": "python",
   "nbconvert_exporter": "python",
   "pygments_lexer": "ipython3",
   "version": "3.7.3"
  }
 },
 "nbformat": 4,
 "nbformat_minor": 2
}
