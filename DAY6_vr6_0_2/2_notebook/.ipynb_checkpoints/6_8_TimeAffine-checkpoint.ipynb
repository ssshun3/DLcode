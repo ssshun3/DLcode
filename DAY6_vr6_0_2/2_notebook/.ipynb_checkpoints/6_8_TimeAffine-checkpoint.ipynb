{
 "cells": [
  {
   "cell_type": "markdown",
   "metadata": {},
   "source": [
    "# TimeAffineレイヤを確認する\n",
    "TimeAffineレイヤは、Affineレイヤを時間方向に結合していくレイヤである"
   ]
  },
  {
   "cell_type": "code",
   "execution_count": 1,
   "metadata": {},
   "outputs": [],
   "source": [
    "import numpy as np\n",
    "from common.layers import Affine"
   ]
  },
  {
   "cell_type": "code",
   "execution_count": 2,
   "metadata": {},
   "outputs": [],
   "source": [
    "class TimeAffine:\n",
    "    def __init__(self, W, b):\n",
    "        \n",
    "        # パラメータのリスト\n",
    "        self.params = [W, b]\n",
    "        \n",
    "        # 勾配のリスト\n",
    "        self.grads = [np.zeros_like(W), np.zeros_like(b)]\n",
    " \n",
    "        self.x = None\n",
    "\n",
    "    def forward(self, x):\n",
    "        \"\"\"\n",
    "        順伝播計算\n",
    "        x : 入力データ\n",
    "        \"\"\"\n",
    "        N, T, D = x.shape # バッチサイズ、時間数、前層のノード数\n",
    "        W, b = self.params\n",
    "\n",
    "        # 全ての時刻について、一度でAffineの順伝播計算を行う\n",
    "        rx = x.reshape(N*T, -1)\n",
    "        out = np.dot(rx, W) + b # 行列の積 + バイアス\n",
    "        \n",
    "        # xを保持\n",
    "        self.x = x\n",
    "        \n",
    "        return out.reshape(N, T, -1)\n",
    "\n",
    "    def backward(self, dout):\n",
    "        \"\"\"\n",
    "        逆伝播計算\n",
    "        \"\"\"\n",
    "        x = self.x\n",
    "        N, T, D = x.shape # バッチサイズ、時間数、前層のノード数\n",
    "        W, b = self.params\n",
    "\n",
    "        # 全ての時刻について、一度でAffineの逆伝播計算を行う\n",
    "        dout = dout.reshape(N*T, -1)\n",
    "        rx = x.reshape(N*T, -1)\n",
    "        db = np.sum(dout, axis=0) # バイアスの勾配\n",
    "        dW = np.dot(rx.T, dout) # 重みWの勾配\n",
    "        dx = np.dot(dout, W.T) # 前層へ伝える勾配\n",
    "        dx = dx.reshape(*x.shape)\n",
    "\n",
    "        self.grads[0][:] = dW # 同じメモリ位置に代入\n",
    "        self.grads[1][:] = db # 同じメモリ位置に代入\n",
    "        \n",
    "        return dx"
   ]
  },
  {
   "cell_type": "code",
   "execution_count": 3,
   "metadata": {},
   "outputs": [
    {
     "name": "stdout",
     "output_type": "stream",
     "text": [
      "id of time_affine.grads[0] 4586215824\n",
      "id of time_affine.grads[1] 4586215984\n",
      "\n",
      "id of time_affine.grads[0] 4586215824\n",
      "id of time_affine.grads[1] 4586215984\n",
      "\n"
     ]
    }
   ],
   "source": [
    "np.random.seed(1234)\n",
    "D = 1 # 入力層のノード数\n",
    "H = 5 # 中間層のノード数\n",
    "W = np.random.randn(D, H)\n",
    "b = np.zeros(H)\n",
    "\n",
    "# オブジェクトの生成\n",
    "time_affine = TimeAffine(W, b)\n",
    "print(\"id of time_affine.grads[0]\", id(time_affine.grads[0]))\n",
    "print(\"id of time_affine.grads[1]\", id(time_affine.grads[1]))\n",
    "print()\n",
    "\n",
    "# 順伝播計算\n",
    "N = 4 # バッチサイズ\n",
    "T = 5 # 時間数\n",
    "x = np.random.randn(N, T, D)\n",
    "out = time_affine.forward(x)\n",
    "# print(\"out=\", out)\n",
    "# print()\n",
    "\n",
    "# 逆伝播計算\n",
    "dout = np.random.randn(N, T, H)\n",
    "dx = time_affine.backward(dout)\n",
    "# print(\"dx=\", dx)\n",
    "# print()\n",
    "\n",
    "print(\"id of time_affine.grads[0]\", id(time_affine.grads[0]))\n",
    "print(\"id of time_affine.grads[1]\", id(time_affine.grads[1]))\n",
    "print()\n"
   ]
  }
 ],
 "metadata": {
  "kernelspec": {
   "display_name": "Python 3",
   "language": "python",
   "name": "python3"
  },
  "language_info": {
   "codemirror_mode": {
    "name": "ipython",
    "version": 3
   },
   "file_extension": ".py",
   "mimetype": "text/x-python",
   "name": "python",
   "nbconvert_exporter": "python",
   "pygments_lexer": "ipython3",
   "version": "3.7.3"
  }
 },
 "nbformat": 4,
 "nbformat_minor": 2
}
