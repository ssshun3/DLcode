{
 "cells": [
  {
   "cell_type": "markdown",
   "metadata": {},
   "source": [
    "# RNNレイヤの実装"
   ]
  },
  {
   "cell_type": "code",
   "execution_count": 1,
   "metadata": {},
   "outputs": [],
   "source": [
    "import numpy as np\n",
    "from common.functions import sigmoid"
   ]
  },
  {
   "cell_type": "markdown",
   "metadata": {},
   "source": [
    "### [演習]\n",
    "* 以下のRNNレイヤのクラスを完成させましょう"
   ]
  },
  {
   "cell_type": "code",
   "execution_count": 2,
   "metadata": {
    "scrolled": true
   },
   "outputs": [],
   "source": [
    "class RNN:\n",
    "    def __init__(self, Wx, Wh, b):\n",
    "        \"\"\"\n",
    "        Wx : 入力xにかかる重み\n",
    "        Wh : １時刻前のhにかかる重み\n",
    "        b : バイアス\n",
    "        \"\"\"\n",
    "        \n",
    "        # パラメータのリスト\n",
    "        self.params = [Wx, Wh, b]\n",
    "        \n",
    "        # 勾配のリスト\n",
    "        self.grads = [np.zeros_like(Wx), np.zeros_like(Wh), np.zeros_like(b)]\n",
    "        self.cache = None\n",
    "\n",
    "    def forward(self, x, h_prev):\n",
    "        \"\"\"\n",
    "        順伝播計算\n",
    "        \"\"\"\n",
    "        Wx, Wh, b = self.params\n",
    "        \n",
    "        # 行列の積　+　行列の積 + バイアス\n",
    "        t = np.dot(h_prev, Wh) + np.dot(x, Wx) + b\n",
    "        \n",
    "        # 活性化関数に入れる\n",
    "        h_next = np.tanh(t)\n",
    "\n",
    "        # 値の一時保存\n",
    "        self.cache = (x, h_prev, h_next)\n",
    "        \n",
    "        return h_next\n",
    "\n",
    "    def backward(self, dh_next):\n",
    "        \"\"\"\n",
    "        逆伝播計算\n",
    "        \"\"\"\n",
    "        Wx, Wh, b = self.params\n",
    "        x, h_prev, h_next = self.cache\n",
    "\n",
    "        # tanhでの逆伝播\n",
    "        A3 = dh_next * (1 - h_next ** 2) # dh_next * (1 - y^2)\n",
    "        \n",
    "        # バイアスbの勾配\n",
    "        # Nの方向に合計する\n",
    "        db = np.sum(A3, axis=0)\n",
    "        \n",
    "        # 重みWhの勾配\n",
    "        dWh = np.dot(h_prev.T, A3)\n",
    "        \n",
    "        # 1時刻前に渡す勾配\n",
    "        dh_prev = np.dot(A3, Wh.T)\n",
    "        \n",
    "        # 重みWxの勾配\n",
    "        dWx = np.dot(x.T, A3)\n",
    "        \n",
    "        # 入力xに渡す勾配\n",
    "        dx = np.dot(A3, Wx.T)\n",
    "\n",
    "        # 勾配をまとめる\n",
    "        self.grads[0][:] = dWx # 同じメモリ位置に代入\n",
    "        self.grads[1][:] = dWh # 同じメモリ位置に代入\n",
    "        self.grads[2][:] = db # 同じメモリ位置に代入\n",
    "\n",
    "        return dx, dh_prev"
   ]
  },
  {
   "cell_type": "code",
   "execution_count": 3,
   "metadata": {},
   "outputs": [
    {
     "name": "stdout",
     "output_type": "stream",
     "text": [
      "id of rnn.grads[0] 4607344352\n",
      "id of rnn.grads[1] 4607344032\n",
      "id of rnn.grads[2] 4607906320\n",
      "\n",
      "h_next= [[-0.27051552  0.95542557  0.94911125  0.23734408 -0.99991545]\n",
      " [ 0.94066667 -0.99981665 -0.08333901 -0.98972713  0.99999264]\n",
      " [ 0.98323665 -0.99844006 -0.98932822  0.98917993 -0.98991407]\n",
      " [-0.91761981 -0.98493142  0.99056924 -0.99840465  0.99999908]]\n",
      "\n",
      "dx= [[-1.0759228 ]\n",
      " [-0.15347811]\n",
      " [ 0.00502181]\n",
      " [ 0.08895468]]\n",
      "\n",
      "dh_prev= [[-7.21359293e-01 -4.80841484e+00 -2.04551816e+00 -6.60240321e-01\n",
      "   1.57245028e+00]\n",
      " [-8.26766808e-01 -4.75817394e-01  4.53963919e-01 -6.24690013e-01\n",
      "   5.23285627e-01]\n",
      " [-8.72635387e-04  3.45682083e-02  2.19641737e-02  1.29540589e-02\n",
      "  -6.61903458e-02]\n",
      " [ 1.04657843e-01  3.22933735e-01  1.24694200e-01  1.09659281e-01\n",
      "  -3.98961902e-02]]\n",
      "\n",
      "id of rnn.grads[0] 4607344352\n",
      "id of rnn.grads[1] 4607344032\n",
      "id of rnn.grads[2] 4607906320\n",
      "\n"
     ]
    }
   ],
   "source": [
    "D = 1 # 入力層のノード数\n",
    "H = 5 # 中間層のノード数\n",
    "Wx = np.random.randn(D, H)\n",
    "Wh = np.random.randn(H, H)\n",
    "b = np.zeros(H)\n",
    "\n",
    "# オブジェクトの生成\n",
    "rnn = RNN(Wx, Wh, b)\n",
    "print(\"id of rnn.grads[0]\", id(rnn.grads[0]))\n",
    "print(\"id of rnn.grads[1]\", id(rnn.grads[1]))\n",
    "print(\"id of rnn.grads[2]\", id(rnn.grads[2]))\n",
    "print()\n",
    "\n",
    "# 順伝播計算\n",
    "N = 4 # バッチサイズ\n",
    "x = np.random.randn(N, D)\n",
    "h_prev = np.random.randn(N, H)\n",
    "h_next = rnn.forward(x, h_prev)\n",
    "print(\"h_next=\", h_next)\n",
    "print()\n",
    "\n",
    "# 逆伝播計算\n",
    "dh_next = np.random.randn(N, H )\n",
    "dx, dh_prev = rnn.backward(dh_next)\n",
    "print(\"dx=\", dx)\n",
    "print()\n",
    "print(\"dh_prev=\", dh_prev)\n",
    "print()\n",
    "\n",
    "print(\"id of rnn.grads[0]\", id(rnn.grads[0]))\n",
    "print(\"id of rnn.grads[1]\", id(rnn.grads[1]))\n",
    "print(\"id of rnn.grads[2]\", id(rnn.grads[2]))\n",
    "print()\n"
   ]
  },
  {
   "cell_type": "code",
   "execution_count": null,
   "metadata": {},
   "outputs": [],
   "source": []
  }
 ],
 "metadata": {
  "kernelspec": {
   "display_name": "Python 3",
   "language": "python",
   "name": "python3"
  },
  "language_info": {
   "codemirror_mode": {
    "name": "ipython",
    "version": 3
   },
   "file_extension": ".py",
   "mimetype": "text/x-python",
   "name": "python",
   "nbconvert_exporter": "python",
   "pygments_lexer": "ipython3",
   "version": "3.7.3"
  }
 },
 "nbformat": 4,
 "nbformat_minor": 2
}
