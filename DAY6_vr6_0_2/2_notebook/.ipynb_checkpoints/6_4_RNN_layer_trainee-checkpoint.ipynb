{
 "cells": [
  {
   "cell_type": "markdown",
   "metadata": {},
   "source": [
    "# RNNレイヤの実装"
   ]
  },
  {
   "cell_type": "code",
   "execution_count": null,
   "metadata": {},
   "outputs": [],
   "source": [
    "import numpy as np\n",
    "from common.functions import sigmoid"
   ]
  },
  {
   "cell_type": "markdown",
   "metadata": {},
   "source": [
    "### [演習]\n",
    "* 以下のRNNレイヤのクラスを完成させましょう"
   ]
  },
  {
   "cell_type": "code",
   "execution_count": null,
   "metadata": {
    "scrolled": true
   },
   "outputs": [],
   "source": [
    "class RNN:\n",
    "    def __init__(self, Wx, Wh, b):\n",
    "        \"\"\"\n",
    "        Wx : 入力xにかかる重み\n",
    "        Wh : １時刻前のhにかかる重み\n",
    "        b : バイアス\n",
    "        \"\"\"\n",
    "        \n",
    "        # パラメータのリスト\n",
    "        self.params = [Wx, Wh, b]\n",
    "        \n",
    "        # 勾配のリスト\n",
    "        self.grads = [np.zeros_like(Wx), np.zeros_like(Wh), np.zeros_like(b)]\n",
    "        self.cache = None\n",
    "\n",
    "    def forward(self, x, h_prev):\n",
    "        \"\"\"\n",
    "        順伝播計算\n",
    "        \"\"\"\n",
    "        Wx, Wh, b = self.params\n",
    "        \n",
    "        # 行列の積　+　行列の積 + バイアス\n",
    "        t = np.dot(      ,     ) + np.dot(     ,     ) +                        # <- 穴埋め\n",
    "        \n",
    "        # 活性化関数に入れる\n",
    "        h_next = np.tanh(    )                                                     # <- 穴埋め\n",
    "\n",
    "        # 値の一時保存\n",
    "        self.cache = (x, h_prev, h_next)\n",
    "        \n",
    "        return h_next\n",
    "\n",
    "    def backward(self, dh_next):\n",
    "        \"\"\"\n",
    "        逆伝播計算\n",
    "        \"\"\"\n",
    "        Wx, Wh, b = self.params\n",
    "        x, h_prev, h_next = self.cache\n",
    "\n",
    "        # tanhでの逆伝播                 \n",
    "        # dh_next * (1 - y^2)\n",
    "        A3 = dh_next * (     )                                                          # <- 穴埋め\n",
    "        \n",
    "        # バイアスbの勾配\n",
    "        # Nの方向に合計する\n",
    "        db = np.sum(       , axis=0)                                                 # <- 穴埋め\n",
    "        \n",
    "        # 重みWhの勾配\n",
    "        dWh = np.dot(    ,    )                                                          # <- 穴埋め\n",
    "        \n",
    "        # 1時刻前に渡す勾配\n",
    "        dh_prev = np.dot(     ,      )                                                 # <- 穴埋め\n",
    "        \n",
    "        # 重みWxの勾配\n",
    "        dWx = np.dot(    ,    )                                                          # <- 穴埋め\n",
    "        \n",
    "        # 入力xに渡す勾配\n",
    "        dx = np.dot(    ,     )                                                            # <- 穴埋め\n",
    "\n",
    "        # 勾配をまとめる\n",
    "        self.grads[0][:] = dWx # 同じメモリ位置に代入\n",
    "        self.grads[1][:] = dWh # 同じメモリ位置に代入\n",
    "        self.grads[2][:] = db # 同じメモリ位置に代入\n",
    "\n",
    "        return dx, dh_prev"
   ]
  },
  {
   "cell_type": "code",
   "execution_count": null,
   "metadata": {},
   "outputs": [],
   "source": [
    "D = 1 # 入力層のノード数\n",
    "H = 5 # 中間層のノード数\n",
    "Wx = np.random.randn(D, H)\n",
    "Wh = np.random.randn(H, H)\n",
    "b = np.zeros(H)\n",
    "\n",
    "# オブジェクトの生成\n",
    "rnn = RNN(Wx, Wh, b)\n",
    "print(\"id of rnn.grads[0]\", id(rnn.grads[0]))\n",
    "print(\"id of rnn.grads[1]\", id(rnn.grads[1]))\n",
    "print(\"id of rnn.grads[2]\", id(rnn.grads[2]))\n",
    "print()\n",
    "\n",
    "# 順伝播計算\n",
    "N = 4 # バッチサイズ\n",
    "x = np.random.randn(N, D)\n",
    "h_prev = np.random.randn(N, H)\n",
    "h_next = rnn.forward(x, h_prev)\n",
    "print(\"h_next=\", h_next)\n",
    "print()\n",
    "\n",
    "# 逆伝播計算\n",
    "dh_next = np.random.randn(N, H )\n",
    "dx, dh_prev = rnn.backward(dh_next)\n",
    "print(\"dx=\", dx)\n",
    "print()\n",
    "print(\"dh_prev=\", dh_prev)\n",
    "print()\n",
    "\n",
    "print(\"id of rnn.grads[0]\", id(rnn.grads[0]))\n",
    "print(\"id of rnn.grads[1]\", id(rnn.grads[1]))\n",
    "print(\"id of rnn.grads[2]\", id(rnn.grads[2]))\n",
    "print()\n"
   ]
  }
 ],
 "metadata": {
  "kernelspec": {
   "display_name": "Python 3",
   "language": "python",
   "name": "python3"
  },
  "language_info": {
   "codemirror_mode": {
    "name": "ipython",
    "version": 3
   },
   "file_extension": ".py",
   "mimetype": "text/x-python",
   "name": "python",
   "nbconvert_exporter": "python",
   "pygments_lexer": "ipython3",
   "version": "3.7.3"
  }
 },
 "nbformat": 4,
 "nbformat_minor": 2
}
