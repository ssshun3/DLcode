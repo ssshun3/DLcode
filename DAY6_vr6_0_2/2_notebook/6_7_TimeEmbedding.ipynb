{
 "cells": [
  {
   "cell_type": "markdown",
   "metadata": {},
   "source": [
    "# TimeEmbeddingレイヤを確認する\n",
    "TimeEmbeddingレイヤは、Embeddingレイヤを時間方向に結合していくレイヤである"
   ]
  },
  {
   "cell_type": "code",
   "execution_count": 1,
   "metadata": {},
   "outputs": [],
   "source": [
    "import numpy as np\n",
    "from common.time_layers import Embedding"
   ]
  },
  {
   "cell_type": "code",
   "execution_count": 2,
   "metadata": {},
   "outputs": [],
   "source": [
    "class TimeEmbedding:\n",
    "    def __init__(self, W):\n",
    "        \"\"\"\n",
    "        W : 重み行列, word2vecの埋め込み行列に相当する。配列形状は、(語彙数、埋め込みベクトルの要素数)\n",
    "        \"\"\"        \n",
    "        self.params = [W]\n",
    "        self.grads = [np.zeros_like(W)]\n",
    "        self.layers = None\n",
    "        self.W = W\n",
    "\n",
    "    def forward(self, xs):\n",
    "        \"\"\"\n",
    "        順伝播計算\n",
    "        xs : 入力の単語ID, 配列形状は(バッチサイズ、時間数)\n",
    "        \"\"\"\n",
    "        N, T = xs.shape # バッチサイズ、時間数\n",
    "        V, D = self.W.shape # 語彙数、埋め込みベクトルの要素数\n",
    "\n",
    "        # 初期化\n",
    "        out = np.empty((N, T, D), dtype='f')\n",
    "        self.layers = []\n",
    "\n",
    "        # 時間方向に計算を進める\n",
    "        for t in range(T):\n",
    "            \n",
    "            # Embeddigレイヤを生成し、順伝播計算を行う\n",
    "            layer = Embedding(self.W)\n",
    "            out[:, t, :] = layer.forward(xs[:, t])\n",
    "            \n",
    "            #  Embeddigレイヤを保持しておく\n",
    "            self.layers.append(layer)\n",
    "\n",
    "        return out\n",
    "\n",
    "    def backward(self, dout):\n",
    "        \"\"\"\n",
    "        逆伝播計算\n",
    "        \"\"\"\n",
    "        N, T, D = dout.shape # バッチサイズ、時間数、埋め込みベクトルの要素数\n",
    "\n",
    "        grad = 0\n",
    "        \n",
    "        # 時間方向に計算を進める(時間方向には独立しているので逆方向に進めなくてよい)\n",
    "        for t in range(T):\n",
    "            layer = self.layers[t]\n",
    "            \n",
    "            # 逆伝播計算\n",
    "            layer.backward(dout[:, t, :])\n",
    "            \n",
    "            # 勾配を足し合わせる\n",
    "            grad += layer.grads[0]\n",
    "\n",
    "        self.grads[0][:] = grad # 同じメモリ位置に代入\n",
    "\n",
    "        return None"
   ]
  },
  {
   "cell_type": "code",
   "execution_count": 3,
   "metadata": {
    "scrolled": false
   },
   "outputs": [
    {
     "name": "stdout",
     "output_type": "stream",
     "text": [
      "embed_W= [[ 4.71435164e-01 -1.19097569e+00  1.43270697e+00]\n",
      " [-3.12651896e-01 -7.20588733e-01  8.87162940e-01]\n",
      " [ 8.59588414e-01 -6.36523504e-01  1.56963721e-02]\n",
      " [-2.24268495e+00  1.15003572e+00  9.91946022e-01]\n",
      " [ 9.53324128e-01 -2.02125482e+00 -3.34077366e-01]\n",
      " [ 2.11836468e-03  4.05453412e-01  2.89091941e-01]\n",
      " [ 1.32115819e+00 -1.54690555e+00 -2.02646325e-01]\n",
      " [-6.55969344e-01  1.93421376e-01  5.53438911e-01]\n",
      " [ 1.31815155e+00 -4.69305285e-01  6.75554085e-01]\n",
      " [-1.81702723e+00 -1.83108540e-01  1.05896919e+00]]\n",
      "\n",
      "id of time_emb.grads[0] 4450778768\n",
      "\n",
      "id of time_emb.grads[0] 4450778768\n",
      "\n"
     ]
    }
   ],
   "source": [
    "np.random.seed(1234)\n",
    "\n",
    "V = 10 # 語彙数\n",
    "D = 3 # 埋め込みベクトルの要素数\n",
    "\n",
    "# パラメータの初期化\n",
    "embed_W = np.random.randn(V, D) \n",
    "print(\"embed_W=\", embed_W)\n",
    "print()\n",
    "\n",
    "# オブジェクトの生成\n",
    "time_emb = TimeEmbedding(embed_W)\n",
    "print(\"id of time_emb.grads[0]\", id(time_emb.grads[0]))\n",
    "print()\n",
    "\n",
    "# バッチサイズ\n",
    "N = 2\n",
    "\n",
    "# 時間数\n",
    "T = 4\n",
    "\n",
    "# 単語ID\n",
    "xs = np.array([[2, 5, 1, 4],[3, 2, 7, 8]])\n",
    "\n",
    "# 順伝播計算\n",
    "time_emb.forward(xs)\n",
    "\n",
    "# 逆伝播計算\n",
    "dout = np.random.randn(N, T, D)\n",
    "# print(\"dout=\", dout)\n",
    "# print()\n",
    "time_emb.backward(dout)\n",
    "# print(\"dW=\", time_emb.grads[0])\n",
    "# print()\n",
    "\n",
    "print(\"id of time_emb.grads[0]\", id(time_emb.grads[0]))\n",
    "print()"
   ]
  },
  {
   "cell_type": "code",
   "execution_count": null,
   "metadata": {},
   "outputs": [],
   "source": []
  }
 ],
 "metadata": {
  "kernelspec": {
   "display_name": "Python 3",
   "language": "python",
   "name": "python3"
  },
  "language_info": {
   "codemirror_mode": {
    "name": "ipython",
    "version": 3
   },
   "file_extension": ".py",
   "mimetype": "text/x-python",
   "name": "python",
   "nbconvert_exporter": "python",
   "pygments_lexer": "ipython3",
   "version": "3.7.3"
  }
 },
 "nbformat": 4,
 "nbformat_minor": 2
}
