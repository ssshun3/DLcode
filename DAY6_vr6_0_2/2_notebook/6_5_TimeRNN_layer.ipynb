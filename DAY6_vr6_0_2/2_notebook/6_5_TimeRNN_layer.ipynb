{
 "cells": [
  {
   "cell_type": "markdown",
   "metadata": {},
   "source": [
    "# TimeRNNレイヤを実装する\n",
    "TimeRNNレイヤは、RNNレイヤを時間方向に結合していくレイヤである"
   ]
  },
  {
   "cell_type": "code",
   "execution_count": 1,
   "metadata": {},
   "outputs": [],
   "source": [
    "import numpy as np\n",
    "from common.time_layers import RNN\n",
    "from common.functions import sigmoid"
   ]
  },
  {
   "cell_type": "markdown",
   "metadata": {},
   "source": [
    "### [演習]\n",
    "* 以下のTimeRNNレイヤのクラスを完成させましょう"
   ]
  },
  {
   "cell_type": "code",
   "execution_count": 2,
   "metadata": {},
   "outputs": [
    {
     "name": "stdout",
     "output_type": "stream",
     "text": [
      "a=1 b=2 c=3\n"
     ]
    }
   ],
   "source": [
    "# ヒント\n",
    "\n",
    "def test(a, b, c):\n",
    "    print(\"a=%s\"%a, \"b=%s\"%b, \"c=%s\"%c)\n",
    "    return\n",
    "\n",
    "params = [1,2,3]\n",
    "test(*params) # *を変数前につけると、各引数に展開される"
   ]
  },
  {
   "cell_type": "code",
   "execution_count": 3,
   "metadata": {},
   "outputs": [],
   "source": [
    "class TimeRNN:\n",
    "    def __init__(self, Wx, Wh, b, stateful=False):\n",
    "        \"\"\"\n",
    "        Wx : 入力xにかかる重み\n",
    "        Wh : １時刻前のhにかかる重み\n",
    "        b : バイアス\n",
    "        stateful : 中間層の出力を次のミニバッチ に渡す場合はTrueにする\n",
    "        \"\"\"\n",
    "        # パラメータのリスト\n",
    "        self.params = [Wx, Wh, b]\n",
    "        \n",
    "        # 勾配のリスト\n",
    "        self.grads = [np.zeros_like(Wx), np.zeros_like(Wh), np.zeros_like(b)]\n",
    "        \n",
    "        self.layers = None\n",
    "        self.h, self.dh = None, None\n",
    "        self.stateful = stateful\n",
    "\n",
    "    def forward(self, xs):\n",
    "        \"\"\"\n",
    "        順伝播計算\n",
    "        xs : 配列形状は、(バッチサイズ、時間数、前層のノード数)\n",
    "        \"\"\"\n",
    "        Wx, Wh, b = self.params\n",
    "        N, T, D = xs.shape # バッチサイズ、時間数、前層のノード数\n",
    "        D, H = Wx.shape # 入力層のノード数、中間層のノード数\n",
    "\n",
    "        self.layers = []\n",
    "        \n",
    "        # hsは、中間層の出力hを時間方向につなげたもの\n",
    "        hs = np.empty((N, T, H))\n",
    "\n",
    "        # 中間層の出力hを初期化する\n",
    "        if not self.stateful or self.h is None:\n",
    "            self.h = np.zeros((N, H))\n",
    "\n",
    "        # 時間方向に計算を進める\n",
    "        for t in range(T):\n",
    "            \n",
    "            # RNNレイヤを定義する\n",
    "            layer = RNN(*self.params) # *を変数前につけると、各引数に展開される\n",
    "            \n",
    "            # 時刻tのデータをRNNレイヤに入力する\n",
    "            self.h = layer.forward(xs[:, t, :], self.h)\n",
    "            \n",
    "            # 中間層の出力hをhsに代入する\n",
    "            hs[:, t, :] = self.h\n",
    "            \n",
    "            # レイヤを追加する\n",
    "            self.layers.append(layer)\n",
    "\n",
    "        return hs\n",
    "\n",
    "    def backward(self, dhs):\n",
    "        \"\"\"\n",
    "        逆伝播計算\n",
    "        dhs : 各時刻における出力層からの勾配を格納した変数. 配列形状は(バッチ数、時間数、中間層のノード数)\n",
    "        \"\"\"\n",
    "        \n",
    "        Wx, Wh, b = self.params\n",
    "        N, T, H = dhs.shape # バッチサイズ、時間数、中間層のノード数\n",
    "        D, H = Wx.shape # 前層のノード数、　中間層のノード数\n",
    "\n",
    "        # dxsを初期化する. dxsは、各時刻におけるdxを格納する変数\n",
    "        dxs = np.empty((N, T, D)) # バッチ数、時間数、前層のノード数\n",
    "        \n",
    "        # dhの初期値\n",
    "        dh = 0\n",
    "        \n",
    "        # 勾配の初期値\n",
    "        grads = [0, 0, 0] #Wxの勾配、 Whの勾配、 bの勾配\n",
    "        \n",
    "        # 時間方向と逆向きに計算を進める\n",
    "        for t in reversed(range(T)):\n",
    "            \n",
    "            # RNNレイヤの呼び出し\n",
    "            layer = self.layers[t]\n",
    "            \n",
    "            # RNNレイヤの逆伝播計算\n",
    "            # RNNレイヤに入力される勾配は、2方向から来るので、2つの値を足す\n",
    "            dx, dh = layer.backward(dhs[:, t, :] + dh) \n",
    "\n",
    "            # dxをdxsに格納する\n",
    "            dxs[:, t, :] = dx\n",
    "\n",
    "            # Wxの勾配、 Whの勾配、 bの勾配、をそれぞれ足し合わせる\n",
    "            for i, grad in enumerate(layer.grads):\n",
    "                grads[i] += grad\n",
    "        \n",
    "        # Wxの勾配、 Whの勾配、 bの勾配、を保持しておく\n",
    "        for i, grad in enumerate(grads):\n",
    "            self.grads[i][:] = grad # 同じメモリ位置に代入\n",
    "            \n",
    "        # 最後の中間層のdhを保持しておく\n",
    "        self.dh = dh\n",
    "\n",
    "        return dxs"
   ]
  },
  {
   "cell_type": "code",
   "execution_count": 4,
   "metadata": {
    "scrolled": false
   },
   "outputs": [
    {
     "name": "stdout",
     "output_type": "stream",
     "text": [
      "id of time_rnn.grads[0] 4518698800\n",
      "\n",
      "id of time_rnn.grads[0] 4518698800\n",
      "\n"
     ]
    }
   ],
   "source": [
    "D = 1 # 前層のノード数\n",
    "H = 5 # 中間層のノード数\n",
    "Wx = np.random.randn(D, H)\n",
    "Wh = np.random.randn(H, H)\n",
    "b = np.zeros(H)\n",
    "\n",
    "# オブジェクトの生成\n",
    "time_rnn = TimeRNN(Wx, Wh, b)\n",
    "print(\"id of time_rnn.grads[0]\", id(time_rnn.grads[0]))\n",
    "print()\n",
    "\n",
    "# 順伝播計算\n",
    "N = 4 # バッチサイズ\n",
    "T = 5 # 時間数\n",
    "xs = np.random.randn(N, T, D)\n",
    "hs = time_rnn.forward(xs)\n",
    "# print(\"hs=\", hs)\n",
    "# print()\n",
    "\n",
    "# 逆伝播計算\n",
    "dhs = np.random.randn(N, T, H)\n",
    "dxs = time_rnn.backward(dhs)\n",
    "# print(\"dxs=\", dxs)\n",
    "# print()\n",
    "\n",
    "print(\"id of time_rnn.grads[0]\", id(time_rnn.grads[0]))\n",
    "print()\n"
   ]
  }
 ],
 "metadata": {
  "kernelspec": {
   "display_name": "Python 3",
   "language": "python",
   "name": "python3"
  },
  "language_info": {
   "codemirror_mode": {
    "name": "ipython",
    "version": 3
   },
   "file_extension": ".py",
   "mimetype": "text/x-python",
   "name": "python",
   "nbconvert_exporter": "python",
   "pygments_lexer": "ipython3",
   "version": "3.7.3"
  }
 },
 "nbformat": 4,
 "nbformat_minor": 2
}
