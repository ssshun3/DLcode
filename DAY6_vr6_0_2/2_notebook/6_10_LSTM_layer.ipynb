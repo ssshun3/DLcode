{
 "cells": [
  {
   "cell_type": "markdown",
   "metadata": {},
   "source": [
    "# LSTMレイヤの実装"
   ]
  },
  {
   "cell_type": "code",
   "execution_count": 1,
   "metadata": {},
   "outputs": [],
   "source": [
    "import numpy as np\n",
    "from common.functions import sigmoid"
   ]
  },
  {
   "cell_type": "markdown",
   "metadata": {},
   "source": [
    "## [演習]\n",
    "* 以下のLSTMレイヤのクラスを完成させましょう"
   ]
  },
  {
   "cell_type": "code",
   "execution_count": 2,
   "metadata": {},
   "outputs": [],
   "source": [
    "class LSTM:\n",
    "    def __init__(self, Wx, Wh, b):\n",
    "        '''\n",
    "        Parameters\n",
    "        ----------\n",
    "        Wx: 入力x用の重みパラーメタ（4つ分の重みをまとめたもの)\n",
    "        Wh: 隠れ状態h用の重みパラメータ（4つ分の重みをまとめたもの）\n",
    "        b: バイアス（4つ分のバイアスをまとめたもの）\n",
    "        '''\n",
    "        self.params = [Wx, Wh, b]\n",
    "        self.grads = [np.zeros_like(Wx), np.zeros_like(Wh), np.zeros_like(b)]\n",
    "        self.cache = None\n",
    "\n",
    "    def forward(self, x, h_prev, c_prev):\n",
    "        \"\"\"\n",
    "        順伝播計算\n",
    "        \"\"\"        \n",
    "        Wx, Wh, b = self.params\n",
    "        N, H = h_prev.shape\n",
    "\n",
    "        A = np.dot(x, Wx) + np.dot(h_prev, Wh) + b\n",
    "\n",
    "        f = A[:, :H]\n",
    "        g = A[:, H:2*H]\n",
    "        i = A[:, 2*H:3*H]\n",
    "        o = A[:, 3*H:]\n",
    "\n",
    "        f = sigmoid(f)\n",
    "        g = np.tanh(g)\n",
    "        i = sigmoid(i)\n",
    "        o = sigmoid(o)\n",
    "    \n",
    "#         print(f.shape, c_prev.shape, g.shape, i.shape)\n",
    "        c_next = f * c_prev + g * i\n",
    "        tanh_c_next = np.tanh(c_next)\n",
    "        h_next = o * tanh_c_next\n",
    "\n",
    "        self.cache = (x, h_prev, c_prev, i, f, g, o, tanh_c_next)\n",
    "        return h_next, c_next\n",
    "\n",
    "    def backward(self, dh_next, dc_next):\n",
    "        \"\"\"\n",
    "        逆伝播計算\n",
    "        \"\"\"        \n",
    "        Wx, Wh, b = self.params\n",
    "        x, h_prev, c_prev, i, f, g, o, tanh_c_next = self.cache\n",
    "\n",
    "        A2 = (dh_next * o) * (1 - tanh_c_next ** 2)\n",
    "        ds = dc_next + A2\n",
    "\n",
    "        dc_prev = ds * f\n",
    "\n",
    "        di = ds * g\n",
    "        df = ds * c_prev\n",
    "        do = dh_next * tanh_c_next\n",
    "        dg = ds * i\n",
    "\n",
    "        di *= i * (1 - i)\n",
    "        df *= f * (1 - f)\n",
    "        do *= o * (1 - o)\n",
    "        dg *= (1 - g ** 2)\n",
    "\n",
    "        dA = np.hstack((df, dg, di, do))\n",
    "\n",
    "        dWh = np.dot(h_prev.T, dA)\n",
    "        dWx = np.dot(x.T, dA)\n",
    "        db = dA.sum(axis=0)\n",
    "\n",
    "        self.grads[0][:] = dWx # 同じメモリ位置に代入\n",
    "        self.grads[1][:] = dWh # 同じメモリ位置に代入\n",
    "        self.grads[2][:] = db # 同じメモリ位置に代入\n",
    "\n",
    "        dx = np.dot(dA, Wx.T)\n",
    "        dh_prev = np.dot(dA, Wh.T)\n",
    "\n",
    "        return dx, dh_prev, dc_prev"
   ]
  },
  {
   "cell_type": "code",
   "execution_count": 3,
   "metadata": {},
   "outputs": [
    {
     "name": "stdout",
     "output_type": "stream",
     "text": [
      "h_next= (array([[-0.01462164,  0.15747051, -0.23451682,  0.16172295,  0.00698562],\n",
      "       [-0.06765944,  0.05940122, -0.57548391, -0.0059455 ,  0.26608388],\n",
      "       [ 0.2789457 ,  0.03989757, -0.00987033,  0.43144194, -0.11382142],\n",
      "       [-0.02241018,  0.38008636,  0.13461589, -0.09305646, -0.14219587]]), array([[-0.1890034 ,  0.600126  , -0.7426156 ,  0.21761631,  0.55340511],\n",
      "       [-0.151529  ,  0.11582031, -0.70261815, -0.32857792,  0.76302686],\n",
      "       [ 0.77460575,  0.38477601, -0.06873564,  0.4821287 , -0.292996  ],\n",
      "       [-0.15699172,  0.5356573 ,  0.61318702, -0.1131335 , -0.19171134]]))\n",
      "\n",
      "dx= [[-0.15771752  0.03091387  0.0333189  -0.06280273 -0.01098687 -0.02298026\n",
      "   0.1504126  -0.11830679 -0.00556428 -0.03061085]\n",
      " [-0.14379227 -0.07935175  0.03498913 -0.17324262  0.00565815  0.02964852\n",
      "   0.08539494 -0.08853837 -0.03999127 -0.0479425 ]\n",
      " [ 0.34977695  0.53057329  0.37713214  0.18460172  0.39459071 -0.03732535\n",
      "  -0.06595563  0.19999486  0.21331299 -0.08634529]\n",
      " [-0.60731354 -0.31723418  0.34491751  0.09379683  0.02648535  0.0445699\n",
      "   0.32756452 -0.20755343  0.03520427  0.31507672]]\n",
      "\n",
      "dh_prev= [[-0.01398179 -0.03494109  0.12815437 -0.21236132  0.12110998]\n",
      " [ 0.01760327 -0.06697395 -0.20993149 -0.10173809  0.09429106]\n",
      " [ 0.00421976 -0.67356465 -0.2251927   0.54326662 -0.29740359]\n",
      " [ 0.19406037 -0.17657686  0.07875027 -0.26279589 -0.27533668]]\n",
      "\n"
     ]
    }
   ],
   "source": [
    "D = 10 # 入力データの次元\n",
    "H = 5 # 中間層のノード数\n",
    "\n",
    "Wx = (np.random.randn(D, 4 * H) / np.sqrt(D))\n",
    "Wh = (np.random.randn(H, 4 * H) / np.sqrt(H))\n",
    "b = np.zeros(4 * H)\n",
    "\n",
    "# オブジェクトの生成\n",
    "lstm = LSTM(Wx, Wh, b)\n",
    "\n",
    "# 順伝播計算\n",
    "N = 4 # バッチサイズ\n",
    "x = np.random.randn(N, D)\n",
    "h_prev = np.random.randn(N, H)\n",
    "c_prev = np.zeros((N, H))\n",
    "h_next = lstm.forward(x, h_prev, c_prev)\n",
    "print(\"h_next=\", h_next)\n",
    "print()\n",
    "\n",
    "# 逆伝播計算\n",
    "dh_next = np.random.randn(N, H)\n",
    "dc_next = np.random.randn(N, H)\n",
    "dx, dh_prev, dc_prev = lstm.backward(dh_next, dc_next)\n",
    "print(\"dx=\", dx)\n",
    "print()\n",
    "print(\"dh_prev=\", dh_prev)\n",
    "print()\n"
   ]
  }
 ],
 "metadata": {
  "kernelspec": {
   "display_name": "Python 3",
   "language": "python",
   "name": "python3"
  },
  "language_info": {
   "codemirror_mode": {
    "name": "ipython",
    "version": 3
   },
   "file_extension": ".py",
   "mimetype": "text/x-python",
   "name": "python",
   "nbconvert_exporter": "python",
   "pygments_lexer": "ipython3",
   "version": "3.7.3"
  }
 },
 "nbformat": 4,
 "nbformat_minor": 2
}
