{
 "cells": [
  {
   "cell_type": "markdown",
   "metadata": {},
   "source": [
    "# アフィンレイヤの実装"
   ]
  },
  {
   "cell_type": "code",
   "execution_count": 1,
   "metadata": {},
   "outputs": [],
   "source": [
    "import numpy as np"
   ]
  },
  {
   "cell_type": "markdown",
   "metadata": {},
   "source": [
    "## アフィンレイヤの実装"
   ]
  },
  {
   "cell_type": "markdown",
   "metadata": {},
   "source": [
    "### [演習]\n",
    "* 以下のAffineレイヤクラスを完成させましょう"
   ]
  },
  {
   "cell_type": "code",
   "execution_count": 2,
   "metadata": {},
   "outputs": [],
   "source": [
    "class Affine:\n",
    "    def __init__(self, W, b):\n",
    "        self.W =W\n",
    "        self.b = b\n",
    "        \n",
    "        # 初期値\n",
    "        self.x = None\n",
    "        self.dW = None # 重みの微分\n",
    "        self.db = None # バイアスの微分\n",
    "\n",
    "    def forward(self, x):\n",
    "        \"\"\"\n",
    "        順伝播\n",
    "        \"\"\"\n",
    "        # 値の保持\n",
    "        self.x = x\n",
    "\n",
    "        # 順伝播\n",
    "        out = np.dot(self.x, self.W) + self.b\n",
    "\n",
    "        return out\n",
    "\n",
    "    def backward(self, dout):\n",
    "        \"\"\"\n",
    "        逆伝播\n",
    "        dout : float, 上流(出力)側の勾配\n",
    "        \"\"\"\n",
    "        # dxは前の層に伝える必要がある\n",
    "        dx = np.dot(dout, self.W.T)\n",
    "        \n",
    "        # dWとdbは、勾配法の計算に使われるので、値を保持しておく\n",
    "        self.dW = np.dot(self.x.T, dout)\n",
    "        self.db = np.sum(dout, axis=0) # N個の合計になる\n",
    "        \n",
    "        return dx"
   ]
  },
  {
   "cell_type": "code",
   "execution_count": 3,
   "metadata": {},
   "outputs": [
    {
     "name": "stdout",
     "output_type": "stream",
     "text": [
      "forward= [[10 14 18]]\n",
      "dLdx= [[14 32]]\n"
     ]
    }
   ],
   "source": [
    "# 行列入力\n",
    "x = np.array([[1,2]])\n",
    "\n",
    "W = np.array([[1,2,3],\n",
    "                         [4,5,6]])\n",
    "b = np.array([[1, 2, 3]])\n",
    "\n",
    "# 順伝播\n",
    "affine = Affine(W, b)\n",
    "out = affine.forward(x)\n",
    "print(\"forward=\", out)\n",
    "\n",
    "# 逆伝播\n",
    "dout = np.array([[1, 2, 3]])\n",
    "dLdx = affine.backward(dout)\n",
    "print(\"dLdx=\", dLdx)"
   ]
  }
 ],
 "metadata": {
  "kernelspec": {
   "display_name": "Python 3",
   "language": "python",
   "name": "python3"
  },
  "language_info": {
   "codemirror_mode": {
    "name": "ipython",
    "version": 3
   },
   "file_extension": ".py",
   "mimetype": "text/x-python",
   "name": "python",
   "nbconvert_exporter": "python",
   "pygments_lexer": "ipython3",
   "version": "3.7.3"
  }
 },
 "nbformat": 4,
 "nbformat_minor": 2
}
