{
 "cells": [
  {
   "cell_type": "markdown",
   "metadata": {},
   "source": [
    "# 2層ニューラルネットワーククラスの実装\n",
    "* 2_7_simple_NeuralNetwork_trainee.ipynbでは、非常にシンプルなニューラルネットワークを実装した。\n",
    "* ここでは、2層ニューラルネットワークのクラスを実装する。\n",
    "* 2層ニューラルネットワークなので、推定するパラメータとして、W1, W2, b1, b2を定義する"
   ]
  },
  {
   "cell_type": "code",
   "execution_count": null,
   "metadata": {},
   "outputs": [],
   "source": [
    "import numpy as np\n",
    "import pandas as pd\n",
    "import matplotlib.pyplot as plt\n",
    "from common.activations import softmax, sigmoid\n",
    "from common.grad import numerical_gradient\n",
    "from common.loss import cross_entropy_error"
   ]
  },
  {
   "cell_type": "markdown",
   "metadata": {},
   "source": [
    "## 2層ニューラルネットワーククラスの実装"
   ]
  },
  {
   "cell_type": "markdown",
   "metadata": {},
   "source": [
    "### [演習]\n",
    "* 2層ニューラルネットワークにおいて、予測、損失、勾配を計算する以下のクラスを完成させましょう"
   ]
  },
  {
   "cell_type": "code",
   "execution_count": null,
   "metadata": {},
   "outputs": [],
   "source": [
    "import numpy as np\n",
    "\n",
    "class TwoLayerNet():\n",
    "    def __init__(self, input_size, hidden_size, output_size):\n",
    "        \n",
    "        # 重みの初期化\n",
    "        self.params = {}\n",
    "        init_std=0.01\n",
    "        np.random.seed(1234)\n",
    "        self.params[\"W1\"] = init_std * np.random.randn(input_size, hidden_size)\n",
    "        self.params[\"b1\"] = np.zeros(hidden_size)\n",
    "        self.params[\"W2\"] = init_std * np.random.randn(hidden_size, output_size)\n",
    "        self.params[\"b2\"] = np.zeros(output_size)\n",
    "                \n",
    "    def predict(self, x):\n",
    "        \"\"\"\n",
    "        予測関数\n",
    "        x : 入力データ\n",
    "        \"\"\"\n",
    "        W1, W2 = self.params[\"W1\"], self.params[\"W2\"]\n",
    "        b1, b2 = self.params[\"b1\"], self.params[\"b2\"]\n",
    "        \n",
    "        h1 = np.dot(       ,        ) + \n",
    "        z1 = sigmoid(    )\n",
    "        h2 = np.dot(    ,    ) + \n",
    "        y = softmax(     )\n",
    "        return y\n",
    "    \n",
    "    def loss(self, x, t):\n",
    "        \"\"\"\n",
    "        損失関数\n",
    "        x : 入力データ\n",
    "        t : 正解データ\n",
    "        \"\"\"\n",
    "        y = self.predict(    )\n",
    "        loss = cross_entropy_error(   ,   )\n",
    "        return loss\n",
    "    \n",
    "    def gradient(self, x, t):\n",
    "        \"\"\"\n",
    "        勾配計算関数\n",
    "        \"\"\"\n",
    "        grads={}\n",
    "        f = self.loss\n",
    "        grads[\"W1\"] = numerical_gradient(f, x, self.params[\"W1\"], t)\n",
    "        grads[\"b1\"] = numerical_gradient(f, x, self.params[\"b1\"], t)\n",
    "        grads[\"W2\"] = numerical_gradient(f, x, self.params[\"W2\"], t)\n",
    "        grads[\"b2\"] = numerical_gradient(f, x, self.params[\"b2\"], t)\n",
    "        return grads"
   ]
  },
  {
   "cell_type": "code",
   "execution_count": null,
   "metadata": {},
   "outputs": [],
   "source": [
    "# 重み初期値の確認\n",
    "tnet = TwoLayerNet(input_size=5, hidden_size=4, output_size=3)\n",
    "print(tnet.params[\"W1\"])\n",
    "print(tnet.params[\"b1\"])\n",
    "print(tnet.params[\"W2\"])\n",
    "print(tnet.params[\"b2\"])\n",
    "print()\n",
    "print(\"行列の形状の確認\")\n",
    "print(tnet.params[\"W1\"].shape)\n",
    "print(tnet.params[\"b1\"].shape)\n",
    "print(tnet.params[\"W2\"].shape)\n",
    "print(tnet.params[\"b2\"].shape)"
   ]
  },
  {
   "cell_type": "markdown",
   "metadata": {},
   "source": [
    "### N=1のxを入力した時の勾配計算"
   ]
  },
  {
   "cell_type": "code",
   "execution_count": null,
   "metadata": {},
   "outputs": [],
   "source": [
    "x = np.array([1,2,3,4,5])\n",
    "t = np.array([0, 0, 1])\n",
    "\n",
    "# 勾配を計算する\n",
    "grads = tnet.gradient(x, t)\n",
    "print(\"勾配\")\n",
    "for key, value in grads.items():\n",
    "    print(key,\"=\")\n",
    "    print(value)\n",
    "    print()\n",
    "\n",
    "print()\n",
    "print(\"勾配行列の形状\")\n",
    "for key, value in grads.items():\n",
    "    print(key,\"=\", value.shape)"
   ]
  },
  {
   "cell_type": "markdown",
   "metadata": {},
   "source": [
    "### N=1のxを入力した時の予測"
   ]
  },
  {
   "cell_type": "code",
   "execution_count": null,
   "metadata": {},
   "outputs": [],
   "source": [
    "x = np.array([1,2,3,4,5])\n",
    "t = np.array([0, 0, 1])\n",
    "p = tnet.predict(x)\n",
    "print(\"p=\", p)\n",
    "print(\"pの合計=\", p.sum())\n",
    "print()"
   ]
  },
  {
   "cell_type": "markdown",
   "metadata": {},
   "source": [
    "### N=2のxを入力した時の予測"
   ]
  },
  {
   "cell_type": "code",
   "execution_count": null,
   "metadata": {},
   "outputs": [],
   "source": [
    "x = np.array([[1,2,3,4,5],\n",
    "                        [1,2,3,4,5]])\n",
    "t = np.array([[0, 0, 1],\n",
    "                       [0, 0, 1]])\n",
    "p = tnet.predict(x)\n",
    "print(\"p=\", p)\n",
    "print(\"pの合計=\", p.sum(axis=1))"
   ]
  },
  {
   "cell_type": "markdown",
   "metadata": {},
   "source": [
    "### N=3のxを入力した時の予測"
   ]
  },
  {
   "cell_type": "code",
   "execution_count": null,
   "metadata": {},
   "outputs": [],
   "source": [
    "x = np.array([[1,2,3,4,5],\n",
    "                        [1,2,3,4,5],\n",
    "                        [1,2,3,4,5]])\n",
    "t = np.array([[0, 0, 1],\n",
    "                        [0, 0, 1],\n",
    "                        [0, 0, 1]])\n",
    "p = tnet.predict(x)\n",
    "print(\"p=\", p)\n",
    "print(\"pの合計=\", p.sum(axis=1))"
   ]
  }
 ],
 "metadata": {
  "kernelspec": {
   "display_name": "Python 3",
   "language": "python",
   "name": "python3"
  },
  "language_info": {
   "codemirror_mode": {
    "name": "ipython",
    "version": 3
   },
   "file_extension": ".py",
   "mimetype": "text/x-python",
   "name": "python",
   "nbconvert_exporter": "python",
   "pygments_lexer": "ipython3",
   "version": "3.7.3"
  }
 },
 "nbformat": 4,
 "nbformat_minor": 2
}
