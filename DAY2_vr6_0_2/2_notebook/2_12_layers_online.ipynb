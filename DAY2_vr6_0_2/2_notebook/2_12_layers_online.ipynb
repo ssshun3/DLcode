{
 "cells": [
  {
   "cell_type": "markdown",
   "metadata": {},
   "source": [
    "# 各種レイヤの実装\n",
    "* ここでは、各種レイヤを実装する。\n",
    "* 実装できたら1データを入力して妥当な結果が出力されることを確認する。"
   ]
  },
  {
   "cell_type": "code",
   "execution_count": 1,
   "metadata": {},
   "outputs": [],
   "source": [
    "import numpy as np"
   ]
  },
  {
   "cell_type": "markdown",
   "metadata": {},
   "source": [
    "## 加算レイヤの実装"
   ]
  },
  {
   "cell_type": "markdown",
   "metadata": {},
   "source": [
    "### [演習]\n",
    "* 以下の加算レイヤクラスを完成させましょう"
   ]
  },
  {
   "cell_type": "code",
   "execution_count": 2,
   "metadata": {},
   "outputs": [],
   "source": [
    "class AddLayer:\n",
    "    def __init__(self):\n",
    "        pass # 何もしない\n",
    "        \n",
    "    def forward(self, x, y):\n",
    "        return x + y\n",
    "    \n",
    "    def backward(self, dout):\n",
    "        \"\"\"\n",
    "        dout : float, 上流(出力)側の勾配\n",
    "        \"\"\"\n",
    "        dLdx = dout\n",
    "        dLdy = dout\n",
    "        return dLdx, dLdy"
   ]
  },
  {
   "cell_type": "code",
   "execution_count": 3,
   "metadata": {},
   "outputs": [
    {
     "name": "stdout",
     "output_type": "stream",
     "text": [
      "forward= [3]\n",
      "dLdx= [5]\n",
      "dLdy= [5]\n"
     ]
    }
   ],
   "source": [
    "al = AddLayer()\n",
    "x = np.array([1])\n",
    "y = np.array([2])\n",
    "dout = np.array([5])\n",
    "print(\"forward=\", al.forward(x, y))\n",
    "dLdx , dLdy = al.backward(dout)\n",
    "print(\"dLdx=\", dLdx)\n",
    "print(\"dLdy=\", dLdy)"
   ]
  },
  {
   "cell_type": "markdown",
   "metadata": {},
   "source": [
    "## 乗算レイヤの実装"
   ]
  },
  {
   "cell_type": "markdown",
   "metadata": {},
   "source": [
    "### [演習]\n",
    "* 以下の乗算レイヤクラスを完成させましょう"
   ]
  },
  {
   "cell_type": "code",
   "execution_count": 4,
   "metadata": {},
   "outputs": [],
   "source": [
    "class MultiLayer:\n",
    "    def __init__(self):\n",
    "        self.x = None\n",
    "        self.y = None\n",
    "        \n",
    "    def forward(self, x, y):\n",
    "        self.x = x #記憶しておく\n",
    "        self.y = y #記憶しておく\n",
    "        return x * y\n",
    "    \n",
    "    def backward(self, dout):\n",
    "        \"\"\"\n",
    "        dout : float, 上流(出力)側の勾配\n",
    "        \"\"\"        \n",
    "        dLdx = dout * self.y\n",
    "        dLdy = dout * self.x\n",
    "        return dLdx, dLdy"
   ]
  },
  {
   "cell_type": "code",
   "execution_count": 5,
   "metadata": {},
   "outputs": [
    {
     "name": "stdout",
     "output_type": "stream",
     "text": [
      "forward= [2]\n",
      "dLdx= [10]\n",
      "dLdy= [5]\n"
     ]
    }
   ],
   "source": [
    "ml = MultiLayer()\n",
    "x = np.array([1])\n",
    "y = np.array([2])\n",
    "dout = np.array([5])\n",
    "print(\"forward=\", ml.forward(x, y))\n",
    "dLdx , dLdy = ml.backward(dout)\n",
    "print(\"dLdx=\", dLdx)\n",
    "print(\"dLdy=\", dLdy)"
   ]
  },
  {
   "cell_type": "markdown",
   "metadata": {},
   "source": [
    "## ReLUレイヤの実装"
   ]
  },
  {
   "cell_type": "markdown",
   "metadata": {},
   "source": [
    "### [演習]\n",
    "* 以下のReLUレイヤクラスを完成させましょう"
   ]
  },
  {
   "cell_type": "code",
   "execution_count": 6,
   "metadata": {},
   "outputs": [
    {
     "name": "stdout",
     "output_type": "stream",
     "text": [
      "[[ True False]\n",
      " [ True False]]\n",
      "\n",
      "id of x= 4351080848\n",
      "id of y= 4351080848\n",
      "id of z= 4351081088\n",
      "\n",
      "[[0 1]\n",
      " [0 2]]\n",
      "[[-1  1]\n",
      " [ 0  2]]\n",
      "\n",
      "[[0 1]\n",
      " [0 2]]\n",
      "[[0 1]\n",
      " [0 2]]\n",
      "\n"
     ]
    }
   ],
   "source": [
    "# ヒント\n",
    "x = np.array([[-1, 1],\n",
    "              [ 0, 2]])\n",
    "mask = (x <= 0)\n",
    "print(mask)\n",
    "print()\n",
    "\n",
    "y = x\n",
    "z = x.copy()\n",
    "print(\"id of x=\", id(x))\n",
    "print(\"id of y=\", id(y))\n",
    "print(\"id of z=\", id(z))\n",
    "print()\n",
    "\n",
    "z[mask] = 0\n",
    "print(z)\n",
    "print(x)\n",
    "print()\n",
    "\n",
    "y[mask] = 0\n",
    "print(y)\n",
    "print(x)\n",
    "print()"
   ]
  },
  {
   "cell_type": "code",
   "execution_count": 7,
   "metadata": {},
   "outputs": [],
   "source": [
    "class ReLU:\n",
    "    def __init__(self):\n",
    "        self.mask = None\n",
    "        \n",
    "    def forward(self, x):\n",
    "        self.mask = (x <= 0)\n",
    "        out = x.copy() #参照渡しではなく複製する\n",
    "        out[self.mask] = 0\n",
    "        return out\n",
    "    \n",
    "    def backward(self, dout):\n",
    "        \"\"\"\n",
    "        dout : float, 上流(出力)側の勾配\n",
    "        \"\"\"        \n",
    "        dout[self.mask] = 0\n",
    "        dLdx = dout\n",
    "        return dLdx"
   ]
  },
  {
   "cell_type": "code",
   "execution_count": 8,
   "metadata": {},
   "outputs": [
    {
     "name": "stdout",
     "output_type": "stream",
     "text": [
      "forward= [0]\n",
      "dLdx= [0]\n",
      "\n",
      "forward= [0]\n",
      "dLdx= [0]\n",
      "\n",
      "forward= [1]\n",
      "dLdx= [3]\n"
     ]
    }
   ],
   "source": [
    "rl = ReLU()\n",
    "\n",
    "x = np.array([-1])\n",
    "dout = np.array([3])\n",
    "print(\"forward=\", rl.forward(x))\n",
    "dLdx = rl.backward(dout)\n",
    "print(\"dLdx=\", dLdx)\n",
    "print()\n",
    "\n",
    "x = np.array([0])\n",
    "dout = np.array([3])\n",
    "print(\"forward=\", rl.forward(x))\n",
    "dLdx = rl.backward(dout)\n",
    "print(\"dLdx=\", dLdx)\n",
    "print()\n",
    "\n",
    "x = np.array([1])\n",
    "dout = np.array([3])\n",
    "print(\"forward=\", rl.forward(x))\n",
    "dLdx = rl.backward(dout)\n",
    "print(\"dLdx=\", dLdx)"
   ]
  },
  {
   "cell_type": "markdown",
   "metadata": {},
   "source": [
    "## Sigmoidレイヤの実装"
   ]
  },
  {
   "cell_type": "markdown",
   "metadata": {},
   "source": [
    "### [演習]\n",
    "* 以下のSigmoidレイヤクラスを完成させましょう"
   ]
  },
  {
   "cell_type": "code",
   "execution_count": 9,
   "metadata": {},
   "outputs": [],
   "source": [
    "class Sigmoid:\n",
    "    def __init__(self):\n",
    "        self.out = None\n",
    "        \n",
    "    def forward(self, x):\n",
    "        out = 1 / (1 + np.exp(-x))\n",
    "        self.out = out # 記憶しておく\n",
    "        return out\n",
    "    \n",
    "    def backward(self, dout):\n",
    "        \"\"\"\n",
    "        dout : float, 上流(出力)側の勾配\n",
    "        \"\"\"        \n",
    "        dLdx = dout * self.out * (1 - self.out)\n",
    "        return dLdx"
   ]
  },
  {
   "cell_type": "code",
   "execution_count": 10,
   "metadata": {},
   "outputs": [
    {
     "name": "stdout",
     "output_type": "stream",
     "text": [
      "forward= [4.53978687e-05]\n",
      "dLdx= [0.00013619]\n",
      "\n",
      "forward= [0.5]\n",
      "dLdx= [0.75]\n",
      "\n",
      "forward= [0.9999546]\n",
      "dLdx= [0.00013619]\n"
     ]
    }
   ],
   "source": [
    "sm = Sigmoid()\n",
    "\n",
    "x = np.array([-10])\n",
    "dout = np.array([3])\n",
    "print(\"forward=\", sm.forward(x))\n",
    "dLdx = sm.backward(dout)\n",
    "print(\"dLdx=\", dLdx)\n",
    "print()\n",
    "\n",
    "x = np.array([0])\n",
    "dout = np.array([3])\n",
    "print(\"forward=\", sm.forward(x))\n",
    "dLdx = sm.backward(dout)\n",
    "print(\"dLdx=\", dLdx)\n",
    "print()\n",
    "\n",
    "x = np.array([10])\n",
    "dout = np.array([3])\n",
    "print(\"forward=\", sm.forward(x))\n",
    "dLdx = sm.backward(dout)\n",
    "print(\"dLdx=\", dLdx)"
   ]
  },
  {
   "cell_type": "code",
   "execution_count": null,
   "metadata": {},
   "outputs": [],
   "source": []
  }
 ],
 "metadata": {
  "kernelspec": {
   "display_name": "Python 3",
   "language": "python",
   "name": "python3"
  },
  "language_info": {
   "codemirror_mode": {
    "name": "ipython",
    "version": 3
   },
   "file_extension": ".py",
   "mimetype": "text/x-python",
   "name": "python",
   "nbconvert_exporter": "python",
   "pygments_lexer": "ipython3",
   "version": "3.7.3"
  }
 },
 "nbformat": 4,
 "nbformat_minor": 2
}
