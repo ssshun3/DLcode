{
 "cells": [
  {
   "cell_type": "markdown",
   "metadata": {},
   "source": [
    "# 数値微分の実装"
   ]
  },
  {
   "cell_type": "code",
   "execution_count": null,
   "metadata": {
    "ExecuteTime": {
     "end_time": "2018-04-05T23:43:23.887974Z",
     "start_time": "2018-04-05T23:43:23.324254Z"
    },
    "scrolled": true
   },
   "outputs": [],
   "source": [
    "import numpy as np\n",
    "import matplotlib.pyplot as plt"
   ]
  },
  {
   "cell_type": "markdown",
   "metadata": {},
   "source": [
    "## 数値微分の実装"
   ]
  },
  {
   "cell_type": "markdown",
   "metadata": {
    "ExecuteTime": {
     "end_time": "2018-04-04T12:18:29.351187Z",
     "start_time": "2018-04-04T12:18:29.338738Z"
    }
   },
   "source": [
    "### [演習]\n",
    "* 数値微分を行う以下の関数を完成させましょう。\n",
    "* 対象の関数は$y=x^3+10x^2$とします。この関数の導関数は$dy/dx=3x^2+20x$です。\n",
    "* 微小範囲を定義するhには、小さな正の値を設定してください。\n",
    "* 関数が完成したら、hをいろいろ変えて、結果がどうかわるか確認してみてください。"
   ]
  },
  {
   "cell_type": "code",
   "execution_count": null,
   "metadata": {
    "ExecuteTime": {
     "end_time": "2018-04-05T23:43:23.916111Z",
     "start_time": "2018-04-05T23:43:23.890308Z"
    }
   },
   "outputs": [],
   "source": [
    "def numerical_diff(f, x):\n",
    "    \"\"\"\n",
    "    数値微分を行う関数\n",
    "    \"\"\"\n",
    "    h = \n",
    "    return \n",
    "\n",
    "def fx(x):\n",
    "    return x**3+10*x**2\n",
    "\n",
    "def graph(a, b, li_x):\n",
    "    y = a*li_x + b\n",
    "    plt.plot(li_x, fx(li_x))\n",
    "    plt.plot(li_x, y)\n",
    "    plt.show()\n",
    "\n",
    "    \n",
    "li_x = np.arange(-2,10,0.1)\n",
    "\n",
    "# x=1の場合\n",
    "x = 1\n",
    "a = numerical_diff(fx, x) #微分値\n",
    "b = fx(x) - a*x\n",
    "print(\"a=%s\"%a, \"b=%s\"%b)\n",
    "graph(a, b, li_x)\n",
    "\n",
    "# x=6の場合\n",
    "x = 6\n",
    "a = numerical_diff(fx, x) #微分値\n",
    "b = fx(x) - a*x\n",
    "print(\"a=%s\"%a, \"b=%s\"%b)\n",
    "graph(a, b, li_x)\n"
   ]
  },
  {
   "cell_type": "markdown",
   "metadata": {
    "collapsed": true
   },
   "source": [
    "### [問]\n",
    "* hは、どれくらいが適切でしょうか？大きすぎても小さすぎても誤差が大きくなります。"
   ]
  },
  {
   "cell_type": "code",
   "execution_count": null,
   "metadata": {
    "ExecuteTime": {
     "end_time": "2018-04-05T23:43:23.917338Z",
     "start_time": "2018-04-05T23:43:23.328Z"
    }
   },
   "outputs": [],
   "source": [
    "# ヒント\n",
    "# 64bitで扱える桁数の確認\n",
    "print(1e-5)\n",
    "print(1e-10)\n",
    "print(1e-100)\n",
    "print(1e-500)\n",
    "print(1e-5*1e5)\n",
    "print(1e-10*1e10)\n",
    "print(1e-100*1e100)\n",
    "print(1e-500*1e100)"
   ]
  },
  {
   "cell_type": "markdown",
   "metadata": {
    "collapsed": true
   },
   "source": [
    "## 微分値の意味\n",
    "微分値の正負は、ある場所から少し動いた時に関数の値が大きくなる方向を表す。  \n",
    "微分値の値は、その方向に微小距離移動したときに、関数の値が大きくなる程度を意味する。  \n",
    "例えば、$f(x)=x^3+10x^2$の$x=1$における微分値は23であるが、関数の値が大きくなるのはx軸の正の方向であり、x軸の正の方向に微小距離$\\Delta$だけ移動したら関数の値が約23$\\Delta$大きくなるという意味になる。また同様に、$f(x)=x^3+10x^2$の$x=-1$における微分値は-17であるが、関数の値が大きくなるのはx軸の負の方向であり、x軸の負の方向に微小距離$\\Delta$だけ移動したら関数の値が約17$\\Delta$大きくなるという意味になる。"
   ]
  },
  {
   "cell_type": "markdown",
   "metadata": {
    "collapsed": true
   },
   "source": [
    "### $f(x)=x^3+10x^2$の微分値の確認"
   ]
  },
  {
   "cell_type": "code",
   "execution_count": null,
   "metadata": {},
   "outputs": [],
   "source": [
    "def add_vec(f, x):\n",
    "    # 矢印（ベクトル）の始点\n",
    "    X = x\n",
    "    Y = f(x)\n",
    "\n",
    "    # 矢印（ベクトル）の成分\n",
    "    diff = numerical_diff(f, x)\n",
    "    U = 1 if diff  >=0  else -1\n",
    "    V = np.abs(diff)\n",
    "\n",
    "    # 矢印（ベクトル）の描画\n",
    "    plt.quiver(X,Y,U,V,angles='xy',scale_units='xy',scale=1)\n",
    "\n",
    "    \n",
    "x_ = np.arange(-5,5,0.25)\n",
    "y_ = fx(x_)\n",
    "\n",
    "for i in range(-4, 5, 1):\n",
    "    add_vec(f=fx, x=i)\n",
    "\n",
    "plt.plot(x_, y_)\n",
    "plt.xlabel(\"x\")\n",
    "plt.ylabel(\"y\")\n",
    "plt.show()"
   ]
  },
  {
   "cell_type": "code",
   "execution_count": null,
   "metadata": {},
   "outputs": [],
   "source": []
  }
 ],
 "metadata": {
  "kernelspec": {
   "display_name": "Python 3",
   "language": "python",
   "name": "python3"
  },
  "language_info": {
   "codemirror_mode": {
    "name": "ipython",
    "version": 3
   },
   "file_extension": ".py",
   "mimetype": "text/x-python",
   "name": "python",
   "nbconvert_exporter": "python",
   "pygments_lexer": "ipython3",
   "version": "3.7.3"
  }
 },
 "nbformat": 4,
 "nbformat_minor": 2
}
