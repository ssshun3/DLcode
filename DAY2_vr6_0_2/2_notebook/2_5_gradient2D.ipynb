{
 "cells": [
  {
   "cell_type": "markdown",
   "metadata": {},
   "source": [
    "# 勾配を求める関数を2次元に拡張し、目的関数をニューラルネットワークの損失関数にする\n",
    "* 2_4_gradient_trainee.ipynbでは、1次元配列(ベクトル)が入力された場合に勾配を算出する関数を実装した。  \n",
    "* ここでは、2次元配列(行列)が入力された場合に勾配を算出する関数を実装する。\n",
    "* 目的関数が、ニューラルネットワークの損失関数になっていることに注意。"
   ]
  },
  {
   "cell_type": "code",
   "execution_count": 1,
   "metadata": {},
   "outputs": [],
   "source": [
    "import numpy as np\n",
    "from common.activations import softmax\n",
    "from common.loss import mean_squared_error"
   ]
  },
  {
   "cell_type": "markdown",
   "metadata": {},
   "source": [
    "### [演習]\n",
    "* 勾配を求める以下の関数を完成させましょう。\n",
    "* Wは2次元配列になっています。"
   ]
  },
  {
   "cell_type": "code",
   "execution_count": 2,
   "metadata": {},
   "outputs": [
    {
     "name": "stdout",
     "output_type": "stream",
     "text": [
      "W= [[ 0.3    1.334 -0.048]\n",
      " [ 1.513 -0.545 -0.814]]\n",
      "\n",
      "r=0 c=0 W[0,0]=0.3\n",
      "r=0 c=1 W[0,1]=1.334\n",
      "r=0 c=2 W[0,2]=-0.048\n",
      "r=1 c=0 W[1,0]=1.513\n",
      "r=1 c=1 W[1,1]=-0.545\n",
      "r=1 c=2 W[1,2]=-0.814\n"
     ]
    }
   ],
   "source": [
    "# ヒント\n",
    "W = np.random.randn(2,3).round(3)\n",
    "print(\"W=\", W)\n",
    "print()\n",
    "\n",
    "for r in range(W.shape[0]):\n",
    "    for c in range(W.shape[1]):\n",
    "        print(\"r=%s\"%r, \"c=%s\"%c, \"W[%s,%s]=%s\"%(r, c, W[r,c]))"
   ]
  },
  {
   "cell_type": "code",
   "execution_count": 3,
   "metadata": {},
   "outputs": [],
   "source": [
    "def predict(x, W):\n",
    "    \"\"\"\n",
    "    予測関数\n",
    "    \"\"\"\n",
    "    return np.dot(x, W)\n",
    "\n",
    "def loss(x, W, t):\n",
    "    \"\"\"\n",
    "    損失関数\n",
    "    \"\"\"\n",
    "    y = predict(x, W)\n",
    "    return  mean_squared_error(y, t) #平均二乗和誤差\n",
    "\n",
    "def numerical_gradient(f, x, W, t):\n",
    "    \"\"\"\n",
    "    f : 目的関数\n",
    "    x : 入力データ\n",
    "    W : 重み行列\n",
    "    t : 正解データ\n",
    "    \"\"\"\n",
    "    h = 1e-4 # 0.0001\n",
    "    grad = np.zeros_like(W)\n",
    "    \n",
    "    for r in range(W.shape[0]):\n",
    "        for c in range(W.shape[1]):\n",
    "            tmp_val = W[r,c]\n",
    "\n",
    "            W[r,c] = tmp_val + h\n",
    "            fxh1 = f(x, W, t)\n",
    "\n",
    "            W[r,c] = tmp_val - h \n",
    "            fxh2 = f(x, W, t)\n",
    "            grad[r,c] = (fxh1 - fxh2) / (2*h)\n",
    "\n",
    "            W[r,c] = tmp_val # 値を元に戻す\n",
    "\n",
    "    return grad"
   ]
  },
  {
   "cell_type": "code",
   "execution_count": 4,
   "metadata": {
    "scrolled": true
   },
   "outputs": [
    {
     "name": "stdout",
     "output_type": "stream",
     "text": [
      "W= [[ 0.471 -1.191  1.433]\n",
      " [-0.313 -0.721  0.887]]\n",
      "\n",
      "loss= 74.4090635\n",
      "\n",
      "grad= [[-5.529 -8.191 -6.567]\n",
      " [ 0.748 -0.884  5.548]]\n",
      "\n"
     ]
    }
   ],
   "source": [
    "np.random.seed(1234)\n",
    "\n",
    "# 学習用データ\n",
    "x = np.array([[1, 2],[1, -2]])\n",
    "t = np.array([[5, 6, 7],[7, 8, 9]])\n",
    "\n",
    "# 重みの初期値\n",
    "W = np.random.randn(2, 3).round(3)\n",
    "print(\"W=\", W)\n",
    "print()\n",
    "\n",
    "# 損失\n",
    "print(\"loss=\", loss(x, W, t))\n",
    "print()\n",
    "\n",
    "# 勾配の算出\n",
    "grad = numerical_gradient(loss, x, W, t)\n",
    "print(\"grad=\", grad)\n",
    "print()"
   ]
  },
  {
   "cell_type": "markdown",
   "metadata": {},
   "source": [
    "### [gradの解釈]\n",
    "* 求められたgradは、例えば、次のように解釈できる。\n",
    "    * $w_{11}$を負の方向に微小量$h$だけ変化させたとき、$loss$は約5.529増える。\n",
    "    * $w_{23}$を正の方向に微小量$h$だけ変化させたとき、$loss$は約5.548増える。\n",
    "    * $loss$は$0$に近づけたいので、$w_{11}$は正の方向に更新し、$w_{23}$は負の方向に更新するのが良い、となる。"
   ]
  },
  {
   "cell_type": "markdown",
   "metadata": {},
   "source": [
    "### [演習]\n",
    "* 学習用データを変えてみましょう。\n",
    "* 重みの初期値を変えてみましょう。"
   ]
  },
  {
   "cell_type": "markdown",
   "metadata": {},
   "source": [
    "## Wの配列形状に依存しない実装\n",
    "### [演習]\n",
    "* 上記numerical_gradientをWの配列形状に依存しない形で実装してみましょう。\n",
    "* np.nditerを用います。"
   ]
  },
  {
   "cell_type": "code",
   "execution_count": 5,
   "metadata": {},
   "outputs": [
    {
     "name": "stdout",
     "output_type": "stream",
     "text": [
      "W= [[ 0.86  -0.637  0.016]\n",
      " [-2.243  1.15   0.992]]\n",
      "\n",
      "idx= (0, 0) W[idx]= 0.86\n",
      "idx= (0, 1) W[idx]= -0.637\n",
      "idx= (0, 2) W[idx]= 0.016\n",
      "idx= (1, 0) W[idx]= -2.243\n",
      "idx= (1, 1) W[idx]= 1.15\n",
      "idx= (1, 2) W[idx]= 0.992\n"
     ]
    }
   ],
   "source": [
    "# ヒント\n",
    "W = np.random.randn(2,3).round(3)\n",
    "print(\"W=\", W)\n",
    "print()\n",
    "\n",
    "it = np.nditer(W, flags=['multi_index'])\n",
    "while not it.finished: # Wの全要素を捜査する\n",
    "    idx = it.multi_index # indexを1つ取り出す\n",
    "    print(\"idx=\",idx, \"W[idx]=\",W[idx])\n",
    "    it.iternext() # indexを1つ進める\n"
   ]
  },
  {
   "cell_type": "code",
   "execution_count": 6,
   "metadata": {},
   "outputs": [
    {
     "name": "stdout",
     "output_type": "stream",
     "text": [
      "W= [[ 0.471 -1.191  1.433]\n",
      " [-0.313 -0.721  0.887]]\n",
      "\n",
      "loss= 74.4090635\n",
      "\n",
      "grad= [[-5.529 -8.191 -6.567]\n",
      " [ 0.748 -0.884  5.548]]\n",
      "\n"
     ]
    }
   ],
   "source": [
    "def numerical_gradient(f, x, W, t):\n",
    "    \"\"\"\n",
    "    f : 目的関数\n",
    "    x : 入力データ\n",
    "    W : 重み行列\n",
    "    t : 正解データ   \n",
    "    \"\"\"\n",
    "    h = 1e-4 # 0.0001\n",
    "    grad = np.zeros_like(W)\n",
    "    \n",
    "    it = np.nditer(W, flags=['multi_index'])\n",
    "    \n",
    "    while not it.finished:\n",
    "        idx = it.multi_index # indexを取り出す\n",
    "        tmp_val = W[idx]\n",
    "        \n",
    "        W[idx] = tmp_val + h\n",
    "        fxh1 = f(x, W, t)\n",
    "        \n",
    "        W[idx] = tmp_val - h \n",
    "        fxh2 = f(x, W, t)\n",
    "        grad[idx] = (fxh1 - fxh2) / (2*h)\n",
    "        \n",
    "        W[idx] = tmp_val # 値を元に戻す\n",
    "        \n",
    "        it.iternext()    # 次のindexへ進める\n",
    "        \n",
    "    return grad\n",
    "\n",
    "\n",
    "np.random.seed(1234)\n",
    "\n",
    "# 学習用データ\n",
    "x = np.array([[1, 2],[1, -2]])\n",
    "t = np.array([[5, 6, 7],[7, 8, 9]])\n",
    "\n",
    "# 重みの初期値\n",
    "W = np.random.randn(2,3).round(3)\n",
    "print(\"W=\", W)\n",
    "print()\n",
    "\n",
    "# 損失\n",
    "print(\"loss=\", loss(x, W, t))\n",
    "print()\n",
    "\n",
    "# 勾配の算出\n",
    "grad = numerical_gradient(loss, x, W, t)\n",
    "print(\"grad=\", grad)\n",
    "print()"
   ]
  },
  {
   "cell_type": "code",
   "execution_count": null,
   "metadata": {},
   "outputs": [],
   "source": []
  }
 ],
 "metadata": {
  "kernelspec": {
   "display_name": "Python 3",
   "language": "python",
   "name": "python3"
  },
  "language_info": {
   "codemirror_mode": {
    "name": "ipython",
    "version": 3
   },
   "file_extension": ".py",
   "mimetype": "text/x-python",
   "name": "python",
   "nbconvert_exporter": "python",
   "pygments_lexer": "ipython3",
   "version": "3.7.3"
  }
 },
 "nbformat": 4,
 "nbformat_minor": 2
}
