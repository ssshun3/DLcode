{
 "cells": [
  {
   "cell_type": "markdown",
   "metadata": {},
   "source": [
    "# 最急降下法"
   ]
  },
  {
   "cell_type": "code",
   "execution_count": null,
   "metadata": {
    "ExecuteTime": {
     "end_time": "2018-04-04T11:32:57.975467Z",
     "start_time": "2018-04-04T11:32:56.679119Z"
    }
   },
   "outputs": [],
   "source": [
    "# %matplotlib inline\n",
    "import pandas as pd\n",
    "import numpy as np\n",
    "import matplotlib.pyplot as plt\n",
    "from pylab import * #コンタ描画用\n",
    "import myplotly"
   ]
  },
  {
   "cell_type": "markdown",
   "metadata": {},
   "source": [
    "### 最急降下法とは\n",
    "関数の勾配が最も急な方向に探索の方向を取りながら最小点を目指す方法。"
   ]
  },
  {
   "cell_type": "markdown",
   "metadata": {
    "collapsed": true
   },
   "source": [
    "### 2次2変数の最小値探索問題(凸2次計画問題)\n",
    "#### 関数 $f(x,y)=(x-3)^2+(2y-1)^2$の最小点を求めよ。"
   ]
  },
  {
   "cell_type": "markdown",
   "metadata": {},
   "source": [
    "この問題を最急降下法で解いてみる。  \n",
    "まずは、$x,y$のそれぞれについて微分を行う。これを偏微分という。\n",
    "$$\\frac{\\partial f}{\\partial x} = 2x -6$$\n",
    "  \n",
    "$$\\frac{\\partial f}{\\partial y} = 8y -4$$\n",
    "偏微分の結果は、ある場所におけるある方向の傾きを表す関数になっている。2つを並べると以下のように表現できる。\n",
    "$$\\nabla f(x,y)=(2x-6,8y-4)$$\n",
    "これを勾配ベクトルと呼ぶ。  \n",
    "最小値探索問題において、進むべき方向は関数の値が小さくなる方向であるため、山を下る際は勾配ベクトルにマイナスをつける。\n",
    "$$- \\nabla f(x,y)=(-(2x-6),-(8y-4)) = (-2x+6,-8y+4)$$\n",
    "例えば、$(x,y)=(1,1)$での負の勾配ベクトルは、\n",
    "$$- \\nabla f(1,1)=(-2*1+6,-8*1+4)=(4,-4)$$\n",
    "となるため、ある人が$(x,y)=(1,1)$にいる場合、進むべき方向はX軸正の方向を基準として-45°となる。"
   ]
  },
  {
   "cell_type": "markdown",
   "metadata": {},
   "source": [
    "### $f(x,y)=(x-3)^2+(2y-1)^2$のグラフを描画する"
   ]
  },
  {
   "cell_type": "code",
   "execution_count": null,
   "metadata": {
    "ExecuteTime": {
     "end_time": "2018-04-04T11:40:06.715844Z",
     "start_time": "2018-04-04T11:40:04.948866Z"
    }
   },
   "outputs": [],
   "source": [
    "axis_x = np.arange(-10,10,0.1)\n",
    "axis_y = np.arange(-10,10,0.1)\n",
    "mx, my = meshgrid(axis_x, axis_y) \n",
    "\n",
    "#目的関数の値をつくる。\n",
    "mz = np.ones([200,200])\n",
    "for i,y in enumerate(axis_y):\n",
    "    z = [] \n",
    "    for x in axis_x:\n",
    "        z.append((x-3)**2 + (2*y-1)**2) #目的関数\n",
    "    mz[i] = z\n",
    "    \n",
    "#目的関数\n",
    "plt.pcolor(mx,my,mz,cmap=\"jet\")\n",
    "plt.colorbar()\n",
    "\n",
    "#目的関数の最小値\n",
    "plt.scatter(x=3,y=0.5,marker=\"x\",s=100,c=\"k\")\n",
    "\n",
    "#表示範囲\n",
    "plt.xlim([-10,10])\n",
    "plt.ylim([-10,10])\n",
    "\n",
    "#描画\n",
    "plt.show()"
   ]
  },
  {
   "cell_type": "markdown",
   "metadata": {},
   "source": [
    "### $f(x,y)=(x-3)^2+(2y-1)^2$のグラフを3次元で描画する"
   ]
  },
  {
   "cell_type": "code",
   "execution_count": null,
   "metadata": {},
   "outputs": [],
   "source": [
    "myplotly.graph3d(mx, my, mz)"
   ]
  },
  {
   "cell_type": "markdown",
   "metadata": {},
   "source": [
    "### [演習]\n",
    "* 最急降下法における値の更新式は以下のようになります。    \n",
    "$\\displaystyle x = x - \\alpha * \\frac{\\partial f}{\\partial x}$  \n",
    "$\\displaystyle y = y - \\alpha * \\frac{\\partial f}{\\partial y}$　　  \n",
    "$\\alpha : 学習率$\n",
    "* 上記更新式を参考にしながら、以下の最急降下法の計算を完成させましょう。  "
   ]
  },
  {
   "cell_type": "code",
   "execution_count": null,
   "metadata": {
    "ExecuteTime": {
     "end_time": "2018-04-04T11:40:07.558177Z",
     "start_time": "2018-04-04T11:40:06.719797Z"
    }
   },
   "outputs": [],
   "source": [
    "#条件設定\n",
    "x = -9#初期値\n",
    "y = -9#初期値\n",
    "alpha = 0.1 #学習率\n",
    "diff = 1 #変化量の初期値\n",
    "maxIter = 2000 #最大ループ回数\n",
    "threshold = 1.0e-5 #収束判定閾値\n",
    "\n",
    "#結果を格納するdataframe\n",
    "i = 0 \n",
    "df_re = pd.DataFrame()\n",
    "df_re.loc[i,\"x\"] = x\n",
    "df_re.loc[i,\"y\"] = y\n",
    "df_re.loc[i,\"diff\"] = diff\n",
    "i += 1\n",
    "\n",
    "#計算\n",
    "while diff >      :\n",
    "    x_pre = x\n",
    "    y_pre = y\n",
    "    dx = \n",
    "    dy = \n",
    "    x -= alpha * \n",
    "    y -= alpha * \n",
    "    diff = np.abs(x - x_pre) + np.abs(y - y_pre)\n",
    "    df_re.loc[i,\"x\"] = x\n",
    "    df_re.loc[i,\"y\"] = y\n",
    "    df_re.loc[i,\"diff\"] = diff\n",
    "    i += 1\n",
    "    \n",
    "    if i > maxIter:\n",
    "        break\n",
    "        \n",
    "print(i, round(x,3), round(y,3), diff)"
   ]
  },
  {
   "cell_type": "markdown",
   "metadata": {},
   "source": [
    "### 結果のプロット"
   ]
  },
  {
   "cell_type": "code",
   "execution_count": null,
   "metadata": {
    "ExecuteTime": {
     "end_time": "2018-04-04T11:40:09.204561Z",
     "start_time": "2018-04-04T11:40:07.562257Z"
    },
    "scrolled": true
   },
   "outputs": [],
   "source": [
    "axis_x = np.arange(-10,10,0.1)\n",
    "axis_y = np.arange(-10,10,0.1)\n",
    "mx, my = meshgrid(axis_x, axis_y) \n",
    "\n",
    "#目的関数の値をつくる。\n",
    "mz = np.ones([200,200])\n",
    "for i,y in enumerate(axis_y):\n",
    "    z = [] \n",
    "    for x in axis_x:\n",
    "        z.append((x-3)**2 + (2*y-1)**2) #目的関数\n",
    "    mz[i] = z\n",
    "    \n",
    "#目的関数\n",
    "plt.pcolor(mx,my,mz,cmap=\"jet\")\n",
    "plt.colorbar()\n",
    "\n",
    "#目的関数の最小値\n",
    "plt.scatter(x=3,y=0.5,marker=\"x\",s=100,c=\"black\")\n",
    "\n",
    "#表示範囲\n",
    "plt.xlim([-10,10])\n",
    "plt.ylim([-10,10])\n",
    "\n",
    "#探索点\n",
    "plt.plot(df_re[\"x\"],df_re[\"y\"],marker=\"o\",c=\"k\")\n",
    "\n",
    "#描画\n",
    "plt.show()"
   ]
  },
  {
   "cell_type": "markdown",
   "metadata": {},
   "source": [
    "### [演習]\n",
    "- 初期値を(x,y)=(9,9)に変更すると結果はどうかわるでしょうか？\n",
    "- 学習率$\\alpha$を0.2に変更すると結果はどうかわるでしょうか？\n",
    "- 学習率$\\alpha$を0.3に変更すると結果はどうかわるでしょうか？"
   ]
  },
  {
   "cell_type": "code",
   "execution_count": null,
   "metadata": {},
   "outputs": [],
   "source": []
  }
 ],
 "metadata": {
  "anaconda-cloud": {},
  "kernelspec": {
   "display_name": "Python 3",
   "language": "python",
   "name": "python3"
  },
  "language_info": {
   "codemirror_mode": {
    "name": "ipython",
    "version": 3
   },
   "file_extension": ".py",
   "mimetype": "text/x-python",
   "name": "python",
   "nbconvert_exporter": "python",
   "pygments_lexer": "ipython3",
   "version": "3.7.3"
  }
 },
 "nbformat": 4,
 "nbformat_minor": 1
}
