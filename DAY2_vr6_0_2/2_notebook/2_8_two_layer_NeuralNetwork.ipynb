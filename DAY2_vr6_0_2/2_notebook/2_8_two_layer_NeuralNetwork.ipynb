{
 "cells": [
  {
   "cell_type": "markdown",
   "metadata": {},
   "source": [
    "# 2層ニューラルネットワーククラスの実装\n",
    "* 2_7_simple_NeuralNetwork_trainee.ipynbでは、非常にシンプルなニューラルネットワークを実装した。\n",
    "* ここでは、2層ニューラルネットワークのクラスを実装する。\n",
    "* 2層ニューラルネットワークなので、推定するパラメータとして、W1, W2, b1, b2を定義する"
   ]
  },
  {
   "cell_type": "code",
   "execution_count": 1,
   "metadata": {},
   "outputs": [],
   "source": [
    "import numpy as np\n",
    "import pandas as pd\n",
    "import matplotlib.pyplot as plt\n",
    "from common.activations import softmax, sigmoid\n",
    "from common.grad import numerical_gradient\n",
    "from common.loss import cross_entropy_error"
   ]
  },
  {
   "cell_type": "markdown",
   "metadata": {},
   "source": [
    "## 2層ニューラルネットワーククラスの実装"
   ]
  },
  {
   "cell_type": "markdown",
   "metadata": {},
   "source": [
    "### [演習]\n",
    "* 2層ニューラルネットワークにおいて、予測、損失、勾配を計算する以下のクラスを完成させましょう"
   ]
  },
  {
   "cell_type": "code",
   "execution_count": 2,
   "metadata": {},
   "outputs": [],
   "source": [
    "import numpy as np\n",
    "\n",
    "class TwoLayerNet():\n",
    "    def __init__(self, input_size, hidden_size, output_size):\n",
    "        \n",
    "        # 重みの初期化\n",
    "        self.params = {}\n",
    "        init_std=0.01\n",
    "        np.random.seed(1234)\n",
    "        self.params[\"W1\"] = init_std * np.random.randn(input_size, hidden_size)\n",
    "        self.params[\"b1\"] = np.zeros(hidden_size)\n",
    "        self.params[\"W2\"] = init_std * np.random.randn(hidden_size, output_size)\n",
    "        self.params[\"b2\"] = np.zeros(output_size)\n",
    "                \n",
    "    def predict(self, x):\n",
    "        \"\"\"\n",
    "        予測関数\n",
    "        x : 入力データ\n",
    "        \"\"\"\n",
    "        W1, W2 = self.params[\"W1\"], self.params[\"W2\"]\n",
    "        b1, b2 = self.params[\"b1\"], self.params[\"b2\"]\n",
    "        \n",
    "        h1 = np.dot(x, W1) + b1\n",
    "        z1 = sigmoid(h1)\n",
    "        h2 = np.dot(z1, W2) + b2\n",
    "        y = softmax(h2)\n",
    "        return y\n",
    "    \n",
    "    def loss(self, x, t):\n",
    "        \"\"\"\n",
    "        損失関数\n",
    "        x : 入力データ\n",
    "        t : 正解データ\n",
    "        \"\"\"\n",
    "        y = self.predict(x)\n",
    "        loss = cross_entropy_error(y, t)\n",
    "        return loss\n",
    "    \n",
    "    def gradient(self, x, t):\n",
    "        \"\"\"\n",
    "        勾配計算関数\n",
    "        \"\"\"\n",
    "        grads={}\n",
    "        f = self.loss\n",
    "        grads[\"W1\"] = numerical_gradient(f, x, self.params[\"W1\"], t)\n",
    "        grads[\"b1\"] = numerical_gradient(f, x, self.params[\"b1\"], t)\n",
    "        grads[\"W2\"] = numerical_gradient(f, x, self.params[\"W2\"], t)\n",
    "        grads[\"b2\"] = numerical_gradient(f, x, self.params[\"b2\"], t)\n",
    "        return grads"
   ]
  },
  {
   "cell_type": "code",
   "execution_count": 3,
   "metadata": {},
   "outputs": [
    {
     "name": "stdout",
     "output_type": "stream",
     "text": [
      "[[ 4.71435164e-03 -1.19097569e-02  1.43270697e-02 -3.12651896e-03]\n",
      " [-7.20588733e-03  8.87162940e-03  8.59588414e-03 -6.36523504e-03]\n",
      " [ 1.56963721e-04 -2.24268495e-02  1.15003572e-02  9.91946022e-03]\n",
      " [ 9.53324128e-03 -2.02125482e-02 -3.34077366e-03  2.11836468e-05]\n",
      " [ 4.05453412e-03  2.89091941e-03  1.32115819e-02 -1.54690555e-02]]\n",
      "[0. 0. 0. 0.]\n",
      "[[-0.00202646 -0.00655969  0.00193421]\n",
      " [ 0.00553439  0.01318152 -0.00469305]\n",
      " [ 0.00675554 -0.01817027 -0.00183109]\n",
      " [ 0.01058969 -0.0039784   0.00337438]]\n",
      "[0. 0. 0.]\n",
      "\n",
      "行列の形状の確認\n",
      "(5, 4)\n",
      "(4,)\n",
      "(4, 3)\n",
      "(3,)\n"
     ]
    }
   ],
   "source": [
    "# 重み初期値の確認\n",
    "tnet = TwoLayerNet(input_size=5, hidden_size=4, output_size=3)\n",
    "print(tnet.params[\"W1\"])\n",
    "print(tnet.params[\"b1\"])\n",
    "print(tnet.params[\"W2\"])\n",
    "print(tnet.params[\"b2\"])\n",
    "print()\n",
    "print(\"行列の形状の確認\")\n",
    "print(tnet.params[\"W1\"].shape)\n",
    "print(tnet.params[\"b1\"].shape)\n",
    "print(tnet.params[\"W2\"].shape)\n",
    "print(tnet.params[\"b2\"].shape)"
   ]
  },
  {
   "cell_type": "markdown",
   "metadata": {},
   "source": [
    "### N=1のxを入力した時の勾配計算"
   ]
  },
  {
   "cell_type": "code",
   "execution_count": 4,
   "metadata": {},
   "outputs": [
    {
     "name": "stdout",
     "output_type": "stream",
     "text": [
      "勾配\n",
      "W1 =\n",
      "[[-1.03413179e-03  2.32730561e-03 -6.24394595e-04  7.61957164e-08]\n",
      " [-2.06826358e-03  4.65461121e-03 -1.24878919e-03  1.52390323e-07]\n",
      " [-3.10239536e-03  6.98191679e-03 -1.87318377e-03  2.28588259e-07]\n",
      " [-4.13652712e-03  9.30922234e-03 -2.49757835e-03  3.04782866e-07]\n",
      " [-5.17065886e-03  1.16365278e-02 -3.12197291e-03  3.80979692e-07]]\n",
      "\n",
      "b1 =\n",
      "[-1.03413179e-03  2.32730561e-03 -6.24394595e-04  7.61957164e-08]\n",
      "\n",
      "W2 =\n",
      "[[ 0.17246339  0.16921786 -0.34168125]\n",
      " [ 0.15758025  0.15461479 -0.31219504]\n",
      " [ 0.17830481  0.17494934 -0.35325415]\n",
      " [ 0.1629945   0.15992716 -0.32292166]]\n",
      "\n",
      "b2 =\n",
      "[ 0.33665038  0.33031505 -0.66696543]\n",
      "\n",
      "\n",
      "勾配行列の形状\n",
      "W1 = (5, 4)\n",
      "b1 = (4,)\n",
      "W2 = (4, 3)\n",
      "b2 = (3,)\n"
     ]
    }
   ],
   "source": [
    "x = np.array([1,2,3,4,5])\n",
    "t = np.array([0, 0, 1])\n",
    "\n",
    "# 勾配を計算する\n",
    "grads = tnet.gradient(x, t)\n",
    "print(\"勾配\")\n",
    "for key, value in grads.items():\n",
    "    print(key,\"=\")\n",
    "    print(value)\n",
    "    print()\n",
    "\n",
    "print()\n",
    "print(\"勾配行列の形状\")\n",
    "for key, value in grads.items():\n",
    "    print(key,\"=\", value.shape)"
   ]
  },
  {
   "cell_type": "markdown",
   "metadata": {},
   "source": [
    "### N=1のxを入力した時の予測"
   ]
  },
  {
   "cell_type": "code",
   "execution_count": 5,
   "metadata": {},
   "outputs": [
    {
     "name": "stdout",
     "output_type": "stream",
     "text": [
      "p= [0.33665048 0.33031515 0.33303437]\n",
      "pの合計= 1.0\n",
      "\n"
     ]
    }
   ],
   "source": [
    "x = np.array([1,2,3,4,5])\n",
    "t = np.array([0, 0, 1])\n",
    "p = tnet.predict(x)\n",
    "print(\"p=\", p)\n",
    "print(\"pの合計=\", p.sum())\n",
    "print()"
   ]
  },
  {
   "cell_type": "markdown",
   "metadata": {},
   "source": [
    "### N=2のxを入力した時の予測"
   ]
  },
  {
   "cell_type": "code",
   "execution_count": 6,
   "metadata": {},
   "outputs": [
    {
     "name": "stdout",
     "output_type": "stream",
     "text": [
      "p= [[0.33665048 0.33031515 0.33303437]\n",
      " [0.33665048 0.33031515 0.33303437]]\n",
      "pの合計= [1. 1.]\n"
     ]
    }
   ],
   "source": [
    "x = np.array([[1,2,3,4,5],\n",
    "                        [1,2,3,4,5]])\n",
    "t = np.array([[0, 0, 1],\n",
    "                       [0, 0, 1]])\n",
    "p = tnet.predict(x)\n",
    "print(\"p=\", p)\n",
    "print(\"pの合計=\", p.sum(axis=1))"
   ]
  },
  {
   "cell_type": "markdown",
   "metadata": {},
   "source": [
    "### N=3のxを入力した時の予測"
   ]
  },
  {
   "cell_type": "code",
   "execution_count": 7,
   "metadata": {},
   "outputs": [
    {
     "name": "stdout",
     "output_type": "stream",
     "text": [
      "p= [[0.33665048 0.33031515 0.33303437]\n",
      " [0.33665048 0.33031515 0.33303437]\n",
      " [0.33665048 0.33031515 0.33303437]]\n",
      "pの合計= [1. 1. 1.]\n"
     ]
    }
   ],
   "source": [
    "x = np.array([[1,2,3,4,5],\n",
    "                        [1,2,3,4,5],\n",
    "                        [1,2,3,4,5]])\n",
    "t = np.array([[0, 0, 1],\n",
    "                        [0, 0, 1],\n",
    "                        [0, 0, 1]])\n",
    "p = tnet.predict(x)\n",
    "print(\"p=\", p)\n",
    "print(\"pの合計=\", p.sum(axis=1))"
   ]
  }
 ],
 "metadata": {
  "kernelspec": {
   "display_name": "Python 3",
   "language": "python",
   "name": "python3"
  },
  "language_info": {
   "codemirror_mode": {
    "name": "ipython",
    "version": 3
   },
   "file_extension": ".py",
   "mimetype": "text/x-python",
   "name": "python",
   "nbconvert_exporter": "python",
   "pygments_lexer": "ipython3",
   "version": "3.7.3"
  }
 },
 "nbformat": 4,
 "nbformat_minor": 2
}
