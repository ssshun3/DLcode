{
 "cells": [
  {
   "cell_type": "markdown",
   "metadata": {},
   "source": [
    "# 各種レイヤがバッチ処理に対応していることを確認する"
   ]
  },
  {
   "cell_type": "code",
   "execution_count": 1,
   "metadata": {},
   "outputs": [],
   "source": [
    "import numpy as np"
   ]
  },
  {
   "cell_type": "markdown",
   "metadata": {},
   "source": [
    "## 加算レイヤ"
   ]
  },
  {
   "cell_type": "code",
   "execution_count": 2,
   "metadata": {},
   "outputs": [],
   "source": [
    "class AddLayer:\n",
    "    def __init__(self):\n",
    "        pass # 何もしない\n",
    "        \n",
    "    def forward(self, x, y):\n",
    "        return x + y\n",
    "    \n",
    "    def backward(self, dout):\n",
    "        \"\"\"\n",
    "        dout : float, 上流(出力)側の勾配\n",
    "        \"\"\"\n",
    "        dLdx = dout\n",
    "        dLdy = dout\n",
    "        return dLdx, dLdy"
   ]
  },
  {
   "cell_type": "code",
   "execution_count": 3,
   "metadata": {},
   "outputs": [
    {
     "name": "stdout",
     "output_type": "stream",
     "text": [
      "forward=\n",
      " [[4]\n",
      " [6]]\n",
      "dLdx=\n",
      " [5]\n",
      "dLdy=\n",
      " [5]\n"
     ]
    }
   ],
   "source": [
    "al = AddLayer()\n",
    "x = np.array([[1],[2]])\n",
    "y = np.array([[3],[4]])\n",
    "dout = np.array([5])\n",
    "\n",
    "print(\"forward=\\n\", al.forward(x, y))\n",
    "\n",
    "dLdx , dLdy = al.backward(dout)\n",
    "print(\"dLdx=\\n\", dLdx)\n",
    "print(\"dLdy=\\n\", dLdy)"
   ]
  },
  {
   "cell_type": "markdown",
   "metadata": {},
   "source": [
    "## 乗算レイヤ"
   ]
  },
  {
   "cell_type": "code",
   "execution_count": 4,
   "metadata": {},
   "outputs": [],
   "source": [
    "class MultiLayer:\n",
    "    def __init__(self):\n",
    "        self.x = None\n",
    "        self.y = None\n",
    "        \n",
    "    def forward(self, x, y):\n",
    "        self.x = x #記憶しておく\n",
    "        self.y = y #記憶しておく\n",
    "        return x * y\n",
    "    \n",
    "    def backward(self, dout):\n",
    "        \"\"\"\n",
    "        dout : float, 上流(出力)側の勾配\n",
    "        \"\"\"        \n",
    "        dLdx = dout * self.y\n",
    "        dLdy = dout * self.x\n",
    "        return dLdx, dLdy"
   ]
  },
  {
   "cell_type": "code",
   "execution_count": 5,
   "metadata": {},
   "outputs": [
    {
     "name": "stdout",
     "output_type": "stream",
     "text": [
      "forward=\n",
      " [[3]\n",
      " [8]]\n",
      "dLdx=\n",
      " [[15]\n",
      " [20]]\n",
      "dLdy=\n",
      " [[ 5]\n",
      " [10]]\n"
     ]
    }
   ],
   "source": [
    "ml = MultiLayer()\n",
    "x = np.array([[1],[2]])\n",
    "y = np.array([[3],[4]])\n",
    "dout = np.array([5])\n",
    "\n",
    "print(\"forward=\\n\", ml.forward(x, y))\n",
    "\n",
    "dLdx , dLdy = ml.backward(dout)\n",
    "print(\"dLdx=\\n\", dLdx)\n",
    "print(\"dLdy=\\n\", dLdy)"
   ]
  },
  {
   "cell_type": "markdown",
   "metadata": {},
   "source": [
    "## ReLUレイヤ"
   ]
  },
  {
   "cell_type": "code",
   "execution_count": 6,
   "metadata": {},
   "outputs": [],
   "source": [
    "class ReLU:\n",
    "    def __init__(self):\n",
    "        self.mask = None\n",
    "        \n",
    "    def forward(self, x):\n",
    "        self.mask = (x <= 0)\n",
    "        out = x.copy() #参照渡しではなく複製する\n",
    "        out[self.mask] = 0\n",
    "        return out\n",
    "    \n",
    "    def backward(self, dout):\n",
    "        \"\"\"\n",
    "        dout : float, 上流(出力)側の勾配\n",
    "        \"\"\"        \n",
    "        dout[self.mask] = 0\n",
    "        dLdx = dout\n",
    "        return dLdx"
   ]
  },
  {
   "cell_type": "code",
   "execution_count": 7,
   "metadata": {},
   "outputs": [
    {
     "name": "stdout",
     "output_type": "stream",
     "text": [
      "forward=\n",
      " [[1]\n",
      " [0]\n",
      " [0]]\n",
      "dx=\n",
      " [[3]\n",
      " [0]\n",
      " [0]]\n"
     ]
    }
   ],
   "source": [
    "rl = ReLU()\n",
    "x = np.array([[1],[-1],[0]])\n",
    "dout = np.array([[3],[3],[3]])\n",
    "\n",
    "print(\"forward=\\n\", rl.forward(x))\n",
    "\n",
    "dLdx = rl.backward(dout)\n",
    "print(\"dx=\\n\", dLdx)"
   ]
  },
  {
   "cell_type": "markdown",
   "metadata": {},
   "source": [
    "## Sigmoidレイヤ"
   ]
  },
  {
   "cell_type": "code",
   "execution_count": 8,
   "metadata": {},
   "outputs": [],
   "source": [
    "class Sigmoid:\n",
    "    def __init__(self):\n",
    "        self.out = None\n",
    "        \n",
    "    def forward(self, x):\n",
    "        out = 1 / (1 + np.exp(-x))\n",
    "        self.out = out # 記憶しておく\n",
    "        return out\n",
    "    \n",
    "    def backward(self, dout):\n",
    "        \"\"\"\n",
    "        dout : float, 上流(出力)側の勾配\n",
    "        \"\"\"        \n",
    "        dLdx = dout * self.out * (1.0 - self.out)\n",
    "        return dLdx"
   ]
  },
  {
   "cell_type": "code",
   "execution_count": 9,
   "metadata": {},
   "outputs": [
    {
     "name": "stdout",
     "output_type": "stream",
     "text": [
      "forward=\n",
      " [[4.53978687e-05]\n",
      " [5.00000000e-01]\n",
      " [9.99954602e-01]]\n",
      "dLdx=\n",
      " [[1.36187423e-04]\n",
      " [7.50000000e-01]\n",
      " [1.36187423e-04]]\n"
     ]
    }
   ],
   "source": [
    "sm = Sigmoid()\n",
    "x = np.array([[-10],[0],[10]])\n",
    "dout = np.array([[3],[3],[3]])\n",
    "\n",
    "print(\"forward=\\n\", sm.forward(x))\n",
    "\n",
    "dLdx = sm.backward(dout)\n",
    "print(\"dLdx=\\n\", dLdx)"
   ]
  },
  {
   "cell_type": "code",
   "execution_count": null,
   "metadata": {},
   "outputs": [],
   "source": []
  }
 ],
 "metadata": {
  "kernelspec": {
   "display_name": "Python 3",
   "language": "python",
   "name": "python3"
  },
  "language_info": {
   "codemirror_mode": {
    "name": "ipython",
    "version": 3
   },
   "file_extension": ".py",
   "mimetype": "text/x-python",
   "name": "python",
   "nbconvert_exporter": "python",
   "pygments_lexer": "ipython3",
   "version": "3.7.3"
  }
 },
 "nbformat": 4,
 "nbformat_minor": 2
}
