{
 "cells": [
  {
   "cell_type": "markdown",
   "metadata": {},
   "source": [
    "# ミニバッチ学習の実装"
   ]
  },
  {
   "cell_type": "code",
   "execution_count": null,
   "metadata": {
    "ExecuteTime": {
     "end_time": "2018-03-30T08:22:18.778283Z",
     "start_time": "2018-03-30T08:22:17.521441Z"
    },
    "scrolled": true
   },
   "outputs": [],
   "source": [
    "from PIL import Image\n",
    "import numpy as np\n",
    "import matplotlib.pyplot as plt\n",
    "import math\n",
    "\n",
    "# Load the MNIST dataset\n",
    "import tensorflow as tf\n",
    "mnist = tf.keras.datasets.mnist\n",
    "(X_train, y_train),(X_test, y_test) = mnist.load_data()\n",
    "\n",
    "from sklearn.preprocessing import LabelBinarizer\n",
    "lb = LabelBinarizer()\n",
    "\n",
    "train = X_train/255\n",
    "test = X_test/255\n",
    "train = train.reshape(-1, 28*28)\n",
    "test = test.reshape(-1, 28*28)\n",
    "train_labels = lb.fit_transform(y_train)\n",
    "test_labels = lb.fit_transform(y_test)"
   ]
  },
  {
   "cell_type": "markdown",
   "metadata": {},
   "source": [
    "## ミニバッチ学習\n",
    "* ミニバッチ学習は、一般的には非復元抽出によって行われることが多いが、必ずこうしなければならないというわけではなく、分析者がデータセットの与え方を工夫することもできる。ただし、工夫しても計算が上手くいくとは限らない。\n",
    "* 工夫のしどころ。\n",
    "    * 一般的には、エポックのたびにシャッフルするが、シャッフルするタイミングを任意に変えてみる  \n",
    "    * 与えるミニバッチ の順番を意図的に操作してみる   \n",
    "        * 例、出現頻度の少ないラベルのデータを先に学習させる\n",
    "    * 抽出されるラベルの割合が一定になるように抽出してみる\n",
    "    * 復元抽出にしてみる"
   ]
  },
  {
   "cell_type": "code",
   "execution_count": null,
   "metadata": {
    "ExecuteTime": {
     "end_time": "2018-03-30T08:23:46.756032Z",
     "start_time": "2018-03-30T08:23:46.750904Z"
    }
   },
   "outputs": [],
   "source": [
    "def trainer(network, x, y):\n",
    "    \"\"\"\n",
    "    学習用の関数\n",
    "    このnotebookでは、ミニバッチ学習を学ぶことが目的であるため、この関数の中身は空のままにしておく\n",
    "    実際には、何らかの学習させるための処理を記述する\n",
    "    \"\"\"\n",
    "    pass\n",
    "    return "
   ]
  },
  {
   "cell_type": "markdown",
   "metadata": {
    "ExecuteTime": {
     "end_time": "2018-03-30T08:24:31.841612Z",
     "start_time": "2018-03-30T08:24:31.837897Z"
    }
   },
   "source": [
    "### ミニバッチ学習のループ(復元抽出)"
   ]
  },
  {
   "cell_type": "code",
   "execution_count": null,
   "metadata": {
    "ExecuteTime": {
     "end_time": "2018-03-30T08:25:54.693563Z",
     "start_time": "2018-03-30T08:25:54.673160Z"
    },
    "scrolled": true
   },
   "outputs": [],
   "source": [
    "np.random.seed(1234)\n",
    "train_size = train_labels.shape[0]\n",
    "batch_size = 32\n",
    "max_iter = 10  #ループの回数\n",
    "network = None #ダミー\n",
    "\n",
    "for i in range(max_iter):\n",
    "    batch_mask = np.random.choice(train_size, batch_size) # 復元抽出\n",
    "    print(\"i=%s, \"%i, \"batch_mask=%s\"%batch_mask[:10])\n",
    "    x_batch = train[batch_mask]\n",
    "    y_batch = train_labels[batch_mask]\n",
    "\n",
    "    trainer(network, x_batch, y_batch)"
   ]
  },
  {
   "cell_type": "markdown",
   "metadata": {},
   "source": [
    "### 復元抽出部分を理解するためのコード"
   ]
  },
  {
   "cell_type": "code",
   "execution_count": null,
   "metadata": {},
   "outputs": [],
   "source": [
    "np.random.seed(1234)\n",
    "batch_mask = np.random.choice(train_size, batch_size)\n",
    "print(\"batch_mask=\", batch_mask)\n",
    "print()\n",
    "\n",
    "x_batch = train[batch_mask]\n",
    "print(\"x_batch=\", x_batch)\n",
    "print(\"x_batch.shape=\", x_batch.shape)\n",
    "print()\n",
    "y_batch = train_labels[batch_mask]\n",
    "print(\"y_batch=\", y_batch)\n",
    "print(\"y_batch.shape=\", y_batch.shape)\n",
    "print()"
   ]
  },
  {
   "cell_type": "code",
   "execution_count": null,
   "metadata": {},
   "outputs": [],
   "source": [
    "# 復元抽出部分(何回か実行してみてください)\n",
    "np.random.choice(10,3)"
   ]
  },
  {
   "cell_type": "markdown",
   "metadata": {},
   "source": [
    "### ミニバッチ学習のループ(非復元抽出)"
   ]
  },
  {
   "cell_type": "markdown",
   "metadata": {},
   "source": [
    "### [演習]\n",
    "* 以下の非復元抽出によるミニバッチ学習を完成させましょう。\n",
    "* 通常の計算では、非復元抽出で行うことが多いです。"
   ]
  },
  {
   "cell_type": "code",
   "execution_count": null,
   "metadata": {},
   "outputs": [],
   "source": [
    "# ヒント\n",
    "index = np.arange(10)\n",
    "print(\"index=%s\"%index)\n",
    "np.random.seed(1234)\n",
    "np.random.shuffle(index)\n",
    "print(\"index=%s\"%index)\n",
    "print()\n",
    "print(np.random.permutation(10))\n",
    "print()\n",
    "\n",
    "for i in range(4):\n",
    "    print(index[3*i:3*(i+1)])\n",
    "    \n",
    "print(np.ceil(1.1), np.ceil(1.7), np.ceil(2.7)) # ceilは切り上げ関数"
   ]
  },
  {
   "cell_type": "code",
   "execution_count": null,
   "metadata": {},
   "outputs": [],
   "source": [
    "np.random.seed(1234)\n",
    "train_size = train_labels.shape[0]\n",
    "batch_size = 32\n",
    "epochs = 10\n",
    "network = None #ダミー\n",
    "minibatch_num = np.ceil(       /      ).astype(int) # ミニバッチの個数\n",
    "    \n",
    "for epoch in range(epochs):\n",
    "    \n",
    "    # indexを定義し、シャッフルする\n",
    "    index = \n",
    "    np.random.shuffle(         )\n",
    "    \n",
    "    for mn in range(           ):\n",
    "        \"\"\"\n",
    "        非復元抽出によるループ\n",
    "        \"\"\"\n",
    "        batch_mask = index[       :      ]       \n",
    "        print(\"epoch=%s, \"%epoch, \"batch_mask=%s\"%batch_mask[:10])\n",
    "        x_batch = train[batch_mask]\n",
    "        y_batch = train_labels[batch_mask]\n",
    "\n",
    "        trainer(network, x_batch, y_batch)"
   ]
  }
 ],
 "metadata": {
  "kernelspec": {
   "display_name": "Python 3",
   "language": "python",
   "name": "python3"
  },
  "language_info": {
   "codemirror_mode": {
    "name": "ipython",
    "version": 3
   },
   "file_extension": ".py",
   "mimetype": "text/x-python",
   "name": "python",
   "nbconvert_exporter": "python",
   "pygments_lexer": "ipython3",
   "version": "3.7.3"
  }
 },
 "nbformat": 4,
 "nbformat_minor": 2
}
