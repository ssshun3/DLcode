{
 "cells": [
  {
   "cell_type": "markdown",
   "metadata": {},
   "source": [
    "# 勾配を求める関数の実装"
   ]
  },
  {
   "cell_type": "markdown",
   "metadata": {},
   "source": [
    "### 事前に、端末にてplotlyをインストールしておくこと"
   ]
  },
  {
   "cell_type": "code",
   "execution_count": null,
   "metadata": {
    "ExecuteTime": {
     "end_time": "2018-04-05T23:43:59.037766Z",
     "start_time": "2018-04-05T23:43:58.479160Z"
    },
    "scrolled": false
   },
   "outputs": [],
   "source": [
    "import numpy as np\n",
    "import matplotlib.pyplot as plt\n",
    "import matplotlib.pyplot as plt\n",
    "from pylab import * #コンタ描画用\n",
    "import myplotly"
   ]
  },
  {
   "cell_type": "code",
   "execution_count": null,
   "metadata": {},
   "outputs": [],
   "source": [
    "def numerical_diff(f, x):\n",
    "    \"\"\"\n",
    "    数値微分を行う関数\n",
    "    \"\"\"\n",
    "    h = 1e-4\n",
    "    return (f(x+h) - f(x-h))/ (2*h)"
   ]
  },
  {
   "cell_type": "markdown",
   "metadata": {},
   "source": [
    "## 偏微分とは\n",
    "偏微分とは、微分の多次元版。\n",
    "例えば、$f(x,y)$という関数があった時に、yを定数とみなし$x$にだけ着目して微分することを$x$について偏微分するという。同様に、xを定数とみなし$y$にだけ着目して微分することを$y$について偏微分するという。"
   ]
  },
  {
   "cell_type": "markdown",
   "metadata": {},
   "source": [
    "## 偏微分の意味を確認する"
   ]
  },
  {
   "cell_type": "markdown",
   "metadata": {},
   "source": [
    "### 関数 $f(x,y)=(x-3)^2+(2y-1)^2$の描画"
   ]
  },
  {
   "cell_type": "code",
   "execution_count": null,
   "metadata": {},
   "outputs": [],
   "source": [
    "def fxy(x, y):\n",
    "    \"\"\"\n",
    "    対象となる関数\n",
    "    \"\"\"\n",
    "    return (x-3)**2 + (2*y-1)**2\n",
    "\n",
    "#目的関数の値をつくる\n",
    "axis_x = np.arange(-10,10,0.25)\n",
    "axis_y = np.arange(-10,10,0.25)\n",
    "mx, my = meshgrid(axis_x, axis_y) \n",
    "mz = fxy(mx, my)\n",
    "\n",
    "# 3次元で描画\n",
    "myplotly.graph3d(mx, my, mz, point_x=1,point_y=1,point_z=fxy(1,1), markersize=3)"
   ]
  },
  {
   "cell_type": "markdown",
   "metadata": {},
   "source": [
    "### 偏微分の意味を断面で確認する"
   ]
  },
  {
   "cell_type": "code",
   "execution_count": null,
   "metadata": {},
   "outputs": [],
   "source": [
    "def fx1(x):\n",
    "    \"\"\"\n",
    "    f(x,y)におけるy=5の断面の関数\n",
    "    f(x,y)をy=5で固定すると、f(x,y)=(x-3)^2+81になる\n",
    "    \"\"\"\n",
    "    return (x-3)**2 + 81\n",
    "\n",
    "def f1y(y):\n",
    "    \"\"\"\n",
    "    f(x,y)におけるx=1の断面の関数\n",
    "    f(x,y)をx=1で固定すると、f(x,y)=4+(2y-1)^2になる\n",
    "    \"\"\"\n",
    "    return 4+(2*y-1)**2\n",
    "\n",
    "def add_vec(f, x):\n",
    "    # 矢印（ベクトル）の始点\n",
    "    X = x\n",
    "    Y = f(x)\n",
    "\n",
    "    # 矢印（ベクトル）の成分\n",
    "    diff = numerical_diff(f, x)\n",
    "    print(diff)\n",
    "    U = 1 if diff  >=0  else -1\n",
    "    V = np.abs(diff)\n",
    "\n",
    "    # 矢印（ベクトル）の描画\n",
    "    plt.quiver(X,Y,U,V,angles='xy',scale_units='xy',scale=0.25)\n",
    "    \n",
    "\n",
    "# 偏微分を行う場所の指定\n",
    "x = 1\n",
    "y = 5\n",
    "\n",
    "# x方向の偏微分\n",
    "mz = fxy(axis_x, y)\n",
    "add_vec(fx1, x)\n",
    "plt.plot(axis_x, mz)\n",
    "plt.xlabel(\"x\")\n",
    "plt.ylabel(\"z\")\n",
    "plt.ylim(0,300)\n",
    "plt.show()\n",
    "\n",
    "# y方向の偏微分\n",
    "mz = fxy(x, axis_y)\n",
    "add_vec(f1y, y)\n",
    "plt.plot(axis_y, mz)\n",
    "plt.xlabel(\"y\")\n",
    "plt.ylabel(\"z\")\n",
    "plt.ylim(0,300)\n",
    "plt.show()"
   ]
  },
  {
   "cell_type": "markdown",
   "metadata": {},
   "source": [
    "## 勾配ベクトル\n",
    "偏微分をひとまとまりに表現すると以下のように書ける。  \n",
    "$$ \\nabla f(x,y)=(\\frac{\\partial f}{\\partial x}, \\frac{\\partial f}{\\partial y})$$\n",
    "これを勾配ベクトルと呼ぶ。  \n",
    "  \n",
    "勾配ベクトルは、ある場所から少し動いた時に関数の値が最も大きくなる方向とその大きさを表す。"
   ]
  },
  {
   "cell_type": "markdown",
   "metadata": {},
   "source": [
    "### [演習]\n",
    "* 勾配を求める以下の関数を完成させましょう。"
   ]
  },
  {
   "cell_type": "code",
   "execution_count": null,
   "metadata": {},
   "outputs": [],
   "source": [
    "# ヒント\n",
    "x = np.array([1,2,3,4,5]).astype(np.float32) # float型に変換しておく\n",
    "print(np.zeros_like(x))\n",
    "\n",
    "x = np.array([1,2,3,4,5]) # int型のままだと、少数以下が無視されてしまう\n",
    "print(x.dtype)\n",
    "x[0] = 1.001\n",
    "x[1] = 2.001\n",
    "x[2] = 3.999\n",
    "print(x)"
   ]
  },
  {
   "cell_type": "code",
   "execution_count": null,
   "metadata": {},
   "outputs": [],
   "source": [
    "def fxy(x):\n",
    "    \"\"\"\n",
    "    関数 f(x,y)=(x-3)^2+(2y-1)^2 をここに作る\n",
    "    汎用的に計算できるように、(x-3)^2+(2y-1)^2のxをx[0]、yをx[1]にする\n",
    "    xはベクトル\n",
    "    \"\"\"\n",
    "    return\n",
    "\n",
    "def numerical_gradient(f, x):\n",
    "    \"\"\"\n",
    "    全ての次元について、個々の次元だけの微分を求める\n",
    "    f : 関数\n",
    "    x : 偏微分を求めたい場所の座標。ベクトル\n",
    "    \"\"\"\n",
    "    h = \n",
    "    grad = \n",
    "\n",
    "    for i in range(       ):\n",
    "        \"\"\"\n",
    "        変数の数だけループを回す\n",
    "        \"\"\"\n",
    "        \n",
    "        # 値を一時保存\n",
    "        tmp_val = x[i]\n",
    "\n",
    "        #  対象の変数だけh動かし、その時の関数値を求める。この時、他の変数は固定\n",
    "        x[i] = tmp_val\n",
    "        fxh1 = f(x)\n",
    "\n",
    "        #  対象の変数だけ-h動かし、その時の関数値を求める。この時、他の変数は固定\n",
    "        x[i] = tmp_val\n",
    "        fxh2 = f(x)\n",
    "\n",
    "        # 数値微分を求める\n",
    "        grad[i] = \n",
    "        \n",
    "        # 一時保存しておいた値を戻す\n",
    "        x[i] =\n",
    "\n",
    "    return grad\n",
    "\n",
    "x = np.array([1,1]).astype(np.float32)\n",
    "grad = numerical_gradient(fxy, x)\n",
    "print(\"座標=%sの勾配ベクトル=%s\"%(x, grad))\n",
    "\n",
    "x = np.array([1,5]).astype(np.float32)\n",
    "grad = numerical_gradient(fxy, x)\n",
    "print(\"座標=%sの勾配ベクトル=%s\"%(x, grad))"
   ]
  },
  {
   "cell_type": "markdown",
   "metadata": {},
   "source": [
    "### [まとめ]\n",
    "* 偏微分は、微分を多次元に拡張したものと考えれば良い。\n",
    "* 勾配ベクトルは、ある場所から少し動いた時に関数の値が最も大きくなる方向とその大きさを表す。逆に、マイナスの勾配ベクトルは、ある場所から少し動いた時に関数の値が最も小さくなる方向とその大きさを表す。\n",
    "* 最急降下法では、負の勾配ベクトルを用いて、関数の値が最も小さくなるところを探す。\n",
    "* 負の勾配ベクトルは、あくまでも、局所的に関数の値が小さくなる方向を指し示すだけであって、関数の値が最も小さくなる場所へたどり着くことを保証しているわけではない。"
   ]
  }
 ],
 "metadata": {
  "kernelspec": {
   "display_name": "Python 3",
   "language": "python",
   "name": "python3"
  },
  "language_info": {
   "codemirror_mode": {
    "name": "ipython",
    "version": 3
   },
   "file_extension": ".py",
   "mimetype": "text/x-python",
   "name": "python",
   "nbconvert_exporter": "python",
   "pygments_lexer": "ipython3",
   "version": "3.7.3"
  }
 },
 "nbformat": 4,
 "nbformat_minor": 2
}
