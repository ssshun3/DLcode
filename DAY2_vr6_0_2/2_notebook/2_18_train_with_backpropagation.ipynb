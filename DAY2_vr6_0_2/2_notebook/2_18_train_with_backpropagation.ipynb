{
 "cells": [
  {
   "cell_type": "markdown",
   "metadata": {},
   "source": [
    "# 誤差逆伝播法を用いた学習"
   ]
  },
  {
   "cell_type": "code",
   "execution_count": 1,
   "metadata": {},
   "outputs": [],
   "source": [
    "import numpy as np\n",
    "import pandas as pd\n",
    "import matplotlib.pyplot as plt\n",
    "from common.layers import TwoLayerNet"
   ]
  },
  {
   "cell_type": "code",
   "execution_count": 2,
   "metadata": {
    "scrolled": true
   },
   "outputs": [],
   "source": [
    "# Load the MNIST dataset\n",
    "import tensorflow as tf\n",
    "mnist = tf.keras.datasets.mnist\n",
    "(X_train, y_train),(X_test, y_test) = mnist.load_data()\n",
    "\n",
    "from sklearn.preprocessing import LabelBinarizer\n",
    "lb = LabelBinarizer()\n",
    "\n",
    "train = X_train/255\n",
    "test = X_test/255\n",
    "train = train.reshape(-1, 28*28)\n",
    "test = test.reshape(-1, 28*28)\n",
    "train_labels = lb.fit_transform(y_train)\n",
    "test_labels = lb.fit_transform(y_test)"
   ]
  },
  {
   "cell_type": "code",
   "execution_count": 3,
   "metadata": {
    "scrolled": true
   },
   "outputs": [
    {
     "name": "stdout",
     "output_type": "stream",
     "text": [
      "epoch=0\n",
      "epoch=1\n",
      "epoch=2\n",
      "epoch=3\n",
      "epoch=4\n",
      "epoch=5\n",
      "epoch=6\n",
      "epoch=7\n",
      "epoch=8\n",
      "epoch=9\n",
      "epoch=10\n",
      "epoch=11\n",
      "epoch=12\n",
      "epoch=13\n",
      "epoch=14\n",
      "epoch=15\n",
      "epoch=16\n",
      "epoch=17\n",
      "epoch=18\n",
      "epoch=19\n",
      "epoch=20\n",
      "epoch=21\n",
      "epoch=22\n",
      "epoch=23\n",
      "epoch=24\n",
      "epoch=25\n",
      "epoch=26\n",
      "epoch=27\n",
      "epoch=28\n",
      "epoch=29\n",
      "epoch=30\n",
      "epoch=31\n",
      "epoch=32\n",
      "epoch=33\n",
      "epoch=34\n",
      "epoch=35\n",
      "epoch=36\n",
      "epoch=37\n",
      "epoch=38\n",
      "epoch=39\n",
      "epoch=40\n",
      "epoch=41\n",
      "epoch=42\n",
      "epoch=43\n",
      "epoch=44\n",
      "epoch=45\n",
      "epoch=46\n",
      "epoch=47\n",
      "epoch=48\n",
      "epoch=49\n",
      "epoch=50\n",
      "epoch=51\n",
      "epoch=52\n",
      "epoch=53\n",
      "epoch=54\n",
      "epoch=55\n",
      "epoch=56\n",
      "epoch=57\n",
      "epoch=58\n",
      "epoch=59\n",
      "epoch=60\n",
      "epoch=61\n",
      "epoch=62\n",
      "epoch=63\n",
      "epoch=64\n",
      "epoch=65\n",
      "epoch=66\n",
      "epoch=67\n",
      "epoch=68\n",
      "epoch=69\n",
      "epoch=70\n",
      "epoch=71\n",
      "epoch=72\n",
      "epoch=73\n",
      "epoch=74\n",
      "epoch=75\n",
      "epoch=76\n",
      "epoch=77\n",
      "epoch=78\n",
      "epoch=79\n",
      "epoch=80\n",
      "epoch=81\n",
      "epoch=82\n",
      "epoch=83\n",
      "epoch=84\n",
      "epoch=85\n",
      "epoch=86\n",
      "epoch=87\n",
      "epoch=88\n",
      "epoch=89\n",
      "epoch=90\n",
      "epoch=91\n",
      "epoch=92\n",
      "epoch=93\n",
      "epoch=94\n",
      "epoch=95\n",
      "epoch=96\n",
      "epoch=97\n",
      "epoch=98\n",
      "epoch=99\n"
     ]
    }
   ],
   "source": [
    "x = train[:1000,:]\n",
    "t = train_labels[:1000,:]\n",
    "\n",
    "epochs = 100\n",
    "batch_size = 25\n",
    "lr = 0.01\n",
    "\n",
    "# 繰り返し回数\n",
    "xsize = x.shape[0]\n",
    "iter_num = np.ceil(xsize / batch_size).astype(np.int)\n",
    "\n",
    "# 2層NNのオブジェクト生成\n",
    "tnet = TwoLayerNet(input_size=784, hidden_size=50, output_size=10)\n",
    "\n",
    "train_loss = []\n",
    "test_loss = []\n",
    "train_accuracy = []\n",
    "test_accuracy = []\n",
    "for epoch in range(epochs):\n",
    "    print(\"epoch=%s\"%epoch)\n",
    "    \n",
    "    # シャッフル\n",
    "    idx = np.arange(xsize)\n",
    "    np.random.shuffle(idx)\n",
    "\n",
    "    for it in range(iter_num):\n",
    "        \"\"\"\n",
    "        ランダムなミニバッチを順番に取り出す\n",
    "        \"\"\"\n",
    "        mask = idx[batch_size*it : batch_size*(it+1)]\n",
    "    \n",
    "        # ミニバッチの生成\n",
    "        x_train = x[mask]\n",
    "        t_train = t[mask]\n",
    "        \n",
    "        # 勾配の計算 (誤差逆伝播法を用いる) \n",
    "        grads = tnet.gradient(x_train, t_train)\n",
    "\n",
    "        # パラメータの更新\n",
    "        for key in tnet.params.keys():\n",
    "    #         print(key)\n",
    "            tnet.params[key] -= lr * grads[key]\n",
    "\n",
    "    ## 学習経過の記録\n",
    "    \n",
    "    # 訓練データにおけるloss\n",
    "    train_loss.append(tnet.loss(x,  t))\n",
    "    \n",
    "    # テストデータにおけるloss\n",
    "    test_loss.append(tnet.loss(test, test_labels))\n",
    "    \n",
    "    # 訓練データにて精度を確認\n",
    "    train_accuracy.append(tnet.accuracy(x, t))\n",
    "\n",
    "    # テストデータにて精度を算出\n",
    "    test_accuracy.append(tnet.accuracy(test, test_labels))"
   ]
  },
  {
   "cell_type": "code",
   "execution_count": 4,
   "metadata": {},
   "outputs": [
    {
     "data": {
      "image/png": "[encoded data removed]",
      "text/plain": [
       "<Figure size 432x288 with 1 Axes>"
      ]
     },
     "metadata": {
      "needs_background": "light"
     },
     "output_type": "display_data"
    }
   ],
   "source": [
    "# lossのグラフ化\n",
    "df_log = pd.DataFrame({\"train_loss\":train_loss,\n",
    "             \"test_loss\":test_loss,\n",
    "             \"train_accuracy\":train_accuracy,\n",
    "             \"test_accuracy\":test_accuracy})\n",
    "df_log.plot(style=['r-', 'r--', 'b-', 'b--'])\n",
    "plt.ylabel(\"Accuracy or loss\")\n",
    "plt.xlabel(\"epochs\")\n",
    "plt.show()"
   ]
  },
  {
   "cell_type": "code",
   "execution_count": null,
   "metadata": {},
   "outputs": [],
   "source": []
  }
 ],
 "metadata": {
  "kernelspec": {
   "display_name": "Python 3",
   "language": "python",
   "name": "python3"
  },
  "language_info": {
   "codemirror_mode": {
    "name": "ipython",
    "version": 3
   },
   "file_extension": ".py",
   "mimetype": "text/x-python",
   "name": "python",
   "nbconvert_exporter": "python",
   "pygments_lexer": "ipython3",
   "version": "3.7.3"
  }
 },
 "nbformat": 4,
 "nbformat_minor": 2
}
