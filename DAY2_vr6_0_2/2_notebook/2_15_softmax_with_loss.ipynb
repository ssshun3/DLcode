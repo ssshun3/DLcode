{
 "cells": [
  {
   "cell_type": "markdown",
   "metadata": {},
   "source": [
    "# Softmax_with_Lossレイヤの実装"
   ]
  },
  {
   "cell_type": "code",
   "execution_count": 1,
   "metadata": {},
   "outputs": [],
   "source": [
    "import numpy as np\n",
    "from common.activations import softmax\n",
    "from common.loss import cross_entropy_error"
   ]
  },
  {
   "cell_type": "markdown",
   "metadata": {},
   "source": [
    "## Softmax_with_Lossの実装"
   ]
  },
  {
   "cell_type": "markdown",
   "metadata": {},
   "source": [
    "### [演習]\n",
    "* 以下のSoftmax_with_Lossクラスを完成させましょう"
   ]
  },
  {
   "cell_type": "code",
   "execution_count": 2,
   "metadata": {},
   "outputs": [],
   "source": [
    "class SoftmaxWithLoss:\n",
    "    def __init__(self):\n",
    "        \n",
    "        # 初期値\n",
    "        self.loss = None\n",
    "        self.y = None # softmaxの出力\n",
    "        self.t = None # 正解データ\n",
    "\n",
    "    def forward(self, x, t):\n",
    "        \"\"\"\n",
    "        順伝播\n",
    "        \"\"\"\n",
    "        self.t = t\n",
    "        self.y = softmax(x)\n",
    "        self.loss = cross_entropy_error(self.y, self.t)\n",
    "        \n",
    "        return self.loss\n",
    "\n",
    "    def backward(self, dout=1):\n",
    "        \"\"\"\n",
    "        逆伝播\n",
    "        伝播する値をバッチサイズで割ること\n",
    "        dout=1は、他のレイヤと同じ使い方ができるように設定しているダミー変数\n",
    "        \"\"\"\n",
    "        batch_size = self.t.shape[0]\n",
    "        dx = (self.y - self.t) / batch_size\n",
    "\n",
    "        return dx"
   ]
  },
  {
   "cell_type": "code",
   "execution_count": 3,
   "metadata": {},
   "outputs": [
    {
     "name": "stdout",
     "output_type": "stream",
     "text": [
      "forward= 0.4076058141229194\n",
      "\n",
      "ソフトマックスの出力結果=\n",
      " [[0.09003057 0.24472847 0.66524096]\n",
      " [0.66524096 0.24472847 0.09003057]]\n",
      "\n",
      "dLdx=\n",
      " [[ 0.04501529  0.12236424 -0.16737952]\n",
      " [-0.16737952  0.12236424  0.04501529]]\n"
     ]
    }
   ],
   "source": [
    "# 行列入力\n",
    "x = np.array([\n",
    "            [1, 2, 3],\n",
    "            [3, 2, 1]])\n",
    "t = np.array([\n",
    "            [0, 0, 1],\n",
    "            [1, 0, 0]])\n",
    "\n",
    "# 順伝播\n",
    "softmaxloss = SoftmaxWithLoss()\n",
    "out = softmaxloss.forward(x, t)\n",
    "print(\"forward=\", out)\n",
    "print()\n",
    "print(\"ソフトマックスの出力結果=\\n\", softmaxloss.y)\n",
    "print()\n",
    "\n",
    "# 逆伝播\n",
    "dLdx = softmaxloss.backward()\n",
    "print(\"dLdx=\\n\", dLdx)"
   ]
  },
  {
   "cell_type": "code",
   "execution_count": null,
   "metadata": {},
   "outputs": [],
   "source": []
  }
 ],
 "metadata": {
  "kernelspec": {
   "display_name": "Python 3",
   "language": "python",
   "name": "python3"
  },
  "language_info": {
   "codemirror_mode": {
    "name": "ipython",
    "version": 3
   },
   "file_extension": ".py",
   "mimetype": "text/x-python",
   "name": "python",
   "nbconvert_exporter": "python",
   "pygments_lexer": "ipython3",
   "version": "3.7.3"
  }
 },
 "nbformat": 4,
 "nbformat_minor": 2
}
